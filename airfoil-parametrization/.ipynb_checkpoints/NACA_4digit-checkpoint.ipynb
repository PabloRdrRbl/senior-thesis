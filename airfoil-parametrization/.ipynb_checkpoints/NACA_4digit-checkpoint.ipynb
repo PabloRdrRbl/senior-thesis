{
 "cells": [
  {
   "cell_type": "code",
   "execution_count": 1,
   "metadata": {},
   "outputs": [],
   "source": [
    "%matplotlib inline\n",
    "import numpy as np\n",
    "import matplotlib.pyplot as plt"
   ]
  },
  {
   "cell_type": "code",
   "execution_count": 2,
   "metadata": {},
   "outputs": [],
   "source": [
    "def NACA4(s):\n",
    "\n",
    "    #definition of the NACA profile as XXXX\n",
    "    NACA = s\n",
    "    c = 1 #chord line\n",
    "\n",
    "    #NACA XXXX = m p (pt)\n",
    "    m = int(int(NACA)/1e3)/1e2 #maximum camber\n",
    "    p = int((int(NACA)-m*1e5)/1e2)/1e1 #location of maximum camber\n",
    "    pt = int((int(NACA)-m*1e5-p*1e3)) #percentage of thickness with respect to the chord\n",
    "\n",
    "\n",
    "    #mean camber line definition\n",
    "    if p != 0:\n",
    "        x = np.append(np.linspace(0,p/100*c,126)[:-1],np.linspace(p/100*c,c,75))\n",
    "        x_pc = x<(p*c) #masked array to create the piece-wise function\n",
    "\n",
    "        yc1 = ((c*m)/(p**2))*(2*p*(x/c)-(x/c)**2)\n",
    "        yc2 = ((c*m)/((1-p)**2))*((1-2*p)+2*p*(x/c)-(x/c)**2)\n",
    "\n",
    "        yc = np.zeros(np.shape(x))\n",
    "\n",
    "        for i in range(np.shape(x)[0]):\n",
    "            if x_pc[i] == True:\n",
    "                yc[i] = yc1[i]\n",
    "            else:\n",
    "                yc[i] = yc2[i]\n",
    "\n",
    "        #mean camber line derivative\n",
    "        dyc1dx = (2*m)/(p**2)*(p-(x/c))\n",
    "        dyc2dx = (2*m)/((1-p)**2)*(p-(x/c))\n",
    "\n",
    "        dycdx = np.zeros(np.shape(x))\n",
    "\n",
    "        for i in range(np.shape(x)[0]):\n",
    "            if x_pc[i] == True:\n",
    "                dycdx[i] = dyc1dx[i]\n",
    "            else:\n",
    "                dycdx[i] = dyc2dx[i]\n",
    "\n",
    "        theta = np.arctan(dycdx)\n",
    "\n",
    "        plt.plot(x,yc1,'--k',label='yc1')\n",
    "        plt.plot(x,yc2,'-.k',label='yc2')\n",
    "        plt.plot(x,0.01*x_pc,':',color='grey', label='Masked matrix')\n",
    "        plt.plot(x,yc,label='Mean camber')\n",
    "        plt.legend()\n",
    "    else:\n",
    "        #symmetric airfoil camber line\n",
    "        x = np.linspace(0,c,200)\n",
    "        yc = np.zeros(np.shape(x))\n",
    "\n",
    "        plt.plot(x,yc,label='Mean camber')\n",
    "        plt.legend()\n",
    "\n",
    "\n",
    "    #thickness\n",
    "    if p != 0:\n",
    "        yt = 5*pt/100*(0.2969*np.sqrt(x/c)-0.1260*(x/c)-0.3516*(x/c)**2+0.2843*(x/c)**3-0.1036*(x/c)**4)\n",
    "        xu = x - yt*np.sin(theta)\n",
    "        xl = x + yt*np.sin(theta)\n",
    "        yu = yc + yt*np.cos(theta)\n",
    "        yl = yc - yt*np.cos(theta)\n",
    "\n",
    "\n",
    "        fig, ax = plt.subplots()\n",
    "\n",
    "        ax.set_xlim(-c*0.1,1.1*c)\n",
    "        ax.axis('equal')\n",
    "        ax.axis('off')\n",
    "        ax.plot(xu,yu,'b')\n",
    "        ax.plot(xl,yl,'b')\n",
    "        ax.fill_between(x, yu, yl,facecolor='blue',alpha=0.1)\n",
    "        ax.plot(x,yc,'r',linewidth=0.7)\n",
    "        ax.plot([0,c],[0,0],'g',linewidth=0.6)\n",
    "\n",
    "    else:\n",
    "        yt = 5*pt/100*(0.2969*np.sqrt(x/c)-0.1260*(x/c)-0.3516*(x/c)**2+0.2843*(x/c)**3-0.1036*(x/c)**4)\n",
    "\n",
    "        fig, ax = plt.subplots()\n",
    "\n",
    "        ax.set_xlim(-c*0.1,1.1*c)\n",
    "        ax.axis('equal')\n",
    "        ax.axis('off')\n",
    "        ax.plot(x,yt,'b')\n",
    "        ax.plot(x,-yt,'b')\n",
    "        ax.fill_between(x, -yt, yt,facecolor='blue',alpha=0.1)\n",
    "        ax.plot(x,yc,'r',linewidth=0.7)\n",
    "        ax.plot([0,c],[0,0],'g',linewidth=0.6)"
   ]
  },
  {
   "cell_type": "code",
   "execution_count": 3,
   "metadata": {},
   "outputs": [
    {
     "data": {
      "image/png": "[encoded data removed]",
      "text/plain": [
       "<matplotlib.figure.Figure at 0x7fd7d382ab00>"
      ]
     },
     "metadata": {},
     "output_type": "display_data"
    },
    {
     "data": {
      "image/png": "[encoded data removed]",
      "text/plain": [
       "<matplotlib.figure.Figure at 0x7fd7d37e0978>"
      ]
     },
     "metadata": {},
     "output_type": "display_data"
    }
   ],
   "source": [
    "NACA4('0010')"
   ]
  },
  {
   "cell_type": "markdown",
   "metadata": {},
   "source": [
    "## Stuff for mesh generation"
   ]
  },
  {
   "cell_type": "markdown",
   "metadata": {},
   "source": [
    "Equations for simple grading are:\n",
    "\n",
    "$$\n",
    "\\begin{Bmatrix}\n",
    "\\delta_1 = k \\delta_0 && \\delta_2= k\\delta_1 = k^2 \\delta_0 && \\delta_{N-1}=k^{N-1}\\delta_0 \\\\\n",
    "&& \\varepsilon = \\dfrac{\\delta_e}{\\delta_s} = \\dfrac{\\delta_{N-1}}{\\delta_0} && \\delta_{N-1}=\\varepsilon\\delta_0\n",
    "\\end{Bmatrix} \\longrightarrow {\\varepsilon = k^{N-1}}\n",
    "$$\n",
    "\n",
    "\n",
    "$$\n",
    "L= \\sum\\limits^{N-1}_{i=0} \\delta_i = \\delta_0 + \\delta_1 + \\delta_2 + \\delta_3 + ... + \\delta_{N-1} = k^0\\delta_0 + k^1\\delta_0 + k^2\\delta_0 + k^3\\delta_0 + ... + k^{N-1}\\delta_0 = \\delta_0 \\sum\\limits^{N-1}_{i=0} k^{i} \\longrightarrow \\delta_0 = \\dfrac{L}{\\sum\\limits^{N-1}_{i=0} k^i} \n",
    "$$\n",
    "\n",
    "<img src=\"simpleGrading.svg\" alt=\"simple-grading pic should be here\" style=\"width: 500px;\"/>"
   ]
  },
  {
   "cell_type": "code",
   "execution_count": 39,
   "metadata": {},
   "outputs": [],
   "source": [
    "def simple_grading(N, expRatio, L):\n",
    "    delta = np.zeros(N) #size of each cell array\n",
    "    nodes = np.zeros(N+1) #position of the nodes\n",
    "\n",
    "    kVal = expRatio**((1)/(N-1)) \n",
    "    k = np.zeros(N) #increment of each cell\n",
    "\n",
    "    for i in range(N):\n",
    "        k[i] = kVal**(i) \n",
    "\n",
    "    deltaS = L/np.sum(k)  #first cell size \n",
    "\n",
    "    delta = deltaS*k #size of each cell\n",
    "    \n",
    "    for i in range(N):\n",
    "        nodes[i+1] = nodes[i] + delta[i]\n",
    "        \n",
    "    return nodes, delta"
   ]
  },
  {
   "cell_type": "code",
   "execution_count": 63,
   "metadata": {},
   "outputs": [],
   "source": [
    "def grading_plot(x): #nodes should be imported\n",
    "\n",
    "    y = 0.5*np.ones(np.shape(x)[0])\n",
    "    \n",
    "    fig, ax = plt.subplots()\n",
    "        \n",
    "    ax.set_xlim(-x[1]*0.5,1.1*x[-1])\n",
    "    ax.set_ylim(0,1)\n",
    "    ax.axis('off')\n",
    "    ax.plot([x[0],x[-1]],[y[0],y[-1]],'k')\n",
    "    ax.scatter(x,y,c='k')"
   ]
  },
  {
   "cell_type": "code",
   "execution_count": 68,
   "metadata": {},
   "outputs": [
    {
     "data": {
      "image/png": "[encoded data removed]",
      "text/plain": [
       "<matplotlib.figure.Figure at 0x7fd7d146e128>"
      ]
     },
     "metadata": {},
     "output_type": "display_data"
    }
   ],
   "source": [
    "nodes, delta = simple_grading(10, 1, 1)\n",
    "grading_plot(nodes)"
   ]
  },
  {
   "cell_type": "code",
   "execution_count": null,
   "metadata": {},
   "outputs": [],
   "source": []
  }
 ],
 "metadata": {
  "kernelspec": {
   "display_name": "Python 3",
   "language": "python",
   "name": "python3"
  },
  "language_info": {
   "codemirror_mode": {
    "name": "ipython",
    "version": 3
   },
   "file_extension": ".py",
   "mimetype": "text/x-python",
   "name": "python",
   "nbconvert_exporter": "python",
   "pygments_lexer": "ipython3",
   "version": "3.6.1"
  }
 },
 "nbformat": 4,
 "nbformat_minor": 2
}
