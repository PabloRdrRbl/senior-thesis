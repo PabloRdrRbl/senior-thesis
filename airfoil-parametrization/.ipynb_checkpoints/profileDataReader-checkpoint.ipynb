{
 "cells": [
  {
   "cell_type": "code",
   "execution_count": 1,
   "metadata": {},
   "outputs": [],
   "source": [
    "#matplotlib inline\n",
    "import matplotlib.pyplot as plt\n",
    "import numpy as np\n",
    "import os"
   ]
  },
  {
   "cell_type": "markdown",
   "metadata": {},
   "source": [
    "In this file, conversion from a data file with the coordinates of some profile will be normalized (to have a total chord length of 1), ordered and stored (in four arrays going from 0 to 1 in the x-axis with the respective upper and lower surfaces). These code will afterwards used to create a function - that will eventually be implemented in the mesh generator (removing the restriction of the airfoil of being a NACA 4 series). The first inconvenient that the code must face is that positive y values are usually separated with two spaces '  ' while negative values have just one space ' '."
   ]
  },
  {
   "cell_type": "code",
   "execution_count": 100,
   "metadata": {},
   "outputs": [],
   "source": [
    "#Set the name of the file with the coordinates\n",
    "filename = \"n63412\"\n",
    "file = open(filename, \"r\")\n",
    "file_str = file.read()\n",
    "file_str = file_str.replace(\"  \", \" \")\n",
    "\n",
    "os.system(\"rm %s\" %filename)\n",
    "\n",
    "file = open(filename, \"w\")\n",
    "\n",
    "file.write(file_str)\n",
    "file.close()"
   ]
  },
  {
   "cell_type": "code",
   "execution_count": 102,
   "metadata": {},
   "outputs": [],
   "source": [
    "airfoil_pts = np.genfromtxt(filename, skip_header=1, delimiter=' ')\n",
    "slices = np.linspace(0, len(airfoil_pts)-1, len(airfoil_pts))"
   ]
  },
  {
   "cell_type": "code",
   "execution_count": 103,
   "metadata": {},
   "outputs": [
    {
     "name": "stdout",
     "output_type": "stream",
     "text": [
      "[  0.  25.  50.]\n"
     ]
    }
   ],
   "source": [
    "y_inter = airfoil_pts[:,1] == 0\n",
    "\n",
    "print(slices[y_inter])"
   ]
  },
  {
   "cell_type": "code",
   "execution_count": 104,
   "metadata": {},
   "outputs": [],
   "source": [
    "pos_side = airfoil_pts[:int(slices[y_inter][1]+1), :]\n",
    "pos_side = pos_side[pos_side[:, 0].argsort()]\n",
    "\n",
    "neg_side = airfoil_pts[int(slices[y_inter][1]):, :]\n",
    "neg_side = neg_side[neg_side[:, 0].argsort()]\n",
    "\n",
    "xu = pos_side[:,0]\n",
    "yu = pos_side[:,1]\n",
    "xl = neg_side[:,0]\n",
    "yl = neg_side[:,1]\n"
   ]
  },
  {
   "cell_type": "code",
   "execution_count": 105,
   "metadata": {},
   "outputs": [
    {
     "data": {
      "text/plain": [
       "[<matplotlib.lines.Line2D at 0x7f86cc569da0>]"
      ]
     },
     "execution_count": 105,
     "metadata": {},
     "output_type": "execute_result"
    },
    {
     "data": {
      "image/png": "[encoded data removed]",
      "text/plain": [
       "<matplotlib.figure.Figure at 0x7f86cc5691d0>"
      ]
     },
     "metadata": {},
     "output_type": "display_data"
    }
   ],
   "source": [
    "fig, ax1 = plt.subplots(1, figsize = (10,5), dpi = 100)\n",
    "\n",
    "ax1.set_xlim(-0.1,1.1)\n",
    "ax1.axis('equal')\n",
    "ax1.axis('off')\n",
    "ax1.plot(xu,yu,'b')\n",
    "ax1.plot(xl,yl,'b')"
   ]
  },
  {
   "cell_type": "code",
   "execution_count": null,
   "metadata": {},
   "outputs": [],
   "source": []
  }
 ],
 "metadata": {
  "kernelspec": {
   "display_name": "Python 3",
   "language": "python",
   "name": "python3"
  },
  "language_info": {
   "codemirror_mode": {
    "name": "ipython",
    "version": 3
   },
   "file_extension": ".py",
   "mimetype": "text/x-python",
   "name": "python",
   "nbconvert_exporter": "python",
   "pygments_lexer": "ipython3",
   "version": "3.6.1"
  }
 },
 "nbformat": 4,
 "nbformat_minor": 2
}
