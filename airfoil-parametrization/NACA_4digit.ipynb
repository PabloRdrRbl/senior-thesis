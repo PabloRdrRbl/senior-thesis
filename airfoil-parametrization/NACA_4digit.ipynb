{
 "cells": [
  {
   "cell_type": "code",
   "execution_count": 1,
   "metadata": {},
   "outputs": [],
   "source": [
    "%matplotlib inline\n",
    "import numpy as np\n",
    "import matplotlib.pyplot as plt\n",
    "import math"
   ]
  },
  {
   "cell_type": "code",
   "execution_count": 2,
   "metadata": {},
   "outputs": [],
   "source": [
    "def NACA4(s):\n",
    "\n",
    "    #definition of the NACA profile as XXXX\n",
    "    NACA = s\n",
    "    c = 1 #chord line\n",
    "\n",
    "    #NACA XXXX = m p (pt)\n",
    "    m = int(int(NACA)/1e3)/1e2 #maximum camber\n",
    "    p = int((int(NACA)-m*1e5)/1e2)/1e1 #location of maximum camber\n",
    "    pt = int((int(NACA)-m*1e5-p*1e3)) #percentage of thickness with respect to the chord\n",
    "\n",
    "    #figure definition\n",
    "    fig = plt.gcf()\n",
    "    fig.set_size_inches(20,12)\n",
    "    ax1 = plt.subplot(1,2,1)\n",
    "    ax2 = plt.subplot(1,2,2)\n",
    "    \n",
    "    #mean camber line definition\n",
    "    if p != 0:\n",
    "        x = np.append(np.linspace(0,p/100*c,500)[:-1],np.linspace(p/100*c,c,250))\n",
    "        x_pc = x<(p*c) #masked array to create the piece-wise function\n",
    "\n",
    "        yc1 = ((c*m)/(p**2))*(2*p*(x/c)-(x/c)**2)\n",
    "        yc2 = ((c*m)/((1-p)**2))*((1-2*p)+2*p*(x/c)-(x/c)**2)\n",
    "\n",
    "        yc = np.zeros(np.shape(x))\n",
    "\n",
    "        for i in range(np.shape(x)[0]):\n",
    "            if x_pc[i] == True:\n",
    "                yc[i] = yc1[i]\n",
    "            else:\n",
    "                yc[i] = yc2[i]\n",
    "\n",
    "        #mean camber line derivative\n",
    "        dyc1dx = (2*m)/(p**2)*(p-(x/c))\n",
    "        dyc2dx = (2*m)/((1-p)**2)*(p-(x/c))\n",
    "\n",
    "        dycdx = np.zeros(np.shape(x))\n",
    "\n",
    "        for i in range(np.shape(x)[0]):\n",
    "            if x_pc[i] == True:\n",
    "                dycdx[i] = dyc1dx[i]\n",
    "            else:\n",
    "                dycdx[i] = dyc2dx[i]\n",
    "\n",
    "        theta = np.arctan(dycdx)\n",
    "\n",
    "        ax1.plot(x,yc1,'--k',label='yc1')\n",
    "        ax1.plot(x,yc2,'-.k',label='yc2')\n",
    "        ax1.plot(x,0.01*x_pc,':',color='grey', label='Masked matrix')\n",
    "        ax1.plot(x,yc,label='Mean camber')\n",
    "        ax1.legend()\n",
    "    else:\n",
    "        #symmetric airfoil camber line\n",
    "        x = np.linspace(0,c,750)\n",
    "        yc = np.zeros(np.shape(x))\n",
    "\n",
    "        ax1.plot(x,yc,label='Mean camber')\n",
    "        ax1.legend()\n",
    "\n",
    "\n",
    "    #thickness\n",
    "    if p != 0:\n",
    "        yt = 5*pt/100*(0.2969*np.sqrt(x/c)-0.1260*(x/c)-0.3516*(x/c)**2+0.2843*(x/c)**3-0.1036*(x/c)**4)\n",
    "        xu = x - yt*np.sin(theta)\n",
    "        xl = x + yt*np.sin(theta)\n",
    "        yu = yc + yt*np.cos(theta)\n",
    "        yl = yc - yt*np.cos(theta)\n",
    "\n",
    "        ax2.set_xlim(-c*0.1,1.1*c)\n",
    "        ax2.axis('equal')\n",
    "        ax2.axis('off')\n",
    "        ax2.plot(xu,yu,'b')\n",
    "        ax2.plot(xl,yl,'b')\n",
    "        ax2.fill_between(x, yu, yl,facecolor='blue',alpha=0.1)\n",
    "        ax2.plot(x,yc,'r',linewidth=0.7)\n",
    "        ax2.plot([0,c],[0,0],'g',linewidth=0.6)\n",
    "        \n",
    "        return xu, xl, yu, yl\n",
    "        \n",
    "    else:\n",
    "        yt = 5*pt/100*(0.2969*np.sqrt(x/c)-0.1260*(x/c)-0.3516*(x/c)**2+0.2843*(x/c)**3-0.1036*(x/c)**4)\n",
    "\n",
    "        ax2.set_xlim(-c*0.1,1.1*c)\n",
    "        ax2.axis('equal')\n",
    "        ax2.axis('off')\n",
    "        ax2.plot(x,yt,'b')\n",
    "        ax2.plot(x,-yt,'b')\n",
    "        ax2.fill_between(x, -yt, yt,facecolor='blue',alpha=0.1)\n",
    "        ax2.plot(x,yc,'r',linewidth=0.7)\n",
    "        ax2.plot([0,c],[0,0],'g',linewidth=0.6)\n",
    "\n",
    "        return x, x, yt, -yt"
   ]
  },
  {
   "cell_type": "code",
   "execution_count": 3,
   "metadata": {},
   "outputs": [
    {
     "data": {
      "image/png": "[encoded data removed]",
      "text/plain": [
       "<matplotlib.figure.Figure at 0x7f16a22b5978>"
      ]
     },
     "metadata": {},
     "output_type": "display_data"
    }
   ],
   "source": [
    "xu, xl, yu, yl = NACA4('0007')"
   ]
  },
  {
   "cell_type": "markdown",
   "metadata": {},
   "source": [
    "## Stuff for mesh generation - simpleGrading"
   ]
  },
  {
   "cell_type": "markdown",
   "metadata": {},
   "source": [
    "Equations for simple grading are:\n",
    "\n",
    "$$\n",
    "\\begin{Bmatrix}\n",
    "\\delta_1 = k \\delta_0 && \\delta_2= k\\delta_1 = k^2 \\delta_0 && \\delta_{N-1}=k^{N-1}\\delta_0 \\\\\n",
    "&& \\varepsilon = \\dfrac{\\delta_e}{\\delta_s} = \\dfrac{\\delta_{N-1}}{\\delta_0} && \\delta_{N-1}=\\varepsilon\\delta_0\n",
    "\\end{Bmatrix} \\longrightarrow {\\varepsilon = k^{N-1}}\n",
    "$$\n",
    "\n",
    "\n",
    "$$\n",
    "L= \\sum\\limits^{N-1}_{i=0} \\delta_i = \\delta_0 + \\delta_1 + \\delta_2 + \\delta_3 + ... + \\delta_{N-1} = k^0\\delta_0 + k^1\\delta_0 + k^2\\delta_0 + k^3\\delta_0 + ... + k^{N-1}\\delta_0 = \\delta_0 \\sum\\limits^{N-1}_{i=0} k^{i} \\longrightarrow \\delta_0 = \\dfrac{L}{\\sum\\limits^{N-1}_{i=0} k^i} \n",
    "$$\n",
    "\n",
    "<img src=\"simpleGrading.svg\" alt=\"simple-grading pic should be here\" style=\"width: 5000px;\"/>"
   ]
  },
  {
   "cell_type": "code",
   "execution_count": 8,
   "metadata": {},
   "outputs": [],
   "source": [
    "def simple_grading(N, expRatio, L):\n",
    "    delta = np.zeros(N) #size of each cell array\n",
    "    nodes = np.zeros(N+1) #position of the nodes\n",
    "\n",
    "    kVal = expRatio**((1)/(N-1)) \n",
    "    k = np.zeros(N) #increment of each cell\n",
    "\n",
    "    for i in range(N):\n",
    "        k[i] = kVal**(i) \n",
    "\n",
    "    deltaS = L/np.sum(k)  #first cell size \n",
    "\n",
    "    delta = deltaS*k #size of each cell\n",
    "    \n",
    "    for i in range(N):\n",
    "        nodes[i+1] = nodes[i] + delta[i]\n",
    "        \n",
    "#    return nodes, delta\n",
    "    return nodes"
   ]
  },
  {
   "cell_type": "code",
   "execution_count": 9,
   "metadata": {},
   "outputs": [],
   "source": [
    "def grading_plot(x): #nodes should be imported\n",
    "\n",
    "    y = 0.5*np.ones(np.shape(x)[0])\n",
    "    \n",
    "    fig, ax = plt.subplots(figsize=(20, 1), dpi=100)\n",
    "        \n",
    "    ax.set_xlim(-x[1]*0.5,1.1*x[-1])\n",
    "    ax.set_ylim(0,1)\n",
    "    ax.axis('off')\n",
    "    ax.plot([x[0],x[-1]],[y[0],y[-1]],'k')\n",
    "    ax.scatter(x,y,c='k')"
   ]
  },
  {
   "cell_type": "code",
   "execution_count": 10,
   "metadata": {},
   "outputs": [
    {
     "data": {
      "image/png": "[encoded data removed]",
      "text/plain": [
       "<matplotlib.figure.Figure at 0x7f174a300b38>"
      ]
     },
     "metadata": {},
     "output_type": "display_data"
    }
   ],
   "source": [
    "nodes = simple_grading(50, 0.1, 1)\n",
    "grading_plot(nodes)"
   ]
  },
  {
   "cell_type": "markdown",
   "metadata": {},
   "source": [
    "## Stuff for mesh generation - multiGrading"
   ]
  },
  {
   "cell_type": "markdown",
   "metadata": {},
   "source": [
    "Simply dividing the hwole length L in the number of segments specified - having each segment a length, number of cells and expansion ratio that works as simpleGrading"
   ]
  },
  {
   "cell_type": "code",
   "execution_count": 11,
   "metadata": {},
   "outputs": [],
   "source": [
    "def multi_grading(perc, cells, eps, N, L): \n",
    "    \n",
    "    #some initial shape and value comprobations\n",
    "    if np.sum(perc) != 1:\n",
    "        print('Bad percentage array input')\n",
    "        return\n",
    "\n",
    "    if np.sum(cells) != 1:\n",
    "        print('Bad cell array input')\n",
    "        return\n",
    "    \n",
    "    if np.shape(perc)[0] != np.shape(cells)[0] or np.shape(perc)[0] != np.shape(eps)[0] or np.shape(cells)[0] != np.shape(eps)[0]:\n",
    "        print('Non equal vector definition')\n",
    "        return\n",
    "        \n",
    "    segmentN = (N*cells) #cells per segment\n",
    "    restCells = np.modf(segmentN)[0] #in case there are decimal values\n",
    "    segmentN = np.trunc(segmentN) #integer value of the cells\n",
    "\n",
    "    i = np.sum(restCells) #distributor of the 'decimal' parts of the cells\n",
    "    while i > 0:\n",
    "        segmentN[np.argmax(restCells)] = segmentN[np.argmax(restCells)] + int(i)\n",
    "        restCells[np.argmax(restCells)] = 0\n",
    "        i -= 1\n",
    "   \n",
    "    segmentL = (L*perc) #length per segment\n",
    "\n",
    "    nodes = np.zeros(N+1) #number of nodes\n",
    "        \n",
    "    for i in range(np.shape(perc)[0]):\n",
    "        nodesTemp = simple_grading(int(segmentN[i]), eps[i], segmentL[i])\n",
    "        for j in range(np.shape(nodesTemp)[0]):\n",
    "            if i == 0:\n",
    "                nodes[j] = nodesTemp[j]\n",
    "            else:\n",
    "                nodes[int(np.cumsum(segmentN)[i-1]) + j] = nodesTemp[j] + nodes[int(np.cumsum(segmentN)[i-1])]\n",
    "\n",
    "    return nodes"
   ]
  },
  {
   "cell_type": "code",
   "execution_count": 12,
   "metadata": {},
   "outputs": [
    {
     "data": {
      "image/png": "[encoded data removed]",
      "text/plain": [
       "<matplotlib.figure.Figure at 0x7f1749fa6128>"
      ]
     },
     "metadata": {},
     "output_type": "display_data"
    }
   ],
   "source": [
    "perc = np.array([0.3,0.4,0.3])\n",
    "cells = np.array([0.6,0.2,0.2])\n",
    "exp = np.array([12,1.2,0.2])\n",
    "\n",
    "xAxis = multi_grading(perc, cells, exp, 20, 1)\n",
    "grading_plot(xAxis)"
   ]
  },
  {
   "cell_type": "markdown",
   "metadata": {},
   "source": [
    "## NACA 4 digit points referred to the selected horizontal axis"
   ]
  },
  {
   "cell_type": "markdown",
   "metadata": {},
   "source": [
    "Interpolating the whole bunch of points from xu matrix (and its respectives yu coordinates) and from xl matrix (and yl) with the new axis points"
   ]
  },
  {
   "cell_type": "code",
   "execution_count": 13,
   "metadata": {},
   "outputs": [
    {
     "data": {
      "image/png": "[encoded data removed]",
      "text/plain": [
       "<matplotlib.figure.Figure at 0x7f174a2e60f0>"
      ]
     },
     "metadata": {},
     "output_type": "display_data"
    }
   ],
   "source": [
    "grading_plot(xu)"
   ]
  },
  {
   "cell_type": "code",
   "execution_count": 18,
   "metadata": {},
   "outputs": [],
   "source": [
    "def airfoilTrueX(newX, xu, yu, xl, yl):\n",
    "    yuAxis = np.interp(newX, xu, yu)\n",
    "    ylAxis = np.interp(newX, xl, yl)\n",
    "    return yuAxis, ylAxis"
   ]
  },
  {
   "cell_type": "code",
   "execution_count": 19,
   "metadata": {},
   "outputs": [],
   "source": [
    "yuAxis, ylAxis = airfoilTrueX(xAxis, xu, yu, xl, yl)"
   ]
  },
  {
   "cell_type": "code",
   "execution_count": 25,
   "metadata": {},
   "outputs": [
    {
     "data": {
      "text/plain": [
       "[<matplotlib.lines.Line2D at 0x7f174a5eacf8>]"
      ]
     },
     "execution_count": 25,
     "metadata": {},
     "output_type": "execute_result"
    },
    {
     "data": {
      "image/png": "[encoded data removed]",
      "text/plain": [
       "<matplotlib.figure.Figure at 0x7f174a6315f8>"
      ]
     },
     "metadata": {},
     "output_type": "display_data"
    }
   ],
   "source": [
    "fig = plt.gcf()\n",
    "fig.set_size_inches(20,8)\n",
    "plt.axis('equal')\n",
    "plt.axis('off')\n",
    "plt.plot(xu,yu,'b',linewidth = 4)\n",
    "plt.plot(xl,yl,'b',linewidth = 4)\n",
    "plt.plot(xAxis,yuAxis,'r.-', linewidth = 2)\n",
    "plt.plot(xAxis,ylAxis,'r.-', linewidth = 2)"
   ]
  },
  {
   "cell_type": "markdown",
   "metadata": {},
   "source": [
    "## Points storage in file"
   ]
  },
  {
   "cell_type": "code",
   "execution_count": 28,
   "metadata": {},
   "outputs": [
    {
     "name": "stdout",
     "output_type": "stream",
     "text": [
      "[[ 0.          0.          0.        ]\n",
      " [ 0.00541508 -0.01057376  0.01057376]\n",
      " [ 0.01220261 -0.01560103  0.01560103]\n",
      " [ 0.02071045 -0.01998187  0.01998187]\n",
      " [ 0.03137461 -0.0241479   0.0241479 ]\n",
      " [ 0.04474162 -0.0282414   0.0282414 ]\n",
      " [ 0.0614965  -0.03230641  0.03230641]\n",
      " [ 0.08249794 -0.03632177  0.03632177]\n",
      " [ 0.1088222  -0.04020896  0.04020896]\n",
      " [ 0.14181838 -0.04381849  0.04381849]\n",
      " [ 0.18317748 -0.04691178  0.04691178]\n",
      " [ 0.23501908 -0.04913761  0.04913761]\n",
      " [ 0.3        -0.05000581  0.05000581]\n",
      " [ 0.39107672 -0.04860058  0.04860058]\n",
      " [ 0.48786017 -0.04468221  0.04468221]\n",
      " [ 0.59070794 -0.03853031  0.03853031]\n",
      " [ 0.7        -0.03028043  0.03028043]\n",
      " [ 0.84105707 -0.01745033  0.01745033]\n",
      " [ 0.92354775 -0.00882317  0.00882317]\n",
      " [ 0.97178859 -0.00335567  0.00335567]\n",
      " [ 1.          0.          0.        ]]\n"
     ]
    }
   ],
   "source": [
    "prof = np.zeros((np.shape(xAxis)[0],3))\n",
    "prof[:, 0] = xAxis\n",
    "prof[:, 1] = ylAxis\n",
    "prof[:, 2] = yuAxis\n",
    "\n",
    "#let's force the leading edge to be (0,0,0) and the trailing edge to be (1,0,0) to avoid too small numerical values\n",
    "prof[0,:] = np.array([0.0,0.0,0.0])\n",
    "prof[-1,:] = np.array([1.0,0.0,0.0])\n",
    "\n",
    "print(prof)"
   ]
  },
  {
   "cell_type": "markdown",
   "metadata": {},
   "source": [
    "Although a most intelligent way of saving them is beggining from the trailing edge and ending again there, having the points ordered going first towards negative X and then towards positive X (i.e. from 1 to 0 and from 0 to 1). Upper surface was chosen as first one to follow."
   ]
  },
  {
   "cell_type": "code",
   "execution_count": 56,
   "metadata": {},
   "outputs": [
    {
     "name": "stdout",
     "output_type": "stream",
     "text": [
      "[[ 1.          0.        ]\n",
      " [ 0.97178859  0.00335567]\n",
      " [ 0.92354775  0.00882317]\n",
      " [ 0.84105707  0.01745033]\n",
      " [ 0.7         0.03028043]\n",
      " [ 0.59070794  0.03853031]\n",
      " [ 0.48786017  0.04468221]\n",
      " [ 0.39107672  0.04860058]\n",
      " [ 0.3         0.05000581]\n",
      " [ 0.23501908  0.04913761]\n",
      " [ 0.18317748  0.04691178]\n",
      " [ 0.14181838  0.04381849]\n",
      " [ 0.1088222   0.04020896]\n",
      " [ 0.08249794  0.03632177]\n",
      " [ 0.0614965   0.03230641]\n",
      " [ 0.04474162  0.0282414 ]\n",
      " [ 0.03137461  0.0241479 ]\n",
      " [ 0.02071045  0.01998187]\n",
      " [ 0.01220261  0.01560103]\n",
      " [ 0.00541508  0.01057376]\n",
      " [ 0.          0.        ]\n",
      " [ 0.00541508 -0.01057376]\n",
      " [ 0.01220261 -0.01560103]\n",
      " [ 0.02071045 -0.01998187]\n",
      " [ 0.03137461 -0.0241479 ]\n",
      " [ 0.04474162 -0.0282414 ]\n",
      " [ 0.0614965  -0.03230641]\n",
      " [ 0.08249794 -0.03632177]\n",
      " [ 0.1088222  -0.04020896]\n",
      " [ 0.14181838 -0.04381849]\n",
      " [ 0.18317748 -0.04691178]\n",
      " [ 0.23501908 -0.04913761]\n",
      " [ 0.3        -0.05000581]\n",
      " [ 0.39107672 -0.04860058]\n",
      " [ 0.48786017 -0.04468221]\n",
      " [ 0.59070794 -0.03853031]\n",
      " [ 0.7        -0.03028043]\n",
      " [ 0.84105707 -0.01745033]\n",
      " [ 0.92354775 -0.00882317]\n",
      " [ 0.97178859 -0.00335567]\n",
      " [ 1.          0.        ]]\n"
     ]
    }
   ],
   "source": [
    "profile = np.zeros((2*np.shape(xAxis)[0]-1,2))\n",
    "\n",
    "j = 0\n",
    "\n",
    "for i in range(np.shape(prof)[0]-1,-1,-1):\n",
    "    profile[j,0] = prof[i,0]\n",
    "    profile[j,1] = prof[i,2]\n",
    "    j += 1\n",
    "    \n",
    "for i in range(np.shape(prof)[0]-1):\n",
    "    profile[i+np.shape(prof)[0],0] = prof[i+1,0]\n",
    "    profile[i+np.shape(prof)[0],1] = prof[i+1,1]  \n",
    "    \n",
    "print(profile)"
   ]
  },
  {
   "cell_type": "code",
   "execution_count": 57,
   "metadata": {},
   "outputs": [],
   "source": [
    "np.savetxt(\"profile.csv\", profile, delimiter=\",\")"
   ]
  }
 ],
 "metadata": {
  "kernelspec": {
   "display_name": "Python 3",
   "language": "python",
   "name": "python3"
  },
  "language_info": {
   "codemirror_mode": {
    "name": "ipython",
    "version": 3
   },
   "file_extension": ".py",
   "mimetype": "text/x-python",
   "name": "python",
   "nbconvert_exporter": "python",
   "pygments_lexer": "ipython3",
   "version": "3.6.1"
  }
 },
 "nbformat": 4,
 "nbformat_minor": 2
}
