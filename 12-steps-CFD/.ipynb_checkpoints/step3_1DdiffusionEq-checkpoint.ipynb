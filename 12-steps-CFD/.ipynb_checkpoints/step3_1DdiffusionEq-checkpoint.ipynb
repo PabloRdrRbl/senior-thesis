{
 "cells": [
  {
   "cell_type": "code",
   "execution_count": 1,
   "metadata": {
    "collapsed": true
   },
   "outputs": [],
   "source": [
    "%matplotlib inline\n",
    "import numpy as np\n",
    "import matplotlib.pyplot as plt"
   ]
  },
  {
   "cell_type": "markdown",
   "metadata": {},
   "source": [
    "The diffusion equation for a 1D case has a second-order derivative, as it can be seen:\n",
    "\n",
    "$$\n",
    "\\dfrac{\\partial u}{\\partial t} = \\nu \\dfrac{\\partial^2 u}{\\partial x^2}\n",
    "$$\n",
    "\n",
    "Using the Taylor series expansion to discretize the second-order derivative with a Central Difference scheme, the terms around $u_i$ are:\n",
    "\n",
    "* $ u_{i+1} = u_i + \\Delta x \\dfrac{\\partial u}{\\partial x} \\bigg|_i + \\dfrac{\\Delta x^2}{2!}\\dfrac{\\partial^2 u}{\\partial x^2}\\bigg|_i + \\dfrac{\\Delta x^3}{3!} \\dfrac{\\partial^3 u}{\\partial x^3} \\bigg|_i + \\mathcal{O}(\\Delta x^4)$\n",
    "\n",
    "\n",
    "* $ u_{i-1} = u_i - \\Delta x \\dfrac{\\partial u}{\\partial x} \\bigg|_i + \\dfrac{\\Delta x^2}{2!}\\dfrac{\\partial^2 u}{\\partial x^2}\\bigg|_i - \\dfrac{\\Delta x^3}{3!} \\dfrac{\\partial^3 u}{\\partial x^3} \\bigg|_i + \\mathcal{O}(\\Delta x^4)$\n",
    "\n",
    "Rearranging these two expressions, the result is:\n",
    "\n",
    "$$\n",
    "u_{i+1}+u_{i-1} = 2 u_i + \\Delta x^2 \\dfrac{\\partial^2 u}{\\partial x^2} \\bigg|_i + \\mathcal{O}(\\Delta x^4)\n",
    "$$\n",
    "\n",
    "The second-derivative term is therefore:\n",
    "\n",
    "$$\n",
    "\\dfrac{\\partial^2 u}{\\partial x^2} = \\dfrac{u_{i+1}-2u_i+u_{i-1}}{\\Delta x^2} + \\mathcal{O} (\\Delta x^2)\n",
    "$$\n",
    "\n",
    "The diffusion equation is discretized to:\n",
    "\n",
    "$$\n",
    "\\dfrac{u^{n+1}_{i}-u^{n}_{i}}{\\Delta t}=\\nu \\dfrac{u^{n}_{i+1}-2u^{n}_{i}+u^{n}_{i-1}}{\\Delta x^2}\n",
    "$$\n",
    "\n",
    "The only unknown is again as before $u_i^{n+1}$. Solving for it:\n",
    "\n",
    "$$\n",
    "u^{n+1}_{i} = u^{n}_{i} + \\dfrac{\\nu  \\Delta t}{\\Delta x^2} \\left( {u^{n}_{i+1}-2u^{n}_{i}+u^{n}_{i-1}} \\right)\n",
    "$$"
   ]
  },
  {
   "cell_type": "code",
   "execution_count": 3,
   "metadata": {},
   "outputs": [
    {
     "data": {
      "text/plain": [
       "[<matplotlib.lines.Line2D at 0x26a244b47b8>]"
      ]
     },
     "execution_count": 3,
     "metadata": {},
     "output_type": "execute_result"
    },
    {
     "data": {
      "image/png": "[encoded data removed]",
      "text/plain": [
       "<matplotlib.figure.Figure at 0x26a206b79b0>"
      ]
     },
     "metadata": {},
     "output_type": "display_data"
    }
   ],
   "source": [
    "nx = 41\n",
    "dx = 2/(nx-1)\n",
    "nt = 20\n",
    "nu = 0.3\n",
    "CFL = 0.2\n",
    "dt = CFL * dx**2 / nu\n",
    "\n",
    "u = np.ones(nx)\n",
    "u[int(0.5/dx):int(1/dx+1)] = 2\n",
    "\n",
    "un = np.zeros(nx)\n",
    "\n",
    "for n in range(nt):\n",
    "    un = u.copy()\n",
    "    for i in range(1,nx-1):\n",
    "        u[i] = un[i] + nu * dt/dx**2 *(un[i+1]-2*un[i]+un[i-1])\n",
    "        \n",
    "plt.plot(np.linspace(0,2,nx),u,'.-')"
   ]
  }
 ],
 "metadata": {
  "kernelspec": {
   "display_name": "Python 3",
   "language": "python",
   "name": "python3"
  },
  "language_info": {
   "codemirror_mode": {
    "name": "ipython",
    "version": 3
   },
   "file_extension": ".py",
   "mimetype": "text/x-python",
   "name": "python",
   "nbconvert_exporter": "python",
   "pygments_lexer": "ipython3",
   "version": "3.5.4"
  }
 },
 "nbformat": 4,
 "nbformat_minor": 2
}
