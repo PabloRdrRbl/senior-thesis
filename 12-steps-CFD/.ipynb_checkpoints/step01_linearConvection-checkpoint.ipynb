{
 "cells": [
  {
   "cell_type": "markdown",
   "metadata": {},
   "source": [
    "# Linear convection"
   ]
  },
  {
   "cell_type": "code",
   "execution_count": 2,
   "metadata": {
    "collapsed": true
   },
   "outputs": [],
   "source": [
    "%matplotlib inline\n",
    "import numpy as np \n",
    "import matplotlib.pyplot as plt\n",
    "import time, sys"
   ]
  },
  {
   "cell_type": "markdown",
   "metadata": {},
   "source": [
    "Equation that will be solved is\n",
    "\n",
    "$$\n",
    "\\dfrac{\\partial u}{\\partial t} + c \\dfrac{\\partial u}{\\partial x} =0\n",
    "$$\n",
    "\n",
    "having the initial conditions: $u(x,0)=u_0(x)$. The exact solution of the equation is $u(x,t)=u_0(x-ct)$ - although this is 'unknown'\n",
    "\n",
    "Discretization of the equation will be done in:\n",
    "* Forward difference scheme for Time derivative\n",
    "* Backward difference scheme for Space derivative\n",
    "\n",
    "Discretization will be done in the $x$ coordinate transformed into points from $i=0,...,N$ and in the time coordinate of intervals of size $\\Delta t$. Using the definition of derivative:\n",
    "\n",
    "$$\n",
    "\\dfrac{\\partial u}{\\partial x} \\approx \\dfrac{u(x+\\Delta x)-u(x)}{\\Delta x}\n",
    "$$\n",
    "\n",
    "the first equation can be transformed into:\n",
    "\n",
    "$$\n",
    "\\dfrac{u(t+\\Delta t)-u(t)}{\\Delta t}+c\\dfrac{u(x+\\Delta x)-u(x)}{\\Delta x}=0\n",
    "$$\n",
    "\n",
    "Using $n$ (and $n+1$) as consecutive steps in time and $i$ (and $i-1$) as two neighboring points, equation ends being:\n",
    "\n",
    "$$\n",
    "\\dfrac{u^{n+1}_{i}-u^{n}_{i}}{\\Delta t}+c\\dfrac{u^{n}_{i}-u^{n}_{i-1}}{\\Delta x}=0\n",
    "$$\n",
    "\n",
    "As initial conditions are known, the only variable in the equation is $u^{n+1}_{i}$. Solving for it, the result is:\n",
    "\n",
    "$$\n",
    "u^{n+1}_{i}=u^n_i-c\\dfrac{\\Delta t}{\\Delta x} \\left( u^{n}_{i}-u^{n}_{i-1} \\right)\n",
    "$$"
   ]
  },
  {
   "cell_type": "code",
   "execution_count": 55,
   "metadata": {
    "collapsed": true
   },
   "outputs": [],
   "source": [
    "nx = 41        #number of x-axis divisions\n",
    "dx = 2/(nx-1)  #delta x\n",
    "nt = 25        #number of timesteps \n",
    "dt = 0.025     #delta t\n",
    "c = 1          #wavespeed"
   ]
  },
  {
   "cell_type": "markdown",
   "metadata": {},
   "source": [
    "Initial conditions are given by the next function:\n",
    "$$u_0 = \\begin{Bmatrix} 2 & \\text{ if } 0.5 \\leqslant x \\leqslant 1 \\\\ 1 & \\text{everywhere else in }(0,2) \\end{Bmatrix}$$"
   ]
  },
  {
   "cell_type": "code",
   "execution_count": 77,
   "metadata": {},
   "outputs": [
    {
     "name": "stdout",
     "output_type": "stream",
     "text": [
      "[ 1.  1.  1.  1.  1.  1.  1.  1.  1.  1.  2.  2.  2.  2.  2.  2.  2.  2.\n",
      "  2.  2.  2.  1.  1.  1.  1.  1.  1.  1.  1.  1.  1.  1.  1.  1.  1.  1.\n",
      "  1.  1.  1.  1.  1.]\n"
     ]
    }
   ],
   "source": [
    "u = np.ones(nx)\n",
    "u[int(0.5/dx):int(1/dx+1)] = 2\n",
    "print(u)"
   ]
  },
  {
   "cell_type": "code",
   "execution_count": 78,
   "metadata": {},
   "outputs": [
    {
     "data": {
      "text/plain": [
       "[<matplotlib.lines.Line2D at 0x2c82b561ef0>]"
      ]
     },
     "execution_count": 78,
     "metadata": {},
     "output_type": "execute_result"
    },
    {
     "data": {
      "image/png": "[encoded data removed]",
      "text/plain": [
       "<matplotlib.figure.Figure at 0x2c82a532b70>"
      ]
     },
     "metadata": {},
     "output_type": "display_data"
    }
   ],
   "source": [
    "plt.plot(np.linspace(0,2,nx),u,'.-')"
   ]
  },
  {
   "cell_type": "code",
   "execution_count": 89,
   "metadata": {},
   "outputs": [
    {
     "data": {
      "text/plain": [
       "[<matplotlib.lines.Line2D at 0x2c82b99a3c8>]"
      ]
     },
     "execution_count": 89,
     "metadata": {},
     "output_type": "execute_result"
    },
    {
     "data": {
      "image/png": "[encoded data removed]",
      "text/plain": [
       "<matplotlib.figure.Figure at 0x2c82b951a90>"
      ]
     },
     "metadata": {},
     "output_type": "display_data"
    }
   ],
   "source": [
    "un = np.zeros(nx)\n",
    "\n",
    "for n in range(nt):\n",
    "    un = u.copy()\n",
    "    for i in range(1,nx):\n",
    "        u[i] = un[i] - c * dt/dx *(un[i]-un[i-1])\n",
    "        \n",
    "plt.plot(np.linspace(0,2,nx),u,'.-')"
   ]
  }
 ],
 "metadata": {
  "kernelspec": {
   "display_name": "Python 3",
   "language": "python",
   "name": "python3"
  },
  "language_info": {
   "codemirror_mode": {
    "name": "ipython",
    "version": 3
   },
   "file_extension": ".py",
   "mimetype": "text/x-python",
   "name": "python",
   "nbconvert_exporter": "python",
   "pygments_lexer": "ipython3",
   "version": "3.5.4"
  }
 },
 "nbformat": 4,
 "nbformat_minor": 2
}
