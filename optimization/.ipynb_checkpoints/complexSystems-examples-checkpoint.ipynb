{
 "cells": [
  {
   "cell_type": "code",
   "execution_count": 220,
   "metadata": {},
   "outputs": [],
   "source": [
    "%matplotlib inline\n",
    "\n",
    "import numpy as np\n",
    "import matplotlib.pyplot as plt\n",
    "import random"
   ]
  },
  {
   "cell_type": "markdown",
   "metadata": {},
   "source": [
    "Some examples of complex systems are analyzed. The ones that seem of interest for the project are genetic algorithms and artificial neural networks. \n",
    "\n",
    "## Genetic algorithm - Getting a numerical password"
   ]
  },
  {
   "cell_type": "markdown",
   "metadata": {},
   "source": [
    "The genetic algorithm will evolve until it reaches one specified number - by combination of some random first generation of numbers"
   ]
  },
  {
   "cell_type": "markdown",
   "metadata": {},
   "source": [
    "#### Fitness function "
   ]
  },
  {
   "cell_type": "code",
   "execution_count": 10,
   "metadata": {},
   "outputs": [],
   "source": [
    "def fitness_function(code, test): #compare digit by digit and get a percentage closeness\n",
    "    coincidence = 0\n",
    "\n",
    "    for i in range(np.shape(code)[0]):\n",
    "        if code[i] == test[i]:\n",
    "            coincidence += 1\n",
    "\n",
    "    fitness = coincidence/np.shape(code)[0]\n",
    "\n",
    "    return fitness"
   ]
  },
  {
   "cell_type": "markdown",
   "metadata": {},
   "source": [
    "#### Word to get"
   ]
  },
  {
   "cell_type": "code",
   "execution_count": 63,
   "metadata": {},
   "outputs": [],
   "source": [
    "def generate_code(length): #code from random numbers with given length\n",
    "    \n",
    "    code = np.trunc(np.random.rand(length)*10)\n",
    "    \n",
    "    return code"
   ]
  },
  {
   "cell_type": "markdown",
   "metadata": {},
   "source": [
    "#### First population"
   ]
  },
  {
   "cell_type": "code",
   "execution_count": 66,
   "metadata": {},
   "outputs": [],
   "source": [
    "def first_gen(Nind, code): #generate the first generation from random numbers (Nind = even number)\n",
    "    \n",
    "    if Nind % 2 != 0:\n",
    "        Nind += 1\n",
    "    \n",
    "    generation = np.trunc(np.random.rand(Nind, np.shape(code)[0])*10)\n",
    "    \n",
    "    return generation"
   ]
  },
  {
   "cell_type": "markdown",
   "metadata": {},
   "source": [
    "#### Best selection"
   ]
  },
  {
   "cell_type": "code",
   "execution_count": 306,
   "metadata": {},
   "outputs": [],
   "source": [
    "def best_selection(generation, code): #select the two best individuals to reproduce\n",
    "    fitness = np.zeros(np.shape(generation)[0])\n",
    "    \n",
    "    for i in range(np.shape(generation)[0]):\n",
    "        fitness[i] = fitness_function(code, generation[i,:])\n",
    "    \n",
    "    tempFitness = np.copy(fitness)\n",
    "    \n",
    "    if np.shape(code)[0] % 2 == 0:\n",
    "        Nind = np.shape(code)[0]/2\n",
    "    if np.shape(code)[0] % 2 != 0:\n",
    "        Nind = (np.shape(code)[0]+1)/2\n",
    "    \n",
    "    if Nind < 2:\n",
    "        Nind = 2\n",
    "    \n",
    "    selected = np.zeros((int(Nind), np.shape(code)[0]))\n",
    "              \n",
    "    for i in range(int(Nind)):\n",
    "        selected[i,:] = generation[np.argmax(tempFitness),:]\n",
    "        tempFitness[np.argmax(tempFitness)] = 0.0\n",
    "    \n",
    "    return fitness, selected"
   ]
  },
  {
   "cell_type": "markdown",
   "metadata": {},
   "source": [
    "#### Breeding"
   ]
  },
  {
   "cell_type": "code",
   "execution_count": 187,
   "metadata": {},
   "outputs": [],
   "source": [
    "def breeding(Nind, selected, code): #breed the two selected individues\n",
    "        \n",
    "    if Nind % 2 != 0:\n",
    "        Nind += 1\n",
    "    \n",
    "    newGen = np.zeros((Nind, np.shape(code)[0]))\n",
    "    \n",
    "    for i in range(Nind):\n",
    "        control = np.random.randint(2, size = np.shape(code)[0])\n",
    "        for j in range(np.shape(code)[0]):\n",
    "            newGen[i,j] = selected[int(control[j]),j]\n",
    "\n",
    "    return newGen"
   ]
  },
  {
   "cell_type": "markdown",
   "metadata": {},
   "source": [
    "#### Mutation"
   ]
  },
  {
   "cell_type": "code",
   "execution_count": 320,
   "metadata": {},
   "outputs": [],
   "source": [
    "def mutation(selected, code): #breed the two selected individues\n",
    "    \n",
    "    masked = (np.random.randint(2, size = np.shape(generation)) == 1)\n",
    "\n",
    "    sign = (np.random.randint(2, size = np.shape(generation)) == 1)\n",
    "\n",
    "    mutated = np.copy(selected)\n",
    "        \n",
    "    for i in range(np.shape(selected)[0]):\n",
    "        for j in range(np.shape(selected)[1]):\n",
    "            if masked[i,j] == True:\n",
    "                if sign[i,j] == True:\n",
    "                    mutated[i,j] += 1\n",
    "                if sign[i,j] == False:\n",
    "                    mutated[i,j] -=  1\n",
    "    \n",
    "    return mutated"
   ]
  },
  {
   "cell_type": "markdown",
   "metadata": {},
   "source": [
    "#### Gathering all..."
   ]
  },
  {
   "cell_type": "code",
   "execution_count": 345,
   "metadata": {
    "scrolled": true
   },
   "outputs": [
    {
     "data": {
      "text/plain": [
       "[<matplotlib.lines.Line2D at 0x7f5aab419080>]"
      ]
     },
     "execution_count": 345,
     "metadata": {},
     "output_type": "execute_result"
    },
    {
     "data": {
      "image/png": "[encoded data removed]",
      "text/plain": [
       "<matplotlib.figure.Figure at 0x7f5aab4f99b0>"
      ]
     },
     "metadata": {},
     "output_type": "display_data"
    }
   ],
   "source": [
    "length = 4\n",
    "Nind = 20\n",
    "Ngen = 500\n",
    "\n",
    "maxFitness = np.zeros(Ngen)\n",
    "\n",
    "code = generate_code(length)\n",
    "fGeneration = first_gen(Nind, code)\n",
    "\n",
    "generation = np.copy(fGeneration)\n",
    "\n",
    "for i in range(Ngen):\n",
    "    fitness, selected = best_selection(generation, code)  \n",
    "    maxFitness[i] = np.max(fitness)\n",
    "    newGeneration = breeding(Nind, selected, code) \n",
    "    generation = mutation(newGeneration, code)\n",
    "    \n",
    "    if maxFitness[i] == 1.0:\n",
    "        break\n",
    "    \n",
    "plt.plot(maxFitness)"
   ]
  },
  {
   "cell_type": "code",
   "execution_count": 346,
   "metadata": {},
   "outputs": [
    {
     "data": {
      "text/plain": [
       "array([ 6.,  6.,  4.,  3.])"
      ]
     },
     "execution_count": 346,
     "metadata": {},
     "output_type": "execute_result"
    }
   ],
   "source": [
    "code"
   ]
  },
  {
   "cell_type": "code",
   "execution_count": 347,
   "metadata": {
    "scrolled": true
   },
   "outputs": [
    {
     "data": {
      "text/plain": [
       "array([[ 6.,  6.,  5.,  3.],\n",
       "       [ 4.,  6.,  4.,  4.],\n",
       "       [ 6.,  6.,  3.,  3.],\n",
       "       [ 6.,  6.,  5.,  4.],\n",
       "       [ 5.,  6.,  4.,  3.],\n",
       "       [ 6.,  6.,  3.,  2.],\n",
       "       [ 4.,  5.,  5.,  3.],\n",
       "       [ 4.,  5.,  4.,  3.],\n",
       "       [ 7.,  6.,  4.,  3.],\n",
       "       [ 6.,  6.,  4.,  3.],\n",
       "       [ 6.,  5.,  4.,  2.],\n",
       "       [ 7.,  7.,  4.,  3.],\n",
       "       [ 4.,  5.,  3.,  3.],\n",
       "       [ 7.,  5.,  5.,  3.],\n",
       "       [ 5.,  7.,  5.,  4.],\n",
       "       [ 7.,  6.,  4.,  2.],\n",
       "       [ 4.,  6.,  4.,  4.],\n",
       "       [ 6.,  7.,  4.,  2.],\n",
       "       [ 5.,  7.,  5.,  4.],\n",
       "       [ 4.,  6.,  4.,  3.]])"
      ]
     },
     "execution_count": 347,
     "metadata": {},
     "output_type": "execute_result"
    }
   ],
   "source": [
    "generation"
   ]
  },
  {
   "cell_type": "markdown",
   "metadata": {},
   "source": [
    "## Neural network \n",
    "<https://iamtrask.github.io/2015/07/12/basic-python-network/>"
   ]
  },
  {
   "cell_type": "code",
   "execution_count": 361,
   "metadata": {
    "scrolled": true
   },
   "outputs": [
    {
     "name": "stdout",
     "output_type": "stream",
     "text": [
      "Output After Training:\n",
      "[[ 0.00966449]\n",
      " [ 0.00786506]\n",
      " [ 0.99358898]\n",
      " [ 0.99211957]]\n"
     ]
    }
   ],
   "source": [
    "X = np.array([ [0,0,1],[0,1,1],[1,0,1],[1,1,1] ])\n",
    "y = np.array([[0,1,1,0]]).T\n",
    "syn0 = 2*np.random.random((3,4)) - 1\n",
    "syn1 = 2*np.random.random((4,1)) - 1\n",
    "for j in range(60000):\n",
    "    l1 = 1/(1+np.exp(-(np.dot(X,syn0))))\n",
    "    l2 = 1/(1+np.exp(-(np.dot(l1,syn1))))\n",
    "    l2_delta = (y - l2)*(l2*(1-l2))\n",
    "    l1_delta = l2_delta.dot(syn1.T) * (l1 * (1-l1))\n",
    "    syn1 += l1.T.dot(l2_delta)\n",
    "    syn0 += X.T.dot(l1_delta)\n",
    "\n",
    "\n",
    "# sigmoid function\n",
    "def nonlin(x,deriv=False):\n",
    "    if(deriv==True):\n",
    "        return x*(1-x)\n",
    "    return 1/(1+np.exp(-x))\n",
    "    \n",
    "# input dataset\n",
    "X = np.array([  [0,0,1],\n",
    "                [0,1,1],\n",
    "                [1,0,1],\n",
    "                [1,1,1] ])\n",
    "    \n",
    "# output dataset            \n",
    "y = np.array([[0,0,1,1]]).T\n",
    "\n",
    "# seed random numbers to make calculation\n",
    "# deterministic (just a good practice)\n",
    "np.random.seed(1)\n",
    "\n",
    "# initialize weights randomly with mean 0\n",
    "syn0 = 2*np.random.random((3,1)) - 1\n",
    "\n",
    "for iter in range(10000):\n",
    "\n",
    "    # forward propagation\n",
    "    l0 = X\n",
    "    l1 = nonlin(np.dot(l0,syn0))\n",
    "\n",
    "    # how much did we miss?\n",
    "    l1_error = y - l1\n",
    "\n",
    "    # multiply how much we missed by the \n",
    "    # slope of the sigmoid at the values in l1\n",
    "    l1_delta = l1_error * nonlin(l1,True)\n",
    "\n",
    "    # update weights\n",
    "    syn0 += np.dot(l0.T,l1_delta)\n",
    "\n",
    "print (\"Output After Training:\")\n",
    "print (l1)"
   ]
  }
 ],
 "metadata": {
  "kernelspec": {
   "display_name": "Python 3",
   "language": "python",
   "name": "python3"
  },
  "language_info": {
   "codemirror_mode": {
    "name": "ipython",
    "version": 3
   },
   "file_extension": ".py",
   "mimetype": "text/x-python",
   "name": "python",
   "nbconvert_exporter": "python",
   "pygments_lexer": "ipython3",
   "version": "3.6.1"
  }
 },
 "nbformat": 4,
 "nbformat_minor": 2
}
