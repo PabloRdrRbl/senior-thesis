{
 "cells": [
  {
   "cell_type": "markdown",
   "metadata": {},
   "source": [
    "The basics of the Non-doinated Sorting Genetic Algorithm are http://ieeexplore.ieee.org/document/996017/"
   ]
  },
  {
   "cell_type": "raw",
   "metadata": {},
   "source": [
    "# Description: A fast and elitist multiobjective genetic algorithm: NSGA-II\n",
    "# Authors: K. Deb, A. Pratap, S. Agarwal, T. Meyarivan"
   ]
  },
  {
   "cell_type": "code",
   "execution_count": 1,
   "metadata": {},
   "outputs": [],
   "source": [
    "%matplotlib inline\n",
    "#Importing required modules\n",
    "import math\n",
    "import numpy as np\n",
    "import matplotlib.pyplot as plt"
   ]
  },
  {
   "cell_type": "markdown",
   "metadata": {},
   "source": [
    "## 0. Function definition\n"
   ]
  },
  {
   "cell_type": "code",
   "execution_count": 3,
   "metadata": {},
   "outputs": [],
   "source": [
    "P = np.array([[1,3],\n",
    "              [2,5],\n",
    "              [3,6],\n",
    "              [3,2],\n",
    "              [4,4],\n",
    "              [5,1]])"
   ]
  },
  {
   "cell_type": "markdown",
   "metadata": {},
   "source": [
    "### Individual class definition for the sorting function "
   ]
  },
  {
   "cell_type": "code",
   "execution_count": 10,
   "metadata": {},
   "outputs": [],
   "source": [
    "class Individual(object):\n",
    "    p = []\n",
    "    n = 0\n",
    "\n",
    "    def __init__(self, p, n):\n",
    "        self.p = p\n",
    "        self.n = n"
   ]
  },
  {
   "cell_type": "markdown",
   "metadata": {},
   "source": [
    "### $\\prec$ operator\n",
    "The dominance operation is usually defined mathematicaly as:\n",
    "\\begin{matrix}\n",
    "    f_i(x^1) \\leq f_i(x^2) && \\text{for all } i \\text{ in } i \\in {1, 2, ..., k}\\\\\n",
    "    f_i(x^1) < f_i(x^2) && \\text{for at least one } i \\text{ in } i \\in {1, 2, ..., k}\n",
    "\\end{matrix}"
   ]
  },
  {
   "cell_type": "code",
   "execution_count": 4,
   "metadata": {},
   "outputs": [],
   "source": [
    "def prec_operator(P,Q):\n",
    "    # Dominance operator, returning True or False depending on the dominance of P and Q\n",
    "    var = P.shape[0]\n",
    "    # Dimensions between p and q must match\n",
    "    if var != Q.shape[0]:\n",
    "        raise ValueError(\"P and Q dimmensions don't match\")\n",
    "    # If all elements in P are smaller than those in Q, then P is dominating\n",
    "    if np.sum(P < Q) == var:\n",
    "        return True\n",
    "    # Formal dominance operator\n",
    "    elif np.sum(np.logical_or(P < Q, P == Q)) == var and np.sum(P < Q) >= 1: \n",
    "        return True\n",
    "    else:\n",
    "        return False"
   ]
  },
  {
   "cell_type": "markdown",
   "metadata": {},
   "source": [
    "### $\\texttt{fastNonDominatedSort}$ function \n",
    "Extracted from http://ieeexplore.ieee.org/document/996017/"
   ]
  },
  {
   "cell_type": "code",
   "execution_count": 14,
   "metadata": {},
   "outputs": [],
   "source": [
    "def fastNonDominatedSort(P):\n",
    "    # Number of variables of the problem\n",
    "    var = P.shape[1]\n",
    "    ps = P.shape[0] #possible solutions\n",
    "    ind = []\n",
    "    # DPareto front list\n",
    "    F = []\n",
    "    # Let's create an empty array for the 1st Pareto front\n",
    "    F1 = np.empty((0,1), float) # The index of the point will be stored\n",
    "\n",
    "    for i in range(ps):\n",
    "        S_p = np.empty((0,1), float) # dominated solutions for each p and its domination count n_p for the solution \n",
    "        n_p = 0\n",
    "        for j in range(ps):\n",
    "            if prec_operator(P[i],P[j]): # If p dominates q in all variables it will be smaller in all variables\n",
    "                S_p = np.append(S_p, j) # Add q to the set of solutions dominated by p\n",
    "            elif prec_operator(P[j],P[i]):\n",
    "                n_p += 1 # Increment the domination counter of p\n",
    "        if n_p == 0: # p belongs to the first front\n",
    "    #         p_rank = 1\n",
    "            F1 = np.append(F1, i) #Let's include the rank after the two main variables\n",
    "        ind.append(Individual(S_p, n_p))\n",
    "\n",
    "    # Store the first frontier in the frontiers list\n",
    "    F.append(F1)\n",
    "\n",
    "    front = 0\n",
    "\n",
    "    while len(F[front]) != 0:\n",
    "        Q = np.empty((0,1), float) #use to store the members of the next front\n",
    "        for i in range(F[front].size):\n",
    "            for j in range(ind[int(F[front][i])].p.size):\n",
    "                ind[int(ind[int(F[front][i])].p[j])].n -= 1\n",
    "                if ind[int(ind[int(F[front][i])].p[j])].n == 0:\n",
    "                    q_rank = front + 2\n",
    "                    Q = np.append(Q, int(ind[int(F[front][i])].p[j]))\n",
    "        front += 1\n",
    "        F.append(Q)\n",
    "        \n",
    "    return F"
   ]
  },
  {
   "cell_type": "markdown",
   "metadata": {},
   "source": [
    "### Examples"
   ]
  },
  {
   "cell_type": "code",
   "execution_count": 15,
   "metadata": {},
   "outputs": [
    {
     "data": {
      "image/png": "[encoded data removed]",
      "text/plain": [
       "<matplotlib.figure.Figure at 0x7f48d8490f98>"
      ]
     },
     "metadata": {},
     "output_type": "display_data"
    }
   ],
   "source": [
    "P = np.array([[1,10],\n",
    "              [2,6],\n",
    "              [3,8],\n",
    "              [4,3],\n",
    "              [5,7],\n",
    "              [5,9],\n",
    "              [8,5],\n",
    "              [9,1],\n",
    "              [10,3],\n",
    "              [9,8],\n",
    "              [13,2],\n",
    "              [14,6]])\n",
    "\n",
    "F = fastNonDominatedSort(P)\n",
    "\n",
    "for i in range(3):\n",
    "    plt.plot(P[F[i].astype(int).tolist()][:,0], P[F[i].astype(int).tolist()][:,1])"
   ]
  },
  {
   "cell_type": "code",
   "execution_count": null,
   "metadata": {},
   "outputs": [],
   "source": []
  }
 ],
 "metadata": {
  "kernelspec": {
   "display_name": "Python 3",
   "language": "python",
   "name": "python3"
  },
  "language_info": {
   "codemirror_mode": {
    "name": "ipython",
    "version": 3
   },
   "file_extension": ".py",
   "mimetype": "text/x-python",
   "name": "python",
   "nbconvert_exporter": "python",
   "pygments_lexer": "ipython3",
   "version": "3.6.1"
  }
 },
 "nbformat": 4,
 "nbformat_minor": 2
}
