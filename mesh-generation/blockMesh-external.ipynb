{
 "cells": [
  {
   "cell_type": "code",
   "execution_count": 1,
   "metadata": {},
   "outputs": [],
   "source": [
    "%matplotlib inline\n",
    "import numpy as np\n",
    "import matplotlib.pyplot as plt"
   ]
  },
  {
   "cell_type": "code",
   "execution_count": 2,
   "metadata": {},
   "outputs": [],
   "source": [
    "%%bash\n",
    "rm extMesh/system/blockMeshDict"
   ]
  },
  {
   "cell_type": "markdown",
   "metadata": {},
   "source": [
    "# 0. Input values"
   ]
  },
  {
   "cell_type": "markdown",
   "metadata": {},
   "source": [
    "## 0.1 Basic parameters"
   ]
  },
  {
   "cell_type": "code",
   "execution_count": 3,
   "metadata": {},
   "outputs": [],
   "source": [
    "chord = 1\n",
    "percChord = 0.25\n",
    "Vspace = 3*chord\n",
    "wake = 7*chord\n",
    "minZ = 0.0\n",
    "maxZ = 0.1\n",
    "NACAtype = '0012'"
   ]
  },
  {
   "cell_type": "markdown",
   "metadata": {},
   "source": [
    "## 0.2 Grid configuration"
   ]
  },
  {
   "cell_type": "code",
   "execution_count": 4,
   "metadata": {},
   "outputs": [],
   "source": [
    "inflowXcells = 30\n",
    "middleXcells = 10\n",
    "outflowXcells = 70\n",
    "\n",
    "upperYcells = 30\n",
    "lowerYcells = 30\n",
    "\n",
    "Zcells = 1"
   ]
  },
  {
   "cell_type": "markdown",
   "metadata": {},
   "source": [
    "# 1. Function declaration"
   ]
  },
  {
   "cell_type": "code",
   "execution_count": 5,
   "metadata": {},
   "outputs": [],
   "source": [
    "def NACA4(s, chord):\n",
    "\n",
    "    #definition of the NACA profile as XXXX\n",
    "    NACA = s\n",
    "    c = chord #chord line\n",
    "\n",
    "    #NACA XXXX = m p (pt)\n",
    "    m = int(int(NACA)/1e3)/1e2 #maximum camber\n",
    "    p = int((int(NACA)-m*1e5)/1e2)/1e1 #location of maximum camber\n",
    "    pt = int((int(NACA)-m*1e5-p*1e3)) #percentage of thickness with respect to the chord\n",
    "\n",
    "    #mean camber line definition\n",
    "    if p != 0:\n",
    "        x = np.append(np.linspace(0,p/100*c,500)[:-1],np.linspace(p/100*c,c,250))\n",
    "        x_pc = x<(p*c) #masked array to create the piece-wise function\n",
    "\n",
    "        yc1 = ((c*m)/(p**2))*(2*p*(x/c)-(x/c)**2)\n",
    "        yc2 = ((c*m)/((1-p)**2))*((1-2*p)+2*p*(x/c)-(x/c)**2)\n",
    "\n",
    "        yc = np.zeros(np.shape(x))\n",
    "\n",
    "        for i in range(np.shape(x)[0]):\n",
    "            if x_pc[i] == True:\n",
    "                yc[i] = yc1[i]\n",
    "            else:\n",
    "                yc[i] = yc2[i]\n",
    "\n",
    "        #mean camber line derivative\n",
    "        dyc1dx = (2*m)/(p**2)*(p-(x/c))\n",
    "        dyc2dx = (2*m)/((1-p)**2)*(p-(x/c))\n",
    "\n",
    "        dycdx = np.zeros(np.shape(x))\n",
    "\n",
    "        for i in range(np.shape(x)[0]):\n",
    "            if x_pc[i] == True:\n",
    "                dycdx[i] = dyc1dx[i]\n",
    "            else:\n",
    "                dycdx[i] = dyc2dx[i]\n",
    "\n",
    "        theta = np.arctan(dycdx)\n",
    "\n",
    "    else:\n",
    "        #symmetric airfoil camber line\n",
    "        x = np.linspace(0,c,750)\n",
    "        yc = np.zeros(np.shape(x))\n",
    "\n",
    "    #thickness\n",
    "    if p != 0:\n",
    "        yt = 5*pt/100*(0.2969*np.sqrt(x/c)-0.1260*(x/c)-0.3516*(x/c)**2+0.2843*(x/c)**3-0.1036*(x/c)**4)\n",
    "        xu = x - yt*np.sin(theta)\n",
    "        xl = x + yt*np.sin(theta)\n",
    "        yu = yc + yt*np.cos(theta)\n",
    "        yl = yc - yt*np.cos(theta)\n",
    "\n",
    "        return xu, xl, yu, yl\n",
    "        \n",
    "    else:\n",
    "        yt = 5*pt/100*(0.2969*np.sqrt(x/c)-0.1260*(x/c)-0.3516*(x/c)**2+0.2843*(x/c)**3-0.1036*(x/c)**4)\n",
    "\n",
    "        return x, x, yt, -yt"
   ]
  },
  {
   "cell_type": "code",
   "execution_count": 6,
   "metadata": {},
   "outputs": [],
   "source": [
    "def simple_grading(N, expRatio, L):\n",
    "    delta = np.zeros(N) #size of each cell array\n",
    "    nodes = np.zeros(N+1) #position of the nodes\n",
    "\n",
    "    kVal = expRatio**((1)/(N-1)) \n",
    "    k = np.zeros(N) #increment of each cell\n",
    "\n",
    "    for i in range(N):\n",
    "        k[i] = kVal**(i) \n",
    "\n",
    "    deltaS = L/np.sum(k)  #first cell size \n",
    "\n",
    "    delta = deltaS*k #size of each cell\n",
    "    \n",
    "    for i in range(N):\n",
    "        nodes[i+1] = nodes[i] + delta[i]\n",
    "        \n",
    "    return nodes"
   ]
  },
  {
   "cell_type": "code",
   "execution_count": 7,
   "metadata": {},
   "outputs": [],
   "source": [
    "def multi_grading(perc, cells, eps, N, L): \n",
    "    \n",
    "    #some initial shape and value comprobations\n",
    "    if np.sum(perc) != 1:\n",
    "        print('Bad percentage array input')\n",
    "        return\n",
    "\n",
    "    if np.sum(cells) != 1:\n",
    "        print('Bad cell array input')\n",
    "        return\n",
    "    \n",
    "    if np.shape(perc)[0] != np.shape(cells)[0] or np.shape(perc)[0] != np.shape(eps)[0] or np.shape(cells)[0] != np.shape(eps)[0]:\n",
    "        print('Non equal vector definition')\n",
    "        return\n",
    "        \n",
    "    segmentN = (N*cells) #cells per segment\n",
    "    restCells = np.modf(segmentN)[0] #in case there are decimal values\n",
    "    segmentN = np.trunc(segmentN) #integer value of the cells\n",
    "\n",
    "    i = np.sum(restCells) #distributor of the 'decimal' parts of the cells\n",
    "    while i > 0:\n",
    "        segmentN[np.argmax(restCells)] = segmentN[np.argmax(restCells)] + int(i)\n",
    "        restCells[np.argmax(restCells)] = 0\n",
    "        i -= 1\n",
    "   \n",
    "    segmentL = (L*perc) #length per segment\n",
    "\n",
    "    nodes = np.zeros(N+1) #number of nodes\n",
    "        \n",
    "    for i in range(np.shape(perc)[0]):\n",
    "        nodesTemp = simple_grading(int(segmentN[i]), eps[i], segmentL[i])\n",
    "        for j in range(np.shape(nodesTemp)[0]):\n",
    "            if i == 0:\n",
    "                nodes[j] = nodesTemp[j]\n",
    "            else:\n",
    "                nodes[int(np.cumsum(segmentN)[i-1]) + j] = nodesTemp[j] + nodes[int(np.cumsum(segmentN)[i-1])]\n",
    "\n",
    "    return nodes"
   ]
  },
  {
   "cell_type": "code",
   "execution_count": 8,
   "metadata": {},
   "outputs": [],
   "source": [
    "def grading_plot(x): #nodes should be imported\n",
    "\n",
    "    y = 0.5*np.ones(np.shape(x)[0])\n",
    "    \n",
    "    fig, ax = plt.subplots(figsize=(20, 1), dpi=100)\n",
    "        \n",
    "    ax.set_xlim(-x[1]*0.5,1.1*x[-1])\n",
    "    ax.set_ylim(0,1)\n",
    "    ax.axis('off')\n",
    "    ax.plot([x[0],x[-1]],[y[0],y[-1]],'k')\n",
    "    ax.scatter(x,y,c='k')"
   ]
  },
  {
   "cell_type": "code",
   "execution_count": 9,
   "metadata": {},
   "outputs": [],
   "source": [
    "def airfoilTrueX(newX, xu, yu, xl, yl):\n",
    "    yuAxis = np.interp(newX, xu, yu)\n",
    "    ylAxis = np.interp(newX, xl, yl)\n",
    "    return yuAxis, ylAxis"
   ]
  },
  {
   "cell_type": "markdown",
   "metadata": {},
   "source": [
    "# 2. Point calculations"
   ]
  },
  {
   "cell_type": "markdown",
   "metadata": {},
   "source": [
    "### 2.1. Spline points"
   ]
  },
  {
   "cell_type": "code",
   "execution_count": 10,
   "metadata": {},
   "outputs": [],
   "source": [
    "noCells = 250\n",
    "\n",
    "perc = np.array([0.1, 0.2, 0.4, 0.3])\n",
    "cells = np.array([0.3, 0.15, 0.3, 0.25])\n",
    "exp = np.array([20, 1, 1, 0.6])\n",
    "\n",
    "xAxis = multi_grading(perc, cells, exp, noCells, chord)\n",
    "\n",
    "xu, xl, yu, yl = NACA4(NACAtype, chord)\n",
    "\n",
    "yuAxis, ylAxis = airfoilTrueX(xAxis, xu, yu, xl, yl)"
   ]
  },
  {
   "cell_type": "markdown",
   "metadata": {},
   "source": [
    "### 2.2. Vertice points"
   ]
  },
  {
   "cell_type": "code",
   "execution_count": 11,
   "metadata": {},
   "outputs": [],
   "source": [
    "zero = np.array([-Vspace, 0.0])\n",
    "one = np.array([1-chord, 0.0])\n",
    "two = np.array([1-chord+xAxis[(np.abs(xAxis-percChord*chord)).argmin()], yuAxis[(np.abs(xAxis-percChord*chord)).argmin()]])\n",
    "three = np.array([1-chord+xAxis[(np.abs(xAxis-percChord*chord)).argmin()], Vspace])\n",
    "four = np.array([1.0, Vspace])\n",
    "five = np.array([1.0, 0.0])\n",
    "six = np.array([wake, Vspace])\n",
    "seven = np.array([wake, 0.0])\n",
    "eight = np.array([wake, -Vspace])\n",
    "nine = np.array([1.0, -Vspace])\n",
    "ten = np.array([1-chord+xAxis[(np.abs(xAxis-percChord*chord)).argmin()], -Vspace])\n",
    "eleven = np.array([1-chord+xAxis[(np.abs(xAxis-percChord*chord)).argmin()], ylAxis[(np.abs(xAxis-percChord*chord)).argmin()]])"
   ]
  },
  {
   "cell_type": "markdown",
   "metadata": {},
   "source": [
    "### 2.3. Blocks definition"
   ]
  },
  {
   "cell_type": "code",
   "execution_count": 12,
   "metadata": {},
   "outputs": [],
   "source": [
    "class blocksClass:\n",
    "     def __init__(self, nodes, cellNo, grading):\n",
    "        self.nodes = nodes\n",
    "        self.cells = cellNo\n",
    "        self.grading = grading"
   ]
  },
  {
   "cell_type": "code",
   "execution_count": 13,
   "metadata": {},
   "outputs": [],
   "source": [
    "nodes = np.array([[1,2,3,0,13,14,15,12],      #block0\n",
    "                 [2,5,4,3,14,17,16,15],       #block1\n",
    "                 [5,7,6,4,17,19,18,16],       #block2\n",
    "                 [13,23,22,12,1,11,10,0],     #block3\n",
    "                 [23,17,21,22,11,5,9,10],     #block4\n",
    "                 [17,19,20,21,5,7,8,9]])      #block5\n",
    "\n",
    "cellsNo = np.array([[inflowXcells, upperYcells, Zcells],     #block0\n",
    "                  [middleXcells, upperYcells, Zcells],       #block1\n",
    "                  [outflowXcells, upperYcells, Zcells],      #block2\n",
    "                  [inflowXcells, lowerYcells, Zcells],      #block3\n",
    "                  [middleXcells, lowerYcells, Zcells],      #block4\n",
    "                  [outflowXcells, lowerYcells, Zcells]])     #block5\n",
    "\n",
    "grading = np.array([[[[1,1,1],[0.0,0.0,1]],1,1],     #block0\n",
    "                   [1,1,1],      #block1\n",
    "                   [1,1,1],      #block2\n",
    "                   [1,1,1],      #block3\n",
    "                   [1,1,1],      #block4\n",
    "                   [1,1,1]])     #block5\n",
    "\n",
    "blocks = blocksClass(nodes, cellsNo, grading)"
   ]
  },
  {
   "cell_type": "markdown",
   "metadata": {},
   "source": [
    "# 3. Header"
   ]
  },
  {
   "cell_type": "code",
   "execution_count": 14,
   "metadata": {},
   "outputs": [],
   "source": [
    "with open('./extMesh/system/blockMeshDict', 'a') as bMD:\n",
    "    bMD.write('/*--------------------------------*- C++ -*----------------------------------*\\ \\n')\n",
    "    bMD.write('| =========                 |                                                 | \\n')\n",
    "    bMD.write('| \\\\      /  F ield         | OpenFOAM: The Open Source CFD Toolbox           | \\n')\n",
    "    bMD.write('|  \\\\    /   O peration     | Version:  5                                     | \\n')\n",
    "    bMD.write('|   \\\\  /    A nd           | Web:      www.OpenFOAM.org                      | \\n')\n",
    "    bMD.write('|    \\\\/     M anipulation  |                                                 | \\n')\n",
    "    bMD.write('\\*---------------------------------------------------------------------------*/ \\n')\n",
    "    bMD.write('\\n')\n",
    "    bMD.write('FoamFile \\n')\n",
    "    bMD.write('{ \\n')\n",
    "    bMD.write('    version     2.0; \\n')\n",
    "    bMD.write('    format      ascii; \\n')\n",
    "    bMD.write('    class       dictionary; \\n')\n",
    "    bMD.write('    object      blockMeshDict;; \\n')\n",
    "    bMD.write('} \\n')\n",
    "    bMD.write('// * * * * * * * * * * * * * * * * * * * * * * * * * * * * * * * * * * * * * // \\n')\n",
    "    bMD.write('\\n')\n",
    "    bMD.write('convertToMeters 1; \\n')\n",
    "    bMD.write('\\n')"
   ]
  },
  {
   "cell_type": "markdown",
   "metadata": {},
   "source": [
    "# 4. Vertices"
   ]
  },
  {
   "cell_type": "code",
   "execution_count": 15,
   "metadata": {},
   "outputs": [],
   "source": [
    "with open('./extMesh/system/blockMeshDict', \"a\") as bMD:\n",
    "    bMD.write('vertices \\n')\n",
    "    bMD.write('( \\n')\n",
    "    bMD.write('    (%.8f %.8f %.8f) \\n' %(zero[0], zero[1], minZ))         #0\n",
    "    bMD.write('    (%.8f %.8f %.8f) \\n' %(one[0], one[1], minZ))           #1\n",
    "    bMD.write('    (%.8f %.8f %.8f) \\n' %(two[0], two[1], minZ))           #2\n",
    "    bMD.write('    (%.8f %.8f %.8f) \\n' %(three[0], three[1], minZ))       #3\n",
    "    bMD.write('    (%.8f %.8f %.8f) \\n' %(four[0], four[1], minZ))         #4\n",
    "    bMD.write('    (%.8f %.8f %.8f) \\n' %(five[0], five[1], minZ))         #5\n",
    "    bMD.write('    (%.8f %.8f %.8f) \\n' %(six[0], six[1], minZ))           #6\n",
    "    bMD.write('    (%.8f %.8f %.8f) \\n' %(seven[0], seven[1], minZ))       #7\n",
    "    bMD.write('    (%.8f %.8f %.8f) \\n' %(eight[0], eight[1], minZ))       #8\n",
    "    bMD.write('    (%.8f %.8f %.8f) \\n' %(nine[0], nine[1], minZ))         #9\n",
    "    bMD.write('    (%.8f %.8f %.8f) \\n' %(ten[0], ten[1], minZ))           #10\n",
    "    bMD.write('    (%.8f %.8f %.8f) \\n' %(eleven[0], eleven[1], minZ))     #11\n",
    "    bMD.write('    (%.8f %.8f %.8f) \\n' %(zero[0], zero[1], maxZ))         #12\n",
    "    bMD.write('    (%.8f %.8f %.8f) \\n' %(one[0], one[1], maxZ))           #13\n",
    "    bMD.write('    (%.8f %.8f %.8f) \\n' %(two[0], two[1], maxZ))           #14\n",
    "    bMD.write('    (%.8f %.8f %.8f) \\n' %(three[0], three[1], maxZ))       #15\n",
    "    bMD.write('    (%.8f %.8f %.8f) \\n' %(four[0], four[1], maxZ))         #16\n",
    "    bMD.write('    (%.8f %.8f %.8f) \\n' %(five[0], five[1], maxZ))         #17\n",
    "    bMD.write('    (%.8f %.8f %.8f) \\n' %(six[0], six[1], maxZ))           #18\n",
    "    bMD.write('    (%.8f %.8f %.8f) \\n' %(seven[0], seven[1], maxZ))       #19\n",
    "    bMD.write('    (%.8f %.8f %.8f) \\n' %(eight[0], eight[1], maxZ))       #20\n",
    "    bMD.write('    (%.8f %.8f %.8f) \\n' %(nine[0], nine[1], maxZ))         #21\n",
    "    bMD.write('    (%.8f %.8f %.8f) \\n' %(ten[0], ten[1], maxZ))           #28\n",
    "    bMD.write('    (%.8f %.8f %.8f) \\n' %(eleven[0], eleven[1], maxZ))     #23\n",
    "    bMD.write('); \\n')\n",
    "    bMD.write('\\n')"
   ]
  },
  {
   "cell_type": "markdown",
   "metadata": {},
   "source": [
    "# 5. Blocks"
   ]
  },
  {
   "cell_type": "code",
   "execution_count": 16,
   "metadata": {},
   "outputs": [],
   "source": [
    "with open('./extMesh/system/blockMeshDict', \"a\") as bMD:\n",
    "    bMD.write('blocks \\n')\n",
    "    bMD.write('( \\n')\n",
    "    for i in range(len(blocks.nodes)):\n",
    "        bMD.write('    hex (%i %i %i %i %i %i %i %i) (%i %i %i) simpleGrading\\n' %(blocks.nodes[i][0], blocks.nodes[i][1], \n",
    "                                                                                   blocks.nodes[i][2], blocks.nodes[i][3], \n",
    "                                                                                   blocks.nodes[i][4], blocks.nodes[i][5], \n",
    "                                                                                   blocks.nodes[i][6], blocks.nodes[i][7], \n",
    "                                                                                   blocks.cells[i][0], blocks.cells[i][1],\n",
    "                                                                                   blocks.cells[i][2]))\n",
    "        bMD.write('    ( \\n') \n",
    "        for j in range(len(blocks.grading[i])):\n",
    "            if isinstance(blocks.grading[i][j], int) == False:\n",
    "                bMD.write('     ( \\n')    \n",
    "                for k in range(len(blocks.grading[i][j])):\n",
    "                    bMD.write('     (%.3f %.3f %.3f) \\n' %(blocks.grading[i][j][k][0], blocks.grading[i][j][k][1], blocks.grading[i][j][k][2]))\n",
    "                bMD.write('     ) \\n')\n",
    "            else:\n",
    "                bMD.write('    %.3f \\n' %(blocks.grading[i][j]))\n",
    "        bMD.write('    ) \\n')\n",
    "    bMD.write('); \\n')\n",
    "    bMD.write('\\n')"
   ]
  },
  {
   "cell_type": "markdown",
   "metadata": {},
   "source": [
    "# 6. Edges"
   ]
  },
  {
   "cell_type": "code",
   "execution_count": 17,
   "metadata": {},
   "outputs": [],
   "source": [
    "with open('./extMesh/system/blockMeshDict', \"a\") as bMD:\n",
    "    bMD.write('edges \\n')\n",
    "    bMD.write('( \\n')\n",
    "#    bMD.write('    spline 0 1 ( \\n')\n",
    "#    for i in range(np.shape(xAxis)[0]):\n",
    "#        bMD.write('        (%.8f %.8f %.8f) \\n' %(xAxis[i], ylAxis[i]+minY, minZ))\n",
    "#    bMD.write('        ) \\n')\n",
    "#    bMD.write('    polyLine 3 2 ( \\n')\n",
    "#    for i in range(np.shape(xAxis)[0]):\n",
    "#        bMD.write('        (%.8f %.8f %.8f) \\n' %(xAxis[i], yuAxis[i]+maxY, minZ))\n",
    "#    bMD.write('        ) \\n')\n",
    "#    bMD.write('    spline 4 5 ( \\n')\n",
    "#    for i in range(np.shape(xAxis)[0]):\n",
    "#        bMD.write('        (%.8f %.8f %.8f) \\n' %(xAxis[i], ylAxis[i]+minY, maxZ))\n",
    "#    bMD.write('        ) \\n')\n",
    "#    bMD.write('    polyLine 7 6 ( \\n')\n",
    "#    for i in range(np.shape(xAxis)[0]):\n",
    "#        bMD.write('        (%.8f %.8f %.8f) \\n' %(xAxis[i], yuAxis[i]+maxY, maxZ))\n",
    "#    bMD.write('        ) \\n')\n",
    "    bMD.write('); \\n')\n",
    "    bMD.write('\\n')"
   ]
  },
  {
   "cell_type": "markdown",
   "metadata": {},
   "source": [
    "# 7. Boundary"
   ]
  },
  {
   "cell_type": "code",
   "execution_count": 18,
   "metadata": {},
   "outputs": [],
   "source": [
    "with open('./extMesh/system/blockMeshDict', \"a\") as bMD:\n",
    "    bMD.write('boundary \\n')\n",
    "    bMD.write('( \\n')\n",
    "    bMD.write(' \\n')\n",
    "    bMD.write('); \\n')"
   ]
  },
  {
   "cell_type": "markdown",
   "metadata": {},
   "source": [
    "# 8. blockMesh and paraFoam"
   ]
  },
  {
   "cell_type": "code",
   "execution_count": 19,
   "metadata": {},
   "outputs": [
    {
     "name": "stdout",
     "output_type": "stream",
     "text": [
      "/*---------------------------------------------------------------------------*\\\n",
      "| =========                 |                                                 |\n",
      "| \\\\      /  F ield         | OpenFOAM: The Open Source CFD Toolbox           |\n",
      "|  \\\\    /   O peration     | Version:  5.0                                   |\n",
      "|   \\\\  /    A nd           | Web:      www.OpenFOAM.org                      |\n",
      "|    \\\\/     M anipulation  |                                                 |\n",
      "\\*---------------------------------------------------------------------------*/\n",
      "Build  : 5.0-dbb428a3a855\n",
      "Exec   : blockMesh\n",
      "Date   : Feb 03 2018\n",
      "Time   : 17:07:48\n",
      "Host   : \"lenovoYoga\"\n",
      "PID    : 32254\n",
      "I/O    : uncollated\n",
      "Case   : /home/jlobatop/Documents/Thesis/senior-thesis/mesh-generation/extMesh\n",
      "nProcs : 1\n",
      "sigFpe : Enabling floating point exception trapping (FOAM_SIGFPE).\n",
      "fileModificationChecking : Monitoring run-time modified files using timeStampMaster (fileModificationSkew 10)\n",
      "allowSystemOperations : Allowing user-supplied system call operations\n",
      "\n",
      "// * * * * * * * * * * * * * * * * * * * * * * * * * * * * * * * * * * * * * //\n",
      "Create time\n",
      "\n",
      "Deleting polyMesh directory\n",
      "    \"/home/jlobatop/Documents/Thesis/senior-thesis/mesh-generation/extMesh/constant/polyMesh\"\n",
      "Creating block mesh from\n",
      "    \"/home/jlobatop/Documents/Thesis/senior-thesis/mesh-generation/extMesh/system/blockMeshDict\"\n",
      "Creating block edges\n",
      "No non-planar block faces defined\n",
      "Creating topology blocks\n",
      "Creating topology patches\n",
      "\n",
      "Creating block mesh topology\n",
      "--> FOAM Warning : \n",
      "    From function Foam::polyMesh::polyMesh(const Foam::IOobject&, const Foam::Xfer<Foam::Field<Foam::Vector<double> > >&, const cellShapeList&, const faceListList&, const wordList&, const Foam::PtrList<Foam::dictionary>&, const Foam::word&, const Foam::word&, bool)\n",
      "    in file meshes/polyMesh/polyMeshFromShapeMesh.C at line 871\n",
      "    Found 24 undefined faces in mesh; adding to default patch.\n",
      "\n",
      "Check topology\n",
      "\n",
      "\tBasic statistics\n",
      "\t\tNumber of internal faces : 6\n",
      "\t\tNumber of boundary faces : 24\n",
      "\t\tNumber of defined boundary faces : 24\n",
      "\t\tNumber of undefined boundary faces : 0\n",
      "\tChecking patch -> block consistency\n",
      "\n",
      "Creating block offsets\n",
      "Creating merge list .\n",
      "\n",
      "Creating polyMesh from blockMesh\n",
      "Creating patches\n",
      "Creating cells\n",
      "Creating points with scale 1\n",
      "    Block 0 cell size :\n",
      "        i : 0.00865124 .. 0.00865124\n",
      "        j : 0.1 .. 0.1\n",
      "        k : 0.1 .. 0.1\n",
      "\n",
      "    Block 1 cell size :\n",
      "        i : 0.0749731 .. 0.0749731\n",
      "        j : 0.0980176 .. 0.0980176\n",
      "        k : 0.1 .. 0.1\n",
      "\n",
      "    Block 2 cell size :\n",
      "        i : 0.0857143 .. 0.0857143\n",
      "        j : 0.1 .. 0.1\n",
      "        k : 0.1 .. 0.1\n",
      "\n",
      "    Block 3 cell size :\n",
      "        i : 0.00865124 .. 0.00865124\n",
      "        j : 0.1 .. 0.1\n",
      "        k : 0.1 .. 0.1\n",
      "\n",
      "    Block 4 cell size :\n",
      "        i : 0.0749731 .. 0.0749731\n",
      "        j : 0.0980176 .. 0.0980176\n",
      "        k : 0.1 .. 0.1\n",
      "\n",
      "    Block 5 cell size :\n",
      "        i : 0.0857143 .. 0.0857143\n",
      "        j : 0.1 .. 0.1\n",
      "        k : 0.1 .. 0.1\n",
      "\n",
      "\n",
      "There are no merge patch pairs edges\n",
      "\n",
      "Writing polyMesh\n",
      "----------------\n",
      "Mesh Information\n",
      "----------------\n",
      "  boundingBox: (-3 -3 0) (7 3 0.1)\n",
      "  nPoints: 13560\n",
      "  nCells: 6600\n",
      "  nFaces: 26580\n",
      "  nInternalFaces: 13020\n",
      "----------------\n",
      "Patches\n",
      "----------------\n",
      "  patch 0 (start: 13020 size: 13560) name: defaultFaces\n",
      "\n",
      "End\n",
      "\n",
      "Created temporary 'extMesh.OpenFOAM'\n",
      "I/O    : uncollated\n",
      "Generic Warning: In /home/ubuntu/OpenFOAM/ThirdParty-dev/ParaView-5.4.0/VTK/Rendering/Volume/vtkVolumeTextureMapper3D.cxx, line 680\n",
      "vtkVolumeTextureMapper3D::vtkVolumeTextureMapper3D was deprecated for VTK 7.0 and will be removed in a future version.\n",
      "\n",
      "Generic Warning: In /home/ubuntu/OpenFOAM/ThirdParty-dev/ParaView-5.4.0/VTK/Rendering/VolumeOpenGL/vtkOpenGLVolumeTextureMapper3D.cxx, line 57\n",
      "vtkOpenGLVolumeTextureMapper3D::vtkOpenGLVolumeTextureMapper3D was deprecated for VTK 7.0 and will be removed in a future version.\n",
      "\n"
     ]
    }
   ],
   "source": [
    "%%bash\n",
    "cd extMesh/\n",
    "blockMesh\n",
    "paraFoam"
   ]
  }
 ],
 "metadata": {
  "kernelspec": {
   "display_name": "Python 3",
   "language": "python",
   "name": "python3"
  },
  "language_info": {
   "codemirror_mode": {
    "name": "ipython",
    "version": 3
   },
   "file_extension": ".py",
   "mimetype": "text/x-python",
   "name": "python",
   "nbconvert_exporter": "python",
   "pygments_lexer": "ipython3",
   "version": "3.6.1"
  }
 },
 "nbformat": 4,
 "nbformat_minor": 2
}
