{
 "cells": [
  {
   "cell_type": "code",
   "execution_count": 204,
   "metadata": {},
   "outputs": [],
   "source": [
    "%matplotlib inline\n",
    "import numpy as np\n",
    "import matplotlib.pyplot as plt"
   ]
  },
  {
   "cell_type": "code",
   "execution_count": 205,
   "metadata": {},
   "outputs": [],
   "source": [
    "%%bash\n",
    "rm extMesh/system/blockMeshDict"
   ]
  },
  {
   "cell_type": "markdown",
   "metadata": {},
   "source": [
    "# 0. Input values"
   ]
  },
  {
   "cell_type": "markdown",
   "metadata": {},
   "source": [
    "Just vary the parameters inside this section and then click Run All"
   ]
  },
  {
   "cell_type": "markdown",
   "metadata": {},
   "source": [
    "## 0.0 Case parameters"
   ]
  },
  {
   "cell_type": "code",
   "execution_count": 206,
   "metadata": {},
   "outputs": [],
   "source": [
    "target_yplus = 10\n",
    "U = 10\n",
    "mu = 0.00001789\n",
    "rho = 1.225"
   ]
  },
  {
   "cell_type": "markdown",
   "metadata": {},
   "source": [
    "## 0.1 Basic parameters"
   ]
  },
  {
   "cell_type": "code",
   "execution_count": 207,
   "metadata": {},
   "outputs": [],
   "source": [
    "chord = 1          #chord of the airfoil\n",
    "percChord = 0.25   #percentage of the chord in which the block cut is made\n",
    "Vspace = 3*chord   #vertical space above and below the airfoil\n",
    "wake = 7*chord     #horizontal space after the trailing edge\n",
    "minZ = 0.0         #minimum z-coordinate value\n",
    "maxZ = 0.1         #maximum z-coordinate value\n",
    "NACAtype = '2412'  #NACA 4 digit airfoil"
   ]
  },
  {
   "cell_type": "markdown",
   "metadata": {},
   "source": [
    "## 0.2 Grid configuration"
   ]
  },
  {
   "cell_type": "code",
   "execution_count": 208,
   "metadata": {},
   "outputs": [],
   "source": [
    "inflowXcells = 60   #number of cells ahead the airfoil \n",
    "middleXcells = 50    #number of cells over the airfoil \n",
    "outflowXcells = 350  #number of cells downstream the airfoil\n",
    "\n",
    "yCells = 40          #number of cells above and below the airfoil\n",
    "\n",
    "zCells = 1           #number of cells in the z-direction"
   ]
  },
  {
   "cell_type": "markdown",
   "metadata": {},
   "source": [
    "## 0.3 Airfoil chord configuration"
   ]
  },
  {
   "cell_type": "code",
   "execution_count": 209,
   "metadata": {},
   "outputs": [],
   "source": [
    "noPoints = inflowXcells + middleXcells   #number of points of the airfoil (and therefore upstream and over the airfoil)\n",
    "                                                 \n",
    "percentage = np.array([0.1, 0.15, 0.375, 0.375])    #percentage distribution of points in the chord \n",
    "                                                 #the first two must add to percChord\n",
    "divisions = np.array([0.18, 0.12, 0.4, 0.3])      #allocation of the noPoints divisions over the chord\n",
    "expansionR = np.array([3, 1.5, 1.8, 0.8])           #expansion ratio of each one of the divisions"
   ]
  },
  {
   "cell_type": "markdown",
   "metadata": {},
   "source": [
    "## 0.4 Grading of Y direction "
   ]
  },
  {
   "cell_type": "code",
   "execution_count": 210,
   "metadata": {},
   "outputs": [],
   "source": [
    "expansionRatioYdir = 1.321\n",
    "NoLayers = 15\n",
    "yGradingOutflow = 30  #grading on the outflow direction"
   ]
  },
  {
   "cell_type": "markdown",
   "metadata": {},
   "source": [
    "## 0.5 Grading of outflow X direction "
   ]
  },
  {
   "cell_type": "code",
   "execution_count": 211,
   "metadata": {},
   "outputs": [],
   "source": [
    "xGradingOutflow = 2  #grading on the outflow direction"
   ]
  },
  {
   "cell_type": "markdown",
   "metadata": {},
   "source": [
    "# 1. Function declaration"
   ]
  },
  {
   "cell_type": "code",
   "execution_count": 212,
   "metadata": {},
   "outputs": [],
   "source": [
    "def NACA4(s, chord):\n",
    "\n",
    "    #definition of the NACA profile as XXXX\n",
    "    NACA = s\n",
    "    c = chord #chord line\n",
    "\n",
    "    #NACA XXXX = m p (pt)\n",
    "    m = int(int(NACA)/1e3)/1e2 #maximum camber\n",
    "    p = int((int(NACA)-m*1e5)/1e2)/1e1 #location of maximum camber\n",
    "    pt = int((int(NACA)-m*1e5-p*1e3)) #percentage of thickness with respect to the chord\n",
    "\n",
    "    #mean camber line definition\n",
    "    if p != 0:\n",
    "        x = np.append(np.linspace(0,p/100*c,500)[:-1],np.linspace(p/100*c,c,250))\n",
    "        x_pc = x<(p*c) #masked array to create the piece-wise function\n",
    "\n",
    "        yc1 = ((c*m)/(p**2))*(2*p*(x/c)-(x/c)**2)\n",
    "        yc2 = ((c*m)/((1-p)**2))*((1-2*p)+2*p*(x/c)-(x/c)**2)\n",
    "\n",
    "        yc = np.zeros(np.shape(x))\n",
    "\n",
    "        for i in range(np.shape(x)[0]):\n",
    "            if x_pc[i] == True:\n",
    "                yc[i] = yc1[i]\n",
    "            else:\n",
    "                yc[i] = yc2[i]\n",
    "\n",
    "        #mean camber line derivative\n",
    "        dyc1dx = (2*m)/(p**2)*(p-(x/c))\n",
    "        dyc2dx = (2*m)/((1-p)**2)*(p-(x/c))\n",
    "\n",
    "        dycdx = np.zeros(np.shape(x))\n",
    "\n",
    "        for i in range(np.shape(x)[0]):\n",
    "            if x_pc[i] == True:\n",
    "                dycdx[i] = dyc1dx[i]\n",
    "            else:\n",
    "                dycdx[i] = dyc2dx[i]\n",
    "\n",
    "        theta = np.arctan(dycdx)\n",
    "\n",
    "    else:\n",
    "        #symmetric airfoil camber line\n",
    "        x = np.linspace(0,c,750)\n",
    "        yc = np.zeros(np.shape(x))\n",
    "\n",
    "    #thickness\n",
    "    if p != 0:\n",
    "        yt = 5*pt/100*(0.2969*np.sqrt(x/c)-0.1260*(x/c)-0.3516*(x/c)**2+0.2843*(x/c)**3-0.1036*(x/c)**4)\n",
    "        xu = x - yt*np.sin(theta)\n",
    "        xl = x + yt*np.sin(theta)\n",
    "        yu = yc + yt*np.cos(theta)\n",
    "        yl = yc - yt*np.cos(theta)\n",
    "\n",
    "        return xu, xl, yu, yl\n",
    "        \n",
    "    else:\n",
    "        yt = 5*pt/100*(0.2969*np.sqrt(x/c)-0.1260*(x/c)-0.3516*(x/c)**2+0.2843*(x/c)**3-0.1036*(x/c)**4)\n",
    "\n",
    "        return x, x, yt, -yt"
   ]
  },
  {
   "cell_type": "code",
   "execution_count": 213,
   "metadata": {},
   "outputs": [],
   "source": [
    "def simple_grading(N, expRatio, L):\n",
    "    delta = np.zeros(N) #size of each cell array\n",
    "    nodes = np.zeros(N+1) #position of the nodes\n",
    "\n",
    "    kVal = expRatio**((1)/(N-1)) \n",
    "    k = np.zeros(N) #increment of each cell\n",
    "\n",
    "    for i in range(N):\n",
    "        k[i] = kVal**(i) \n",
    "\n",
    "    deltaS = L/np.sum(k)  #first cell size \n",
    "\n",
    "    delta = deltaS*k #size of each cell\n",
    "    \n",
    "    for i in range(N):\n",
    "        nodes[i+1] = nodes[i] + delta[i]\n",
    "        \n",
    "    return nodes"
   ]
  },
  {
   "cell_type": "code",
   "execution_count": 214,
   "metadata": {},
   "outputs": [],
   "source": [
    "def multi_grading(perc, cells, eps, N, L): \n",
    "    \n",
    "    #some initial shape and value comprobations\n",
    "    if np.sum(perc) != 1:\n",
    "        print('Bad percentage array input')\n",
    "        return\n",
    "\n",
    "    if np.sum(cells) != 1:\n",
    "        print('Bad cell array input')\n",
    "        return\n",
    "    \n",
    "    if np.shape(perc)[0] != np.shape(cells)[0] or np.shape(perc)[0] != np.shape(eps)[0] or np.shape(cells)[0] != np.shape(eps)[0]:\n",
    "        print('Non equal vector definition')\n",
    "        return\n",
    "        \n",
    "    segmentN = (N*cells) #cells per segment\n",
    "    restCells = np.modf(segmentN)[0] #in case there are decimal values\n",
    "    segmentN = np.trunc(segmentN) #integer value of the cells\n",
    "\n",
    "    i = np.sum(restCells) #distributor of the 'decimal' parts of the cells\n",
    "    while i > 0:\n",
    "        segmentN[np.argmax(restCells)] = segmentN[np.argmax(restCells)] + int(i)\n",
    "        restCells[np.argmax(restCells)] = 0\n",
    "        i -= 1\n",
    "   \n",
    "    segmentL = (L*perc) #length per segment\n",
    "\n",
    "    nodes = np.zeros(N+1) #number of nodes\n",
    "        \n",
    "    for i in range(np.shape(perc)[0]):\n",
    "        nodesTemp = simple_grading(int(segmentN[i]), eps[i], segmentL[i])\n",
    "        for j in range(np.shape(nodesTemp)[0]):\n",
    "            if i == 0:\n",
    "                nodes[j] = nodesTemp[j]\n",
    "            else:\n",
    "                nodes[int(np.cumsum(segmentN)[i-1]) + j] = nodesTemp[j] + nodes[int(np.cumsum(segmentN)[i-1])]\n",
    "\n",
    "    return nodes"
   ]
  },
  {
   "cell_type": "code",
   "execution_count": 215,
   "metadata": {},
   "outputs": [],
   "source": [
    "def grading_plot(x): #nodes should be imported\n",
    "\n",
    "    y = 0.5*np.ones(np.shape(x)[0])\n",
    "    \n",
    "    fig, ax = plt.subplots(figsize=(20, 1), dpi=100)\n",
    "        \n",
    "    ax.set_xlim(-x[1]*0.5,1.1*x[-1])\n",
    "    ax.set_ylim(0,1)\n",
    "    ax.axis('off')\n",
    "    ax.plot([x[0],x[-1]],[y[0],y[-1]],'k')\n",
    "    ax.scatter(x,y,c='k')"
   ]
  },
  {
   "cell_type": "code",
   "execution_count": 216,
   "metadata": {},
   "outputs": [],
   "source": [
    "def airfoilTrueX(newX, xu, yu, xl, yl):\n",
    "    yuAxis = np.interp(newX, xu, yu)\n",
    "    ylAxis = np.interp(newX, xl, yl)\n",
    "    return yuAxis, ylAxis"
   ]
  },
  {
   "cell_type": "code",
   "execution_count": 217,
   "metadata": {},
   "outputs": [],
   "source": [
    "def BLcalculator(target_yplus, U, L, mu, rho, flow, expansionRatio, NoLayers, length, totalCells, grid_dir, outerYgrad):\n",
    "    Re = (rho*U*L)/(mu)\n",
    "\n",
    "    if flow == 'e':\n",
    "        cf = 0.058*Re**(-0.2)\n",
    "    else:\n",
    "        cf = 0.079*Re**(-0.25)\n",
    "\n",
    "    dy1 = target_yplus*mu/(rho*np.sqrt(0.5*cf*U**2))\n",
    "    \n",
    "    layerSize = dy1*np.ones(NoLayers)\n",
    "\n",
    "    for i in range (1, NoLayers):\n",
    "        layerSize[i] = layerSize[i-1]*expansionRatio\n",
    "\n",
    "    yCoord = np.cumsum(layerSize)\n",
    "    \n",
    "    BL_length = yCoord[-1]\n",
    "    bm_expRatio = expansionRatio**(NoLayers-1)\n",
    "    \n",
    "    if grid_dir == 't':\n",
    "        perc = np.array([BL_length/length, 1-BL_length/length])\n",
    "        cells = np.array([NoLayers/totalCells, (totalCells-NoLayers)/totalCells])\n",
    "        exp = np.array([bm_expRatio, outerYgrad])\n",
    "    else:\n",
    "        perc = np.array([1-BL_length/length, BL_length/length])\n",
    "        cells = np.array([(totalCells-NoLayers)/totalCells, NoLayers/totalCells])\n",
    "        exp = np.array([outerYgrad, bm_expRatio])\n",
    "    \n",
    "    return perc, cells, exp"
   ]
  },
  {
   "cell_type": "markdown",
   "metadata": {},
   "source": [
    "# 2. Point calculations"
   ]
  },
  {
   "cell_type": "markdown",
   "metadata": {},
   "source": [
    "### 2.1. Spline points"
   ]
  },
  {
   "cell_type": "code",
   "execution_count": 218,
   "metadata": {},
   "outputs": [
    {
     "data": {
      "image/png": "[encoded data removed]",
      "text/plain": [
       "<matplotlib.figure.Figure at 0x7fa7ef2453c8>"
      ]
     },
     "metadata": {},
     "output_type": "display_data"
    }
   ],
   "source": [
    "#xAxis = multi_grading(percentage, divisions, expansionR, noPoints, chord)\n",
    "\n",
    "#while (np.abs(xAxis-percChord*chord)).argmin() != inflowXcells:\n",
    "#    inflowXcells = (np.abs(xAxis-percChord*chord)).argmin()\n",
    "#    xAxis = multi_grading(percentage, divisions, expansionR, noPoints, chord)\n",
    "#    print(inflowXcells)\n",
    "\n",
    "#let's compute more points for the profile spline than for the mesh\n",
    "xAxis = multi_grading(percentage, divisions, expansionR, 10*noPoints, chord)\n",
    "    \n",
    "xu, xl, yu, yl = NACA4(NACAtype, chord)\n",
    "\n",
    "yuAxis, ylAxis = airfoilTrueX(xAxis, xu, yu, xl, yl)\n",
    "\n",
    "if any(np.isin(np.cumsum(percentage), percChord*np.ones(len(percentage)))) == False:\n",
    "    print('Bad percentage array declaration')\n",
    "    \n",
    "if percentage[0]+percentage[1] != percChord:\n",
    "    print('Bad percentage array declaration')\n",
    "    \n",
    "grading_plot(xAxis)"
   ]
  },
  {
   "cell_type": "markdown",
   "metadata": {},
   "source": [
    "### 2.2. Vertice points"
   ]
  },
  {
   "cell_type": "code",
   "execution_count": 219,
   "metadata": {},
   "outputs": [],
   "source": [
    "zero = np.array([-Vspace, 0.0])\n",
    "one = np.array([1-chord, 0.0])\n",
    "two = np.array([1-chord+xAxis[(np.abs(xAxis-percChord*chord)).argmin()], yuAxis[(np.abs(xAxis-percChord*chord)).argmin()]])\n",
    "three = np.array([1-chord+xAxis[(np.abs(xAxis-percChord*chord)).argmin()], Vspace])\n",
    "four = np.array([1.0, Vspace])\n",
    "five = np.array([1.0, 0.0])\n",
    "six = np.array([wake, Vspace])\n",
    "seven = np.array([wake, 0.0])\n",
    "eight = np.array([wake, -Vspace])\n",
    "nine = np.array([1.0, -Vspace])\n",
    "ten = np.array([1-chord+xAxis[(np.abs(xAxis-percChord*chord)).argmin()], -Vspace])\n",
    "eleven = np.array([1-chord+xAxis[(np.abs(xAxis-percChord*chord)).argmin()], ylAxis[(np.abs(xAxis-percChord*chord)).argmin()]])"
   ]
  },
  {
   "cell_type": "markdown",
   "metadata": {},
   "source": [
    "### 2.3. Expansion ratios"
   ]
  },
  {
   "cell_type": "code",
   "execution_count": 220,
   "metadata": {},
   "outputs": [],
   "source": [
    "percYdir, cellsYdir, expYdir = BLcalculator(target_yplus, U, chord, mu, rho, 'e', expansionRatioYdir, NoLayers, Vspace, yCells, 't', yGradingOutflow)"
   ]
  },
  {
   "cell_type": "markdown",
   "metadata": {},
   "source": [
    "### 2.4. Blocks definition"
   ]
  },
  {
   "cell_type": "code",
   "execution_count": 221,
   "metadata": {},
   "outputs": [],
   "source": [
    "class blocksClass:\n",
    "     def __init__(self, nodes, cellNo, grading):\n",
    "        self.nodes = nodes\n",
    "        self.cells = cellNo\n",
    "        self.grading = grading"
   ]
  },
  {
   "cell_type": "code",
   "execution_count": 222,
   "metadata": {},
   "outputs": [],
   "source": [
    "nodes = np.array([[1,2,3,0,13,14,15,12],      #block0\n",
    "                 [2,5,4,3,14,17,16,15],       #block1\n",
    "                 [5,7,6,4,17,19,18,16],       #block2\n",
    "                 [13,23,22,12,1,11,10,0],     #block3\n",
    "                 [23,17,21,22,11,5,9,10],     #block4\n",
    "                 [17,19,20,21,5,7,8,9]])      #block5\n",
    "\n",
    "cellsNo = np.array([[inflowXcells, yCells, zCells],     #block0\n",
    "                  [middleXcells, yCells, zCells],       #block1\n",
    "                  [outflowXcells, yCells, zCells],      #block2\n",
    "                  [inflowXcells, yCells, zCells],       #block3\n",
    "                  [middleXcells, yCells, zCells],       #block4\n",
    "                  [outflowXcells, yCells, zCells]])     #block5\n",
    "\n",
    "grading = np.array([[[[percentage[0], divisions[0], expansionR[0]],[percentage[1], divisions[1], expansionR[1]]], [[percYdir[0], cellsYdir[0], expYdir[0]],[percYdir[1], cellsYdir[1], expYdir[1]]], 1],     #block0\n",
    "                   [[[percentage[2], divisions[2], expansionR[2]],[percentage[3], divisions[3], expansionR[3]]], [[percYdir[0], cellsYdir[0], expYdir[0]],[percYdir[1], cellsYdir[1], expYdir[1]]], 1],      #block1\n",
    "                   [xGradingOutflow, [[percYdir[0], cellsYdir[0], expYdir[0]],[percYdir[1], cellsYdir[1], expYdir[1]]], 1],                                                                                                #block2\n",
    "                   [[[percentage[0], divisions[0], expansionR[0]],[percentage[1], divisions[1], expansionR[1]]], [[percYdir[0], cellsYdir[0], expYdir[0]],[percYdir[1], cellsYdir[1], expYdir[1]]], 1],      #block3\n",
    "                   [[[percentage[2], divisions[2], expansionR[2]],[percentage[3], divisions[3], expansionR[3]]], [[percYdir[0], cellsYdir[0], expYdir[0]],[percYdir[1], cellsYdir[1], expYdir[1]]], 1],      #block4\n",
    "                   [xGradingOutflow, [[percYdir[0], cellsYdir[0], expYdir[0]],[percYdir[1], cellsYdir[1], expYdir[1]]], 1]])                                                                                               #block5\n",
    "\n",
    "blocks = blocksClass(nodes, cellsNo, grading)"
   ]
  },
  {
   "cell_type": "markdown",
   "metadata": {},
   "source": [
    "### 2.5. Arc edge"
   ]
  },
  {
   "cell_type": "code",
   "execution_count": 223,
   "metadata": {},
   "outputs": [],
   "source": [
    "arc = np.array([Vspace*np.cos(np.deg2rad(45)), Vspace*np.sin(np.deg2rad(45))])"
   ]
  },
  {
   "cell_type": "markdown",
   "metadata": {},
   "source": [
    "### 2.6. Boundaries "
   ]
  },
  {
   "cell_type": "code",
   "execution_count": 224,
   "metadata": {},
   "outputs": [],
   "source": [
    "class boundaryClass:\n",
    "     def __init__(self, name, Btype, faceNo, faces):\n",
    "        self.name = name\n",
    "        self.type = Btype\n",
    "        self.faceNo = faceNo\n",
    "        self.faces = faces"
   ]
  },
  {
   "cell_type": "code",
   "execution_count": 225,
   "metadata": {},
   "outputs": [],
   "source": [
    "boundName = np.array(['inlet', 'outlet', 'airfoil', 'frontAndBack'])\n",
    "boundType = np.array(['patch', 'patch', 'patch', 'empty'])\n",
    "boundFaceNo = np.array([4, 4, 4, 12])\n",
    "boundFaces = np.array([[[3, 15, 12, 0], [0, 12, 22, 10], [10, 22, 21, 9], [9, 21, 20, 8]],\n",
    "                      [[15, 3, 4, 16], [16, 4, 6, 18], [18, 6, 7, 19], [19, 7, 8, 20]], \n",
    "                      [[2, 14, 17, 5], [5, 17, 23, 11], [13, 1, 11, 23], [14, 2, 1, 13]],\n",
    "                      [[15, 14, 13, 12], [15, 16, 17, 14], [16, 18, 19, 17], [17, 19, 20, 21], [23, 17, 21, 22], [12, 13, 23, 22],\n",
    "                       [2, 3, 0, 1], [4, 3, 2, 5], [6, 4, 7, 5], [1, 0, 10, 11], [11, 10, 9, 5], [5, 9, 8, 7]]])\n",
    "\n",
    "boundary = boundaryClass(boundName, boundType, boundFaceNo, boundFaces)"
   ]
  },
  {
   "cell_type": "markdown",
   "metadata": {},
   "source": [
    "# 3. Header"
   ]
  },
  {
   "cell_type": "code",
   "execution_count": 226,
   "metadata": {},
   "outputs": [],
   "source": [
    "with open('./extMesh/system/blockMeshDict', 'a') as bMD:\n",
    "    bMD.write('/*--------------------------------*- C++ -*----------------------------------*\\ \\n')\n",
    "    bMD.write('| =========                 |                                                 | \\n')\n",
    "    bMD.write('| \\\\      /  F ield         | OpenFOAM: The Open Source CFD Toolbox           | \\n')\n",
    "    bMD.write('|  \\\\    /   O peration     | Version:  5                                     | \\n')\n",
    "    bMD.write('|   \\\\  /    A nd           | Web:      www.OpenFOAM.org                      | \\n')\n",
    "    bMD.write('|    \\\\/     M anipulation  |                                                 | \\n')\n",
    "    bMD.write('\\*---------------------------------------------------------------------------*/ \\n')\n",
    "    bMD.write('\\n')\n",
    "    bMD.write('FoamFile \\n')\n",
    "    bMD.write('{ \\n')\n",
    "    bMD.write('    version     2.0; \\n')\n",
    "    bMD.write('    format      ascii; \\n')\n",
    "    bMD.write('    class       dictionary; \\n')\n",
    "    bMD.write('    object      blockMeshDict;; \\n')\n",
    "    bMD.write('} \\n')\n",
    "    bMD.write('// * * * * * * * * * * * * * * * * * * * * * * * * * * * * * * * * * * * * * // \\n')\n",
    "    bMD.write('\\n')\n",
    "    bMD.write('convertToMeters 1; \\n')\n",
    "    bMD.write('\\n')"
   ]
  },
  {
   "cell_type": "markdown",
   "metadata": {},
   "source": [
    "# 4. Vertices"
   ]
  },
  {
   "cell_type": "code",
   "execution_count": 227,
   "metadata": {},
   "outputs": [],
   "source": [
    "with open('./extMesh/system/blockMeshDict', \"a\") as bMD:\n",
    "    bMD.write('vertices \\n')\n",
    "    bMD.write('( \\n')\n",
    "    bMD.write('    (%.8f %.8f %.8f) \\n' %(zero[0], zero[1], minZ))         #0\n",
    "    bMD.write('    (%.8f %.8f %.8f) \\n' %(one[0], one[1], minZ))           #1\n",
    "    bMD.write('    (%.8f %.8f %.8f) \\n' %(two[0], two[1], minZ))           #2\n",
    "    bMD.write('    (%.8f %.8f %.8f) \\n' %(three[0], three[1], minZ))       #3\n",
    "    bMD.write('    (%.8f %.8f %.8f) \\n' %(four[0], four[1], minZ))         #4\n",
    "    bMD.write('    (%.8f %.8f %.8f) \\n' %(five[0], five[1], minZ))         #5\n",
    "    bMD.write('    (%.8f %.8f %.8f) \\n' %(six[0], six[1], minZ))           #6\n",
    "    bMD.write('    (%.8f %.8f %.8f) \\n' %(seven[0], seven[1], minZ))       #7\n",
    "    bMD.write('    (%.8f %.8f %.8f) \\n' %(eight[0], eight[1], minZ))       #8\n",
    "    bMD.write('    (%.8f %.8f %.8f) \\n' %(nine[0], nine[1], minZ))         #9\n",
    "    bMD.write('    (%.8f %.8f %.8f) \\n' %(ten[0], ten[1], minZ))           #10\n",
    "    bMD.write('    (%.8f %.8f %.8f) \\n' %(eleven[0], eleven[1], minZ))     #11\n",
    "    bMD.write('    (%.8f %.8f %.8f) \\n' %(zero[0], zero[1], maxZ))         #12\n",
    "    bMD.write('    (%.8f %.8f %.8f) \\n' %(one[0], one[1], maxZ))           #13\n",
    "    bMD.write('    (%.8f %.8f %.8f) \\n' %(two[0], two[1], maxZ))           #14\n",
    "    bMD.write('    (%.8f %.8f %.8f) \\n' %(three[0], three[1], maxZ))       #15\n",
    "    bMD.write('    (%.8f %.8f %.8f) \\n' %(four[0], four[1], maxZ))         #16\n",
    "    bMD.write('    (%.8f %.8f %.8f) \\n' %(five[0], five[1], maxZ))         #17\n",
    "    bMD.write('    (%.8f %.8f %.8f) \\n' %(six[0], six[1], maxZ))           #18\n",
    "    bMD.write('    (%.8f %.8f %.8f) \\n' %(seven[0], seven[1], maxZ))       #19\n",
    "    bMD.write('    (%.8f %.8f %.8f) \\n' %(eight[0], eight[1], maxZ))       #20\n",
    "    bMD.write('    (%.8f %.8f %.8f) \\n' %(nine[0], nine[1], maxZ))         #21\n",
    "    bMD.write('    (%.8f %.8f %.8f) \\n' %(ten[0], ten[1], maxZ))           #28\n",
    "    bMD.write('    (%.8f %.8f %.8f) \\n' %(eleven[0], eleven[1], maxZ))     #23\n",
    "    bMD.write('); \\n')\n",
    "    bMD.write('\\n')"
   ]
  },
  {
   "cell_type": "markdown",
   "metadata": {},
   "source": [
    "# 5. Blocks"
   ]
  },
  {
   "cell_type": "code",
   "execution_count": 228,
   "metadata": {},
   "outputs": [],
   "source": [
    "with open('./extMesh/system/blockMeshDict', \"a\") as bMD:\n",
    "    bMD.write('blocks \\n')\n",
    "    bMD.write('( \\n')\n",
    "    for i in range(len(blocks.nodes)):\n",
    "        bMD.write('    hex (%i %i %i %i %i %i %i %i) (%i %i %i) simpleGrading\\n' %(blocks.nodes[i][0], blocks.nodes[i][1], \n",
    "                                                                                   blocks.nodes[i][2], blocks.nodes[i][3], \n",
    "                                                                                   blocks.nodes[i][4], blocks.nodes[i][5], \n",
    "                                                                                   blocks.nodes[i][6], blocks.nodes[i][7], \n",
    "                                                                                   blocks.cells[i][0], blocks.cells[i][1],\n",
    "                                                                                   blocks.cells[i][2]))\n",
    "        bMD.write('    ( \\n') \n",
    "        for j in range(len(blocks.grading[i])):\n",
    "            if isinstance(blocks.grading[i][j], int) == False:\n",
    "                bMD.write('     ( \\n')    \n",
    "                for k in range(len(blocks.grading[i][j])):\n",
    "                    bMD.write('     (%.3f %.3f %.3f) \\n' %(blocks.grading[i][j][k][0], blocks.grading[i][j][k][1], blocks.grading[i][j][k][2]))\n",
    "                bMD.write('     ) \\n')\n",
    "            else:\n",
    "                bMD.write('    %.3f \\n' %(blocks.grading[i][j]))\n",
    "        bMD.write('    ) \\n')\n",
    "    bMD.write('); \\n')\n",
    "    bMD.write('\\n')"
   ]
  },
  {
   "cell_type": "markdown",
   "metadata": {},
   "source": [
    "# 6. Edges"
   ]
  },
  {
   "cell_type": "code",
   "execution_count": 229,
   "metadata": {},
   "outputs": [],
   "source": [
    "with open('./extMesh/system/blockMeshDict', \"a\") as bMD:\n",
    "    bMD.write('edges \\n')\n",
    "    bMD.write('( \\n')\n",
    "    bMD.write('    arc 0 3   (%.8f %.8f %.8f) \\n' %(-arc[0], arc[1], minZ))\n",
    "    bMD.write('    arc 12 15 (%.8f %.8f %.8f) \\n' %(-arc[0], arc[1], maxZ))\n",
    "    bMD.write('    arc 0 10  (%.8f %.8f %.8f) \\n' %(-arc[0], -arc[1], minZ))    \n",
    "    bMD.write('    arc 12 22 (%.8f %.8f %.8f) \\n' %(-arc[0], -arc[1], maxZ))\n",
    "\n",
    "    bMD.write('    spline 1 11 ( \\n')\n",
    "    for i in range((np.abs(xAxis-percChord*chord)).argmin()):\n",
    "        bMD.write('        (%.8f %.8f %.8f) \\n' %(xAxis[i], ylAxis[i], minZ))\n",
    "    bMD.write('        ) \\n')\n",
    "\n",
    "    bMD.write('    spline 1 2 ( \\n')\n",
    "    for i in range((np.abs(xAxis-percChord*chord)).argmin()):\n",
    "        bMD.write('        (%.8f %.8f %.8f) \\n' %(xAxis[i], yuAxis[i], minZ))\n",
    "    bMD.write('        ) \\n')\n",
    "    \n",
    "    bMD.write('    spline 11 5 ( \\n')\n",
    "    for i in range((np.abs(xAxis-percChord*chord)).argmin(), len(xAxis)):\n",
    "        bMD.write('        (%.8f %.8f %.8f) \\n' %(xAxis[i], ylAxis[i], minZ))\n",
    "    bMD.write('        ) \\n')\n",
    "    \n",
    "    bMD.write('    spline 2 5 ( \\n')\n",
    "    for i in range((np.abs(xAxis-percChord*chord)).argmin(), len(xAxis)):\n",
    "        bMD.write('        (%.8f %.8f %.8f) \\n' %(xAxis[i], yuAxis[i], minZ))\n",
    "    bMD.write('        ) \\n')\n",
    "\n",
    "    bMD.write('    spline 13 23 ( \\n')\n",
    "    for i in range((np.abs(xAxis-percChord*chord)).argmin()):\n",
    "        bMD.write('        (%.8f %.8f %.8f) \\n' %(xAxis[i], ylAxis[i], maxZ))\n",
    "    bMD.write('        ) \\n')\n",
    "\n",
    "    bMD.write('    spline 13 14 ( \\n')\n",
    "    for i in range((np.abs(xAxis-percChord*chord)).argmin()):\n",
    "        bMD.write('        (%.8f %.8f %.8f) \\n' %(xAxis[i], yuAxis[i], maxZ))\n",
    "    bMD.write('        ) \\n')\n",
    "    \n",
    "    bMD.write('    spline 23 17 ( \\n')\n",
    "    for i in range((np.abs(xAxis-percChord*chord)).argmin(), len(xAxis)):\n",
    "        bMD.write('        (%.8f %.8f %.8f) \\n' %(xAxis[i], ylAxis[i], maxZ))\n",
    "    bMD.write('        ) \\n')\n",
    "    \n",
    "    bMD.write('    spline 14 17 ( \\n')\n",
    "    for i in range((np.abs(xAxis-percChord*chord)).argmin(), len(xAxis)):\n",
    "        bMD.write('        (%.8f %.8f %.8f) \\n' %(xAxis[i], yuAxis[i], maxZ))\n",
    "    bMD.write('        ) \\n')  \n",
    "    \n",
    "    bMD.write('); \\n')\n",
    "    bMD.write('\\n')\n"
   ]
  },
  {
   "cell_type": "code",
   "execution_count": 230,
   "metadata": {
    "scrolled": true
   },
   "outputs": [
    {
     "data": {
      "image/png": "[encoded data removed]",
      "text/plain": [
       "<matplotlib.figure.Figure at 0x7fa7ef280c88>"
      ]
     },
     "metadata": {},
     "output_type": "display_data"
    }
   ],
   "source": [
    "fig, ax1 = plt.subplots(1, figsize = ((20,3)))\n",
    "ax1.plot(xAxis, ylAxis, '.r')\n",
    "ax1.plot(xAxis, yuAxis, '.b')\n",
    "ax1.axis('off');"
   ]
  },
  {
   "cell_type": "markdown",
   "metadata": {},
   "source": [
    "# 7. Boundary"
   ]
  },
  {
   "cell_type": "code",
   "execution_count": 231,
   "metadata": {},
   "outputs": [],
   "source": [
    "with open('./extMesh/system/blockMeshDict', \"a\") as bMD:\n",
    "    bMD.write('boundary \\n')\n",
    "    bMD.write('( \\n')\n",
    "    for i in range(len(boundary.name)):\n",
    "        bMD.write('    %s \\n' %boundary.name[i])\n",
    "        bMD.write('    { \\n')\n",
    "        bMD.write('        type %s; \\n' %boundary.type[i])\n",
    "        bMD.write('        faces \\n')\n",
    "        bMD.write('        ( \\n')\n",
    "        for j in range(boundary.faceNo[i]):\n",
    "            bMD.write('            (%i %i %i %i) \\n' %(boundary.faces[i][j][0], boundary.faces[i][j][1], boundary.faces[i][j][2], boundary.faces[i][j][3]))\n",
    "        bMD.write('        ); \\n')\n",
    "        bMD.write('    } \\n')\n",
    "    bMD.write('); \\n')"
   ]
  },
  {
   "cell_type": "markdown",
   "metadata": {},
   "source": [
    "# 8. blockMesh and paraFoam"
   ]
  },
  {
   "cell_type": "code",
   "execution_count": 232,
   "metadata": {},
   "outputs": [
    {
     "name": "stdout",
     "output_type": "stream",
     "text": [
      "/*---------------------------------------------------------------------------*\\\n",
      "| =========                 |                                                 |\n",
      "| \\\\      /  F ield         | OpenFOAM: The Open Source CFD Toolbox           |\n",
      "|  \\\\    /   O peration     | Version:  5.x                                   |\n",
      "|   \\\\  /    A nd           | Web:      www.OpenFOAM.org                      |\n",
      "|    \\\\/     M anipulation  |                                                 |\n",
      "\\*---------------------------------------------------------------------------*/\n",
      "Build  : 5.x-197d9d3bf20a\n",
      "Exec   : blockMesh\n",
      "Date   : Feb 25 2018\n",
      "Time   : 00:32:58\n",
      "Host   : \"lenovoYoga\"\n",
      "PID    : 6923\n",
      "I/O    : uncollated\n",
      "Case   : /home/jlobatop/Documents/Thesis/senior-thesis/mesh-generation/extMesh\n",
      "nProcs : 1\n",
      "sigFpe : Enabling floating point exception trapping (FOAM_SIGFPE).\n",
      "fileModificationChecking : Monitoring run-time modified files using timeStampMaster (fileModificationSkew 10)\n",
      "allowSystemOperations : Allowing user-supplied system call operations\n",
      "\n",
      "// * * * * * * * * * * * * * * * * * * * * * * * * * * * * * * * * * * * * * //\n",
      "Create time\n",
      "\n",
      "Deleting polyMesh directory\n",
      "    \"/home/jlobatop/Documents/Thesis/senior-thesis/mesh-generation/extMesh/constant/polyMesh\"\n",
      "Creating block mesh from\n",
      "    \"/home/jlobatop/Documents/Thesis/senior-thesis/mesh-generation/extMesh/system/blockMeshDict\"\n",
      "Creating block edges\n",
      "No non-planar block faces defined\n",
      "Creating topology blocks\n",
      "Creating topology patches\n",
      "\n",
      "Creating block mesh topology\n",
      "\n",
      "Check topology\n",
      "\n",
      "\tBasic statistics\n",
      "\t\tNumber of internal faces : 6\n",
      "\t\tNumber of boundary faces : 24\n",
      "\t\tNumber of defined boundary faces : 24\n",
      "\t\tNumber of undefined boundary faces : 0\n",
      "\tChecking patch -> block consistency\n",
      "\n",
      "Creating block offsets\n",
      "Creating merge list .\n",
      "\n",
      "Creating polyMesh from blockMesh\n",
      "Creating patches\n",
      "Creating cells\n",
      "Creating points with scale 1\n",
      "    Block 0 cell size :\n",
      "        i : 0.00174634 .. 0.00827611\n",
      "        j : 0.000330547 .. 0.399227\n",
      "        k : 0.1 .. 0.1\n",
      "\n",
      "    Block 1 cell size :\n",
      "        i : 0.00956456 .. 0.0160588\n",
      "        j : 0.000322097 .. 0.389021\n",
      "        k : 0.1 .. 0.1\n",
      "\n",
      "    Block 2 cell size :\n",
      "        i : 0.0118812 .. 0.0237623\n",
      "        j : 0.000330547 .. 0.399227\n",
      "        k : 0.1 .. 0.1\n",
      "\n",
      "    Block 3 cell size :\n",
      "        i : 0.00161462 .. 0.00796987\n",
      "        j : 0.000330547 .. 0.399227\n",
      "        k : 0.1 .. 0.1\n",
      "\n",
      "    Block 4 cell size :\n",
      "        i : 0.0095075 .. 0.0159629\n",
      "        j : 0.000325897 .. 0.39361\n",
      "        k : 0.1 .. 0.1\n",
      "\n",
      "    Block 5 cell size :\n",
      "        i : 0.0118812 .. 0.0237623\n",
      "        j : 0.000330547 .. 0.399227\n",
      "        k : 0.1 .. 0.1\n",
      "\n",
      "\n",
      "There are no merge patch pairs edges\n",
      "\n",
      "Writing polyMesh\n",
      "----------------\n",
      "Mesh Information\n",
      "----------------\n",
      "  boundingBox: (-3 -3.00844 0) (7 3.00844 0.1)\n",
      "  nPoints: 74820\n",
      "  nCells: 36800\n",
      "  nFaces: 147810\n",
      "  nInternalFaces: 72990\n",
      "----------------\n",
      "Patches\n",
      "----------------\n",
      "  patch 0 (start: 72990 size: 520) name: inlet\n",
      "  patch 1 (start: 73510 size: 480) name: outlet\n",
      "  patch 2 (start: 73990 size: 220) name: airfoil\n",
      "  patch 3 (start: 74210 size: 73600) name: frontAndBack\n",
      "\n",
      "End\n",
      "\n",
      "Created temporary 'extMesh.OpenFOAM'\n",
      "I/O    : uncollated\n",
      "Warning: In /home/ubuntu/OpenFOAM/ThirdParty-dev/ParaView-5.4.0/ParaViewCore/ServerManager/Rendering/vtkSMPVRepresentationProxy.cxx, line 276\n",
      "vtkSMPVRepresentationProxy (0x693a2e0): Could not determine array range.\n",
      "\n"
     ]
    }
   ],
   "source": [
    "%%bash\n",
    "cd extMesh/\n",
    "blockMesh\n",
    "nohup paraFoam"
   ]
  },
  {
   "cell_type": "code",
   "execution_count": null,
   "metadata": {},
   "outputs": [],
   "source": []
  }
 ],
 "metadata": {
  "kernelspec": {
   "display_name": "Python 3",
   "language": "python",
   "name": "python3"
  },
  "language_info": {
   "codemirror_mode": {
    "name": "ipython",
    "version": 3
   },
   "file_extension": ".py",
   "mimetype": "text/x-python",
   "name": "python",
   "nbconvert_exporter": "python",
   "pygments_lexer": "ipython3",
   "version": "3.6.1"
  }
 },
 "nbformat": 4,
 "nbformat_minor": 2
}
