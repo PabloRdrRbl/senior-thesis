{
 "cells": [
  {
   "cell_type": "code",
   "execution_count": 1,
   "metadata": {},
   "outputs": [],
   "source": [
    "%matplotlib inline\n",
    "import numpy as np\n",
    "import matplotlib.pyplot as plt\n",
    "import os"
   ]
  },
  {
   "cell_type": "markdown",
   "metadata": {},
   "source": [
    "# 0. Folder creation"
   ]
  },
  {
   "cell_type": "code",
   "execution_count": 2,
   "metadata": {},
   "outputs": [],
   "source": [
    "%%bash\n",
    "#Structured mesh should be on str_uns/structuredMesh \n",
    "\n",
    "#Main conversion directory\n",
    "if [ ! -d \"str_uns\" ]; then\n",
    "  mkdir str_uns\n",
    "fi\n",
    "\n",
    "#It should ensure that the structured mesh exists\n",
    "if [ ! -d \"str_uns/structuredMesh\" ]; then\n",
    "    echo \"NON STRUCTURED MESH to convert\"\n",
    "    exit 0\n",
    "fi\n",
    "\n",
    "#If the directory of a previous unstructured mesh exists it will remove\n",
    "if [ -d \"str_uns/unstructuredMesh\" ]; then\n",
    "  rm str_uns/unstructuredMesh -r\n",
    "  cp str_uns/structuredMesh str_uns/unstructuredMesh -r\n",
    "fi\n",
    "\n",
    "#If the directory does not exists\n",
    "if [ ! -d \"str_uns/unstructuredMesh\" ]; then\n",
    "  cp str_uns/structuredMesh str_uns/unstructuredMesh -r\n",
    "fi"
   ]
  },
  {
   "cell_type": "markdown",
   "metadata": {},
   "source": [
    "# 1. Data input - point adquisition"
   ]
  },
  {
   "cell_type": "code",
   "execution_count": 3,
   "metadata": {},
   "outputs": [],
   "source": [
    "filename = './str_uns/structuredMesh/constant/polyMesh/points'\n",
    "file = open(filename, \"r\")\n",
    "points_str = file.read()\n",
    "\n",
    "i = 2\n",
    "pointsNo = 0\n",
    "\n",
    "while points_str[points_str.find('(')-i] != '\\n':\n",
    "    if i == 2:\n",
    "        pointsNo = int(points_str[points_str.find('(')-i])\n",
    "    else:\n",
    "        pointsNo = pointsNo + int(points_str[points_str.find('(')-i]) * 10**(i-2)\n",
    "    i += 1\n",
    "    \n",
    "points = np.zeros((pointsNo, 3))"
   ]
  },
  {
   "cell_type": "code",
   "execution_count": 4,
   "metadata": {},
   "outputs": [],
   "source": [
    "arrayPos = 0\n",
    "tempPos = 0\n",
    "negVal = 0\n",
    "decimal = 0\n",
    "engExp = 0\n",
    "\n",
    "for i in range(points_str.find('(')+1, len(points_str)):\n",
    "    #First element of each line resets the temporal points\n",
    "    if points_str[i] == '(':\n",
    "        tempPoints = np.zeros(3)\n",
    "    #End element of each line transfer the elements to the big array, resets tempPos and advance 1 in arrayPos\n",
    "    elif points_str[i] == ')':\n",
    "        points[arrayPos,:] = tempPoints\n",
    "        arrayPos += 1\n",
    "        tempPos = 0\n",
    "    #An space will do nothing for the moment!\n",
    "    elif points_str[i] == ' ' :\n",
    "        pass;\n",
    "    #New line will do nothing! - except if it arrives to the end of the string it will encounter ) \\n ) \n",
    "    elif points_str[i] == '\\n':\n",
    "        if points_str[i-1] == ')' and points_str[i] == '\\n' and points_str[i+1] == ')':\n",
    "            break;\n",
    "    #Minus sign will do nothing (for the moment!)\n",
    "    elif points_str[i] == '-':\n",
    "        if engExp == 0:\n",
    "            negVal = 1\n",
    "    #Period will do nothing (for the moment!)\n",
    "    elif points_str[i] == '.':\n",
    "        decimal = 1;\n",
    "    #Engineering notation\n",
    "    elif points_str[i] == 'e':\n",
    "        if points_str[i+1] == '-':\n",
    "            engExp = - (10 * int(points_str[i+2]) + int(points_str[i+3]))\n",
    "        else:\n",
    "            engExp = (10 * int(points_str[i+2]) + int(points_str[i+3]))\n",
    "    #If the element is a number...\n",
    "    else:\n",
    "        if engExp == 0:            \n",
    "            #if it is zero we are still on the natural part of the number\n",
    "            if decimal == 0:    \n",
    "                tempPoints[tempPos] = 10*tempPoints[tempPos]+int(points_str[i])\n",
    "            #if the decimal variable is not zero\n",
    "            if decimal >= 1:\n",
    "                #If the next element of the string is a space or a ), the number will be completed\n",
    "                if points_str[i+1] == ' ' or points_str[i+1] == ')':\n",
    "                    tempPoints[tempPos] = tempPoints[tempPos]+int(points_str[i])*10**(-decimal)\n",
    "                    decimal = 0\n",
    "                #If it is a number\n",
    "                else: \n",
    "                    tempPoints[tempPos] = tempPoints[tempPos]+int(points_str[i])*10**(-decimal)\n",
    "                    decimal += 1\n",
    "            #If the next element is a space...\n",
    "            if points_str[i+1] == ' ' :\n",
    "                #... and a negative sign was found, it should multiply now by -1 and advance one position...\n",
    "                if negVal == 1:\n",
    "                    tempPoints[tempPos] *= -1\n",
    "                    tempPos += 1\n",
    "                    negVal = 0\n",
    "                #... otherwise it will just advance one position\n",
    "                else:\n",
    "                    tempPos += 1\n",
    "        else:\n",
    "            if points_str[i+1] == ' ' :\n",
    "                #... and a negative sign was found, it should multiply now by -1 and advance one position...\n",
    "                if negVal == 1:\n",
    "                    tempPoints[tempPos] *= -1*10**(engExp)\n",
    "                    tempPos += 1\n",
    "                    negVal = 0\n",
    "                    engExp = 0\n",
    "                #... otherwise it will just advance one position\n",
    "                else:\n",
    "                    tempPoints[tempPos] *= -1*10**(engExp)\n",
    "                    tempPos += 1 \n",
    "                    engExp = 0"
   ]
  },
  {
   "cell_type": "markdown",
   "metadata": {},
   "source": [
    "# 2. Grid conversion"
   ]
  },
  {
   "cell_type": "code",
   "execution_count": 12,
   "metadata": {},
   "outputs": [],
   "source": [
    "#Bounding box to perform the unstructured grid - if other one is wanted, please specify!!\n",
    "#Xmax = np.max(points[:,0])\n",
    "#Xmin = np.min(points[:,0])\n",
    "Ymax = np.max(points[:,1])\n",
    "Ymin = np.min(points[:,1])\n",
    "Zmax = np.max(points[:,2])\n",
    "Zmin = np.min(points[:,2])\n",
    "\n",
    "Xmax = 10\n",
    "Xmin = 1\n",
    "#Ymax = \n",
    "#Ymin = \n",
    "#Zmax = \n",
    "#Zmin = \n",
    "\n",
    "#Distance factor to restrict the maximum displacement of the points - defined between [0,0.1] for better results\n",
    "k = 0.008\n",
    "\n",
    "unstrPoints = np.copy(points)\n",
    "frontPoints = points[:,2] == Zmin\n",
    "backPoints = points[:,2] == Zmax"
   ]
  },
  {
   "cell_type": "code",
   "execution_count": 13,
   "metadata": {},
   "outputs": [
    {
     "data": {
      "text/plain": [
       "True"
      ]
     },
     "execution_count": 13,
     "metadata": {},
     "output_type": "execute_result"
    }
   ],
   "source": [
    "#Shape of the front and back plane should be the same\n",
    "np.shape(points[frontPoints,:]) == np.shape(points[backPoints,:])"
   ]
  },
  {
   "cell_type": "code",
   "execution_count": 14,
   "metadata": {
    "scrolled": false
   },
   "outputs": [],
   "source": [
    "for i in np.nditer(np.where(frontPoints)):\n",
    "    #If the point is between bounds\n",
    "    if points[i,0] > Xmin and points[i,0] < Xmax and points[i,1] > Ymin and points[i,1] < Ymax:\n",
    "        #compute the distance from every point to point i analyzed, retaining just the 8 closest (4 front, 4 back) - neglecting the same point\n",
    "        vec = np.sqrt((points[:,0]-points[i,0])**2+(points[:,1]-points[i,1])**2).argsort()[2:10]\n",
    "        #obtain the backPlane point which corresponds to the frontPlane one\n",
    "        if np.sqrt((points[:,0]-points[i,0])**2+(points[:,1]-points[i,1])**2).argsort()[1] == i:\n",
    "            backPoint = np.sqrt((points[:,0]-points[i,0])**2+(points[:,1]-points[i,1])**2).argsort()[0]  \n",
    "        else:\n",
    "            backPoint = np.sqrt((points[:,0]-points[i,0])**2+(points[:,1]-points[i,1])**2).argsort()[1]\n",
    "        #separate them between front and back plane\n",
    "        frontVec = vec[points[vec,2] == Zmin]\n",
    "        #the limits of the zone in which point i can move are\n",
    "        maxX = max(points[frontVec,0])\n",
    "        maxY = max(points[frontVec,1])\n",
    "        minX = min(points[frontVec,0])\n",
    "        minY = min(points[frontVec,1])\n",
    "        #let's compute the variation in both x and y axis\n",
    "        varX = np.random.triangular(-k*abs(minX-points[i,0]), 0, k*abs(maxX-points[i,0]), 1)\n",
    "        varY = np.random.triangular(-k*abs(minY-points[i,0]), 0, k*abs(maxY-points[i,0]), 1)\n",
    "        #Let's store the points in the array\n",
    "        unstrPoints[i,0] = points[i,0]+varX\n",
    "        unstrPoints[i,1] = points[i,1]+varY\n",
    "        unstrPoints[backPoint,0] = points[backPoint,0]+varX\n",
    "        unstrPoints[backPoint,1] = points[backPoint,1]+varY"
   ]
  },
  {
   "cell_type": "code",
   "execution_count": 15,
   "metadata": {
    "scrolled": false
   },
   "outputs": [
    {
     "data": {
      "image/png": "[encoded data removed]",
      "text/plain": [
       "<matplotlib.figure.Figure at 0x7f995fc98f28>"
      ]
     },
     "metadata": {},
     "output_type": "display_data"
    }
   ],
   "source": [
    "fig, ax1 = plt.subplots(1, figsize=(13,10), dpi = 50)\n",
    "\n",
    "#above and below points\n",
    "for i in np.nditer(np.where(frontPoints)):\n",
    "    if points[i,0] > Xmin and points[i,0] < Xmax and points[i,1] > Ymin and points[i,1] < Ymax:\n",
    "        ax1.scatter(points[i,0], points[i,1], color='grey', s=5)\n",
    "    else:\n",
    "        ax1.scatter(points[i,0], points[i,1], color='blue', marker = 's')\n",
    "    if unstrPoints[i,0] > Xmin and unstrPoints[i,0] < Xmax and unstrPoints[i,1] > Ymin and unstrPoints[i,1] < Ymax:\n",
    "        ax1.scatter(unstrPoints[i,0], unstrPoints[i,1], color='red', s=5)\n",
    "    else:\n",
    "        ax1.scatter(unstrPoints[i,0], unstrPoints[i,1], color='blue', marker = 's')\n",
    "ax1.axis('off');"
   ]
  },
  {
   "cell_type": "markdown",
   "metadata": {},
   "source": [
    "# 3. Point saving"
   ]
  },
  {
   "cell_type": "code",
   "execution_count": 16,
   "metadata": {},
   "outputs": [
    {
     "name": "stderr",
     "output_type": "stream",
     "text": [
      "rm: cannot remove './str_uns/unstructuredMesh/constant/polyMesh/str_uns': No such file or directory\n"
     ]
    }
   ],
   "source": [
    "%%bash\n",
    "rm ./str_uns/unstructuredMesh/constant/polyMesh/points\n",
    "rm ./str_uns/unstructuredMesh/constant/polyMesh/str_uns -r"
   ]
  },
  {
   "cell_type": "code",
   "execution_count": 17,
   "metadata": {
    "scrolled": false
   },
   "outputs": [],
   "source": [
    "with open('./str_uns/unstructuredMesh/constant/polyMesh/points', 'a') as uPF: #unstructuredPointFile\n",
    "    uPF.write('/*--------------------------------*- C++ -*----------------------------------*\\ \\n')\n",
    "    uPF.write('| =========                 |                                                 | \\n')\n",
    "    uPF.write('| \\\\      /  F ield         | OpenFOAM: The Open Source CFD Toolbox           | \\n')\n",
    "    uPF.write('|  \\\\    /   O peration     | Version:  5.x                                   | \\n')\n",
    "    uPF.write('|   \\\\  /    A nd           | Web:      www.OpenFOAM.org                      | \\n')\n",
    "    uPF.write('|    \\\\/     M anipulation  |                                                 | \\n')\n",
    "    uPF.write('\\*---------------------------------------------------------------------------*/ \\n')\n",
    "    uPF.write('FoamFile \\n')\n",
    "    uPF.write('{ \\n')\n",
    "    uPF.write('    version     2.0; \\n')\n",
    "    uPF.write('    format      ascii; \\n')\n",
    "    uPF.write('    class       vectorField; \\n')\n",
    "    uPF.write('    location    \"constant/polyMesh\"; \\n')\n",
    "    uPF.write('    object      points; \\n')\n",
    "    uPF.write('} \\n')\n",
    "    uPF.write('// * * * * * * * * * * * * * * * * * * * * * * * * * * * * * * * * * * * * * // \\n')\n",
    "    uPF.write('\\n')\n",
    "    uPF.write('%i \\n' %(pointsNo))\n",
    "    uPF.write('(')\n",
    "    for i in range(pointsNo):\n",
    "        uPF.write('(%.6f %.6f %.6f) \\n' %(unstrPoints[i,0], unstrPoints[i,1], unstrPoints[i,2]))        \n",
    "    uPF.write(')')"
   ]
  },
  {
   "cell_type": "code",
   "execution_count": 18,
   "metadata": {},
   "outputs": [
    {
     "name": "stdout",
     "output_type": "stream",
     "text": [
      "Created temporary 'unstructuredMesh.OpenFOAM'\n",
      "Qt: Cannot set locale modifiers: \n",
      "I/O    : uncollated\n"
     ]
    }
   ],
   "source": [
    "%%bash\n",
    "cd str_uns/unstructuredMesh/\n",
    "checkMesh >/dev/null\n",
    "paraFoam"
   ]
  }
 ],
 "metadata": {
  "kernelspec": {
   "display_name": "Python 3",
   "language": "python",
   "name": "python3"
  },
  "language_info": {
   "codemirror_mode": {
    "name": "ipython",
    "version": 3
   },
   "file_extension": ".py",
   "mimetype": "text/x-python",
   "name": "python",
   "nbconvert_exporter": "python",
   "pygments_lexer": "ipython3",
   "version": "3.6.1"
  }
 },
 "nbformat": 4,
 "nbformat_minor": 2
}
