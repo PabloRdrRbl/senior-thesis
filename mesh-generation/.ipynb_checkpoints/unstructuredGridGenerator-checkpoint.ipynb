{
 "cells": [
  {
   "cell_type": "code",
   "execution_count": 1,
   "metadata": {},
   "outputs": [],
   "source": [
    "%matplotlib inline\n",
    "import numpy as np\n",
    "import matplotlib.pyplot as plt\n",
    "import os"
   ]
  },
  {
   "cell_type": "markdown",
   "metadata": {},
   "source": [
    "# 0. Folder creation"
   ]
  },
  {
   "cell_type": "code",
   "execution_count": 2,
   "metadata": {},
   "outputs": [],
   "source": [
    "%%bash\n",
    "#Structured mesh should be on str_uns/structuredMesh \n",
    "\n",
    "#Main conversion directory\n",
    "if [ ! -d \"str_uns\" ]; then\n",
    "  mkdir str_uns\n",
    "fi\n",
    "\n",
    "#It should ensure that the structured mesh exists\n",
    "if [ ! -d \"str_uns/structuredMesh\" ]; then\n",
    "    echo \"NON STRUCTURED MESH to convert\"\n",
    "    exit 0\n",
    "fi\n",
    "\n",
    "#If the directory of a previous unstructured mesh exists it will remove\n",
    "if [ -d \"str_uns/unstructuredMesh\" ]; then\n",
    "  rm str_uns/unstructuredMesh -r\n",
    "  cp str_uns/structuredMesh str_uns/unstructuredMesh -r\n",
    "fi\n",
    "\n",
    "#If the directory does not exists\n",
    "if [ ! -d \"str_uns/unstructuredMesh\" ]; then\n",
    "  cp str_uns/structuredMesh str_uns/unstructuredMesh -r\n",
    "fi"
   ]
  },
  {
   "cell_type": "markdown",
   "metadata": {},
   "source": [
    "# 1. Data input - point adquisition"
   ]
  },
  {
   "cell_type": "code",
   "execution_count": 3,
   "metadata": {},
   "outputs": [],
   "source": [
    "filename = './str_uns/structuredMesh/constant/polyMesh/points'\n",
    "file = open(filename, \"r\")\n",
    "points_str = file.read()\n",
    "\n",
    "i = 2\n",
    "pointsNo = 0\n",
    "\n",
    "while points_str[points_str.find('(')-i] != '\\n':\n",
    "    pointsNo = pointsNo * 10 + int(points_str[points_str.find('(')-i])\n",
    "    i += 1\n",
    "    \n",
    "points = np.zeros((pointsNo, 3))"
   ]
  },
  {
   "cell_type": "code",
   "execution_count": 4,
   "metadata": {},
   "outputs": [],
   "source": [
    "arrayPos = 0\n",
    "tempPos = 0\n",
    "negVal = 0\n",
    "decimal = 0\n",
    "\n",
    "for i in range(points_str.find('(')+1, len(points_str)):\n",
    "    #First element of each line resets the temporal points\n",
    "    if points_str[i] == '(':\n",
    "        tempPoints = np.zeros(3)\n",
    "    #End element of each line transfer the elements to the big array, resets tempPos and advance 1 in arrayPos\n",
    "    elif points_str[i] == ')':\n",
    "        points[arrayPos,:] = tempPoints\n",
    "        arrayPos += 1\n",
    "        tempPos = 0\n",
    "    #An space will do nothing for the moment!\n",
    "    elif points_str[i] == ' ' :\n",
    "        pass;\n",
    "    #New line will do nothing! - except if it arrives to the end of the string it will encounter ) \\n ) \n",
    "    elif points_str[i] == '\\n':\n",
    "        if points_str[i-1] == ')' and points_str[i] == '\\n' and points_str[i+1] == ')':\n",
    "            break;\n",
    "    #Minus sign will do nothing (for the moment!)\n",
    "    elif points_str[i] == '-':\n",
    "        negVal = 1\n",
    "    #Period will do nothing (for the moment!)\n",
    "    elif points_str[i] == '.':\n",
    "        decimal = 1;\n",
    "    #If the element is a number...\n",
    "    else:\n",
    "        #if it is zero we are still on the natural part of the number\n",
    "        if decimal == 0:    \n",
    "            tempPoints[tempPos] = 10*tempPoints[tempPos]+int(points_str[i])\n",
    "        #if the decimal variable is not zero\n",
    "        if decimal >= 1:\n",
    "            #If the next element of the string is a space or a ), the number will be completed\n",
    "            if points_str[i+1] == ' ' or points_str[i+1] == ')':\n",
    "                tempPoints[tempPos] = tempPoints[tempPos]+int(points_str[i])*10**(-decimal)\n",
    "                decimal = 0\n",
    "            #If it is a number\n",
    "            else: \n",
    "                tempPoints[tempPos] = tempPoints[tempPos]+int(points_str[i])*10**(-decimal)\n",
    "                decimal += 1\n",
    "        #If the next element is a space...\n",
    "        if points_str[i+1] == ' ' :\n",
    "            #... and a negative sign was found, it should multiply now by -1 and advance one position...\n",
    "            if negVal == 1:\n",
    "                tempPoints[tempPos] *= -1\n",
    "                tempPos += 1\n",
    "                negVal = 0\n",
    "            #... otherwise it will just advance one position\n",
    "            else:\n",
    "                tempPos += 1"
   ]
  },
  {
   "cell_type": "markdown",
   "metadata": {},
   "source": [
    "# 2. Grid conversion"
   ]
  },
  {
   "cell_type": "code",
   "execution_count": 5,
   "metadata": {
    "scrolled": true
   },
   "outputs": [
    {
     "data": {
      "text/plain": [
       "True"
      ]
     },
     "execution_count": 5,
     "metadata": {},
     "output_type": "execute_result"
    }
   ],
   "source": [
    "#Comparison of the points from the two sets: front and back plane (to make points meet)\n",
    "np.array_equal(points[:int(len(points)/2),0:1], points[int(len(points)/2):,0:1])"
   ]
  },
  {
   "cell_type": "code",
   "execution_count": 6,
   "metadata": {},
   "outputs": [],
   "source": [
    "#Bounding box to perform the unstructured grid - if other one is wanted, please specify!!\n",
    "Xmax = np.max(points[:,0])\n",
    "Xmin = np.min(points[:,0])\n",
    "Ymax = np.max(points[:,1])\n",
    "Ymin = np.min(points[:,1])\n",
    "\n",
    "#Xmax = \n",
    "#Xmin = \n",
    "#Ymax = \n",
    "#Ymin = \n",
    "\n",
    "#Distance factor to restrict the maximum displacement of the points [0,1]\n",
    "k = 0.4\n",
    "\n",
    "unstrPoints = np.zeros(np.shape(points))"
   ]
  },
  {
   "cell_type": "code",
   "execution_count": null,
   "metadata": {},
   "outputs": [],
   "source": [
    "for i in range(int(len(points)/2)):\n",
    "    #If the point is between bounds\n",
    "    if points[i,0] > Xmin and points[i,0] < Xmax and points[i,1] > Ymin and points[i,1] < Ymax:\n",
    "        #neighbor points of the i-th point should be computed: x-axis neighbors are easy (+i and -i)\n",
    "        #for the y-axis a distance matrix will be computed for each i-th case, for the minimum distance at the point i\n",
    "        upperY = np.argmin(np.sqrt((points[i+2:int(len(points)/2),0]-points[i,0])**2+(points[i+2:int(len(points)/2),1]-points[i,1])**2))+2+i\n",
    "        lowerY = np.argmin(np.sqrt((points[:i-2,0]-points[i,0])**2+(points[:i-2,1]-points[i,1])**2))\n",
    "        #it must vary the same in the front and back plane, so a temporal variable is created\n",
    "        varX = np.random.triangular(-abs(points[i-1,0]-points[i,0]), 0, abs(points[i+1,0]-points[i,0]), 1)\n",
    "        varY = np.random.triangular(-abs(points[lowerY,1]-points[i,1]), 0, abs(points[upperY,1]-points[i,1]), 1)\n",
    "        #Let's store the points in the array\n",
    "        unstrPoints[i,0] = points[i,0]+k*varX\n",
    "        unstrPoints[i,1] = points[i,1]+k*varY\n",
    "        unstrPoints[i,2] = points[i,2]\n",
    "        unstrPoints[int(len(points)/2)+i,0] = points[i,0]+k*varX\n",
    "        unstrPoints[int(len(points)/2)+i,1] = points[i,1]+k*varY\n",
    "        unstrPoints[int(len(points)/2)+i,2] = points[int(len(points)/2)+i,2]\n",
    "    else:\n",
    "        unstrPoints[i,0] = points[i,0]\n",
    "        unstrPoints[i,1] = points[i,1]\n",
    "        unstrPoints[i,2] = points[i,2]\n",
    "        unstrPoints[int(len(points)/2)+i,0] = points[i,0]\n",
    "        unstrPoints[int(len(points)/2)+i,1] = points[i,1]\n",
    "        unstrPoints[int(len(points)/2)+i,2] = points[int(len(points)/2)+i,2]"
   ]
  },
  {
   "cell_type": "code",
   "execution_count": null,
   "metadata": {},
   "outputs": [],
   "source": [
    "#above and below points\n",
    "for i in range(int(len(points)/2)):\n",
    "    if points[i,0] > Xmin and points[i,0] < Xmax and points[i,1] > Ymin and points[i,1] < Ymax:\n",
    "        plt.scatter(points[i,0],points[i,1],color='grey')\n",
    "    else:\n",
    "        plt.scatter(points[i,0],points[i,1],color='blue')\n",
    "\n",
    "i = 100\n",
    "plt.scatter(points[i,0],points[i,1],color='g')\n",
    "plt.scatter(points[np.argmin(np.sqrt((points[:i-2,0]-points[i,0])**2+(points[:i-2,1]-points[i,1])**2)),0],points[np.argmin(np.sqrt((points[:i-2,0]-points[i,0])**2+(points[:i-2,1]-points[i,1])**2)),1],color='r')\n",
    "plt.scatter(points[np.argmin(np.sqrt((points[i+2:int(len(points)/2),0]-points[i,0])**2+(points[i+2:int(len(points)/2),1]-points[i,1])**2))+2+i,0],points[np.argmin(np.sqrt((points[i+2:int(len(points)/2),0]-points[i,0])**2+(points[i+2:int(len(points)/2),1]-points[i,1])**2))+2+i,1],color='r')"
   ]
  },
  {
   "cell_type": "code",
   "execution_count": null,
   "metadata": {},
   "outputs": [],
   "source": [
    "#Final result demonstration\n",
    "plt.scatter(points[:121,0],points[:121,1],color='grey')\n",
    "plt.scatter(unstrPoints[:121,0],unstrPoints[:121,1],color='blue')\n"
   ]
  },
  {
   "cell_type": "code",
   "execution_count": null,
   "metadata": {},
   "outputs": [],
   "source": [
    "#Both sets (front and back) must be the same as before\n",
    "np.array_equal(unstrPoints[:int(len(unstrPoints)/2),0:1], unstrPoints[int(len(unstrPoints)/2):,0:1])"
   ]
  },
  {
   "cell_type": "markdown",
   "metadata": {},
   "source": [
    "# 3. Point saving"
   ]
  },
  {
   "cell_type": "code",
   "execution_count": null,
   "metadata": {},
   "outputs": [],
   "source": [
    "%%bash\n",
    "rm ./str_uns/unstructuredMesh/constant/polyMesh/points\n",
    "rm ./str_uns/unstructuredMesh/constant/polyMesh/str_uns -r"
   ]
  },
  {
   "cell_type": "code",
   "execution_count": null,
   "metadata": {
    "scrolled": false
   },
   "outputs": [],
   "source": [
    "with open('./str_uns/unstructuredMesh/constant/polyMesh/points', 'a') as uPF: #unstructuredPointFile\n",
    "    uPF.write('/*--------------------------------*- C++ -*----------------------------------*\\ \\n')\n",
    "    uPF.write('| =========                 |                                                 | \\n')\n",
    "    uPF.write('| \\\\      /  F ield         | OpenFOAM: The Open Source CFD Toolbox           | \\n')\n",
    "    uPF.write('|  \\\\    /   O peration     | Version:  5.x                                   | \\n')\n",
    "    uPF.write('|   \\\\  /    A nd           | Web:      www.OpenFOAM.org                      | \\n')\n",
    "    uPF.write('|    \\\\/     M anipulation  |                                                 | \\n')\n",
    "    uPF.write('\\*---------------------------------------------------------------------------*/ \\n')\n",
    "    uPF.write('FoamFile \\n')\n",
    "    uPF.write('{ \\n')\n",
    "    uPF.write('    version     2.0; \\n')\n",
    "    uPF.write('    format      ascii; \\n')\n",
    "    uPF.write('    class       vectorField; \\n')\n",
    "    uPF.write('    location    \"constant/polyMesh\"; \\n')\n",
    "    uPF.write('    object      points; \\n')\n",
    "    uPF.write('} \\n')\n",
    "    uPF.write('// * * * * * * * * * * * * * * * * * * * * * * * * * * * * * * * * * * * * * // \\n')\n",
    "    uPF.write('\\n')\n",
    "    uPF.write('%i \\n' %(pointsNo))\n",
    "    uPF.write('(')\n",
    "    for i in range(pointsNo):\n",
    "        uPF.write('(%.6f %.6f %.6f) \\n' %(unstrPoints[i,0], unstrPoints[i,1], unstrPoints[i,2]))        \n",
    "    uPF.write(')')"
   ]
  }
 ],
 "metadata": {
  "kernelspec": {
   "display_name": "Python 3",
   "language": "python",
   "name": "python3"
  },
  "language_info": {
   "codemirror_mode": {
    "name": "ipython",
    "version": 3
   },
   "file_extension": ".py",
   "mimetype": "text/x-python",
   "name": "python",
   "nbconvert_exporter": "python",
   "pygments_lexer": "ipython3",
   "version": "3.6.1"
  }
 },
 "nbformat": 4,
 "nbformat_minor": 2
}
