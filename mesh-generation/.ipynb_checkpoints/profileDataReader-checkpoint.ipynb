{
 "cells": [
  {
   "cell_type": "code",
   "execution_count": 6,
   "metadata": {},
   "outputs": [],
   "source": [
    "#matplotlib inline\n",
    "import matplotlib.pyplot as plt\n",
    "import numpy as np\n",
    "import os"
   ]
  },
  {
   "cell_type": "markdown",
   "metadata": {},
   "source": [
    "In this file, conversion from a data file with the coordinates of some profile will be normalized (to have a total chord length of 1), ordered and stored (in four arrays going from 0 to 1 in the x-axis with the respective upper and lower surfaces). These code will afterwards used to create a function - that will eventually be implemented in the mesh generator (removing the restriction of the airfoil of being a NACA 4 series). The first inconvenient that the code must face is that positive y values are usually separated with two spaces '  ' while negative values have just one space ' '."
   ]
  },
  {
   "cell_type": "code",
   "execution_count": 56,
   "metadata": {},
   "outputs": [],
   "source": [
    "#Set the name of the file with the coordinates\n",
    "filename = \"b29\"\n",
    "file = open(filename, \"r\")\n",
    "file_str = file.read()\n",
    "file_str = file_str.replace(\"  \", \" \")\n",
    "\n",
    "os.system(\"rm %s\" %filename)\n",
    "\n",
    "file = open(filename, \"w\")\n",
    "\n",
    "file.write(file_str)\n",
    "file.close()"
   ]
  },
  {
   "cell_type": "code",
   "execution_count": 58,
   "metadata": {},
   "outputs": [
    {
     "data": {
      "text/plain": [
       "[<matplotlib.lines.Line2D at 0x7f85d7581518>]"
      ]
     },
     "execution_count": 58,
     "metadata": {},
     "output_type": "execute_result"
    },
    {
     "data": {
      "image/png": "[encoded data removed]",
      "text/plain": [
       "<matplotlib.figure.Figure at 0x7f85d75b20f0>"
      ]
     },
     "metadata": {},
     "output_type": "display_data"
    }
   ],
   "source": [
    "airfoil_pts = np.genfromtxt(filename, skip_header=1, delimiter=' ')\n",
    "plt.plot(airfoil_pts[:10,0],airfoil_pts[:10,1])"
   ]
  },
  {
   "cell_type": "markdown",
   "metadata": {},
   "source": [
    "        ax2.set_xlim(-c*0.1,1.1*c)\n",
    "        ax2.axis('equal')\n",
    "        ax2.axis('off')\n",
    "        ax2.plot(xu,yu,'b')\n",
    "        ax2.plot(xl,yl,'b')\n",
    "        ax2.fill_between(x, yu, yl,facecolor='blue',alpha=0.1)\n",
    "        ax2.plot(x,yc,'r',linewidth=0.7)\n",
    "        ax2.plot([0,c],[0,0],'g',linewidth=0.6)"
   ]
  }
 ],
 "metadata": {
  "kernelspec": {
   "display_name": "Python 3",
   "language": "python",
   "name": "python3"
  },
  "language_info": {
   "codemirror_mode": {
    "name": "ipython",
    "version": 3
   },
   "file_extension": ".py",
   "mimetype": "text/x-python",
   "name": "python",
   "nbconvert_exporter": "python",
   "pygments_lexer": "ipython3",
   "version": "3.6.1"
  }
 },
 "nbformat": 4,
 "nbformat_minor": 2
}
