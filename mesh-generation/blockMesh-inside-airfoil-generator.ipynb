{
 "cells": [
  {
   "cell_type": "code",
   "execution_count": 1,
   "metadata": {},
   "outputs": [],
   "source": [
    "%matplotlib inline\n",
    "import numpy as np\n",
    "import matplotlib.pyplot as plt"
   ]
  },
  {
   "cell_type": "code",
   "execution_count": 2,
   "metadata": {},
   "outputs": [],
   "source": [
    "%%bash\n",
    "rm mesh/system/blockMeshDict"
   ]
  },
  {
   "cell_type": "markdown",
   "metadata": {},
   "source": [
    "# 0. Function importing \n",
    "(functions come from other notebooks)"
   ]
  },
  {
   "cell_type": "code",
   "execution_count": 3,
   "metadata": {},
   "outputs": [],
   "source": [
    "def NACA4(s):\n",
    "\n",
    "    #definition of the NACA profile as XXXX\n",
    "    NACA = s\n",
    "    c = 1 #chord line\n",
    "\n",
    "    #NACA XXXX = m p (pt)\n",
    "    m = int(int(NACA)/1e3)/1e2 #maximum camber\n",
    "    p = int((int(NACA)-m*1e5)/1e2)/1e1 #location of maximum camber\n",
    "    pt = int((int(NACA)-m*1e5-p*1e3)) #percentage of thickness with respect to the chord\n",
    "\n",
    "    #figure definition\n",
    "#    fig = plt.gcf()\n",
    "#    fig.set_size_inches(20,12)\n",
    "#    ax1 = plt.subplot(1,2,1)\n",
    "#    ax2 = plt.subplot(1,2,2)\n",
    "    \n",
    "    #mean camber line definition\n",
    "    if p != 0:\n",
    "        x = np.append(np.linspace(0,p/100*c,500)[:-1],np.linspace(p/100*c,c,250))\n",
    "        x_pc = x<(p*c) #masked array to create the piece-wise function\n",
    "\n",
    "        yc1 = ((c*m)/(p**2))*(2*p*(x/c)-(x/c)**2)\n",
    "        yc2 = ((c*m)/((1-p)**2))*((1-2*p)+2*p*(x/c)-(x/c)**2)\n",
    "\n",
    "        yc = np.zeros(np.shape(x))\n",
    "\n",
    "        for i in range(np.shape(x)[0]):\n",
    "            if x_pc[i] == True:\n",
    "                yc[i] = yc1[i]\n",
    "            else:\n",
    "                yc[i] = yc2[i]\n",
    "\n",
    "        #mean camber line derivative\n",
    "        dyc1dx = (2*m)/(p**2)*(p-(x/c))\n",
    "        dyc2dx = (2*m)/((1-p)**2)*(p-(x/c))\n",
    "\n",
    "        dycdx = np.zeros(np.shape(x))\n",
    "\n",
    "        for i in range(np.shape(x)[0]):\n",
    "            if x_pc[i] == True:\n",
    "                dycdx[i] = dyc1dx[i]\n",
    "            else:\n",
    "                dycdx[i] = dyc2dx[i]\n",
    "\n",
    "        theta = np.arctan(dycdx)\n",
    "\n",
    "#        ax1.plot(x,yc1,'--k',label='yc1')\n",
    "#        ax1.plot(x,yc2,'-.k',label='yc2')\n",
    "#        ax1.plot(x,0.01*x_pc,':',color='grey', label='Masked matrix')\n",
    "#        ax1.plot(x,yc,label='Mean camber')\n",
    "#        ax1.legend()\n",
    "    else:\n",
    "        #symmetric airfoil camber line\n",
    "        x = np.linspace(0,c,750)\n",
    "        yc = np.zeros(np.shape(x))\n",
    "\n",
    "#        ax1.plot(x,yc,label='Mean camber')\n",
    "#        ax1.legend()\n",
    "\n",
    "\n",
    "    #thickness\n",
    "    if p != 0:\n",
    "        yt = 5*pt/100*(0.2969*np.sqrt(x/c)-0.1260*(x/c)-0.3516*(x/c)**2+0.2843*(x/c)**3-0.1036*(x/c)**4)\n",
    "        xu = x - yt*np.sin(theta)\n",
    "        xl = x + yt*np.sin(theta)\n",
    "        yu = yc + yt*np.cos(theta)\n",
    "        yl = yc - yt*np.cos(theta)\n",
    "\n",
    "#        ax2.set_xlim(-c*0.1,1.1*c)\n",
    "#        ax2.axis('equal')\n",
    "#        ax2.axis('off')\n",
    "#        ax2.plot(xu,yu,'b')\n",
    "#        ax2.plot(xl,yl,'b')\n",
    "#        ax2.fill_between(x, yu, yl,facecolor='blue',alpha=0.1)\n",
    "#        ax2.plot(x,yc,'r',linewidth=0.7)\n",
    "#        ax2.plot([0,c],[0,0],'g',linewidth=0.6)\n",
    "        \n",
    "        return xu, xl, yu, yl\n",
    "        \n",
    "    else:\n",
    "        yt = 5*pt/100*(0.2969*np.sqrt(x/c)-0.1260*(x/c)-0.3516*(x/c)**2+0.2843*(x/c)**3-0.1036*(x/c)**4)\n",
    "\n",
    "#        ax2.set_xlim(-c*0.1,1.1*c)\n",
    "#        ax2.axis('equal')\n",
    "#        ax2.axis('off')\n",
    "#        ax2.plot(x,yt,'b')\n",
    "#        ax2.plot(x,-yt,'b')\n",
    "#        ax2.fill_between(x, -yt, yt,facecolor='blue',alpha=0.1)\n",
    "#        ax2.plot(x,yc,'r',linewidth=0.7)\n",
    "#        ax2.plot([0,c],[0,0],'g',linewidth=0.6)\n",
    "\n",
    "        return x, x, yt, -yt"
   ]
  },
  {
   "cell_type": "code",
   "execution_count": 4,
   "metadata": {},
   "outputs": [],
   "source": [
    "def simple_grading(N, expRatio, L):\n",
    "    delta = np.zeros(N) #size of each cell array\n",
    "    nodes = np.zeros(N+1) #position of the nodes\n",
    "\n",
    "    kVal = expRatio**((1)/(N-1)) \n",
    "    k = np.zeros(N) #increment of each cell\n",
    "\n",
    "    for i in range(N):\n",
    "        k[i] = kVal**(i) \n",
    "\n",
    "    deltaS = L/np.sum(k)  #first cell size \n",
    "\n",
    "    delta = deltaS*k #size of each cell\n",
    "    \n",
    "    for i in range(N):\n",
    "        nodes[i+1] = nodes[i] + delta[i]\n",
    "        \n",
    "#    return nodes, delta\n",
    "    return nodes"
   ]
  },
  {
   "cell_type": "code",
   "execution_count": 5,
   "metadata": {},
   "outputs": [],
   "source": [
    "def multi_grading(perc, cells, eps, N, L): \n",
    "    \n",
    "    #some initial shape and value comprobations\n",
    "    if np.sum(perc) != 1:\n",
    "        print('Bad percentage array input')\n",
    "        return\n",
    "\n",
    "    if np.sum(cells) != 1:\n",
    "        print('Bad cell array input')\n",
    "        return\n",
    "    \n",
    "    if np.shape(perc)[0] != np.shape(cells)[0] or np.shape(perc)[0] != np.shape(eps)[0] or np.shape(cells)[0] != np.shape(eps)[0]:\n",
    "        print('Non equal vector definition')\n",
    "        return\n",
    "        \n",
    "    segmentN = (N*cells) #cells per segment\n",
    "    restCells = np.modf(segmentN)[0] #in case there are decimal values\n",
    "    segmentN = np.trunc(segmentN) #integer value of the cells\n",
    "\n",
    "    i = np.sum(restCells) #distributor of the 'decimal' parts of the cells\n",
    "    while i > 0:\n",
    "        segmentN[np.argmax(restCells)] = segmentN[np.argmax(restCells)] + int(i)\n",
    "        restCells[np.argmax(restCells)] = 0\n",
    "        i -= 1\n",
    "   \n",
    "    segmentL = (L*perc) #length per segment\n",
    "\n",
    "    nodes = np.zeros(N+1) #number of nodes\n",
    "        \n",
    "    for i in range(np.shape(perc)[0]):\n",
    "        nodesTemp = simple_grading(int(segmentN[i]), eps[i], segmentL[i])\n",
    "        for j in range(np.shape(nodesTemp)[0]):\n",
    "            if i == 0:\n",
    "                nodes[j] = nodesTemp[j]\n",
    "            else:\n",
    "                nodes[int(np.cumsum(segmentN)[i-1]) + j] = nodesTemp[j] + nodes[int(np.cumsum(segmentN)[i-1])]\n",
    "\n",
    "    return nodes"
   ]
  },
  {
   "cell_type": "code",
   "execution_count": 6,
   "metadata": {},
   "outputs": [],
   "source": [
    "def grading_plot(x): #nodes should be imported\n",
    "\n",
    "    y = 0.5*np.ones(np.shape(x)[0])\n",
    "    \n",
    "    fig, ax = plt.subplots(figsize=(20, 1), dpi=100)\n",
    "        \n",
    "    ax.set_xlim(-x[1]*0.5,1.1*x[-1])\n",
    "    ax.set_ylim(0,1)\n",
    "    ax.axis('off')\n",
    "    ax.plot([x[0],x[-1]],[y[0],y[-1]],'k')\n",
    "    ax.scatter(x,y,c='k')"
   ]
  },
  {
   "cell_type": "code",
   "execution_count": 7,
   "metadata": {},
   "outputs": [],
   "source": [
    "def airfoilTrueX(newX, xu, yu, xl, yl):\n",
    "    yuAxis = np.interp(newX, xu, yu)\n",
    "    ylAxis = np.interp(newX, xl, yl)\n",
    "    return yuAxis, ylAxis"
   ]
  },
  {
   "cell_type": "markdown",
   "metadata": {},
   "source": [
    "# 1. (Simplified) Header"
   ]
  },
  {
   "cell_type": "code",
   "execution_count": 8,
   "metadata": {},
   "outputs": [],
   "source": [
    "with open('./mesh/system/blockMeshDict', 'a') as bMD:\n",
    "    bMD.write('/*--------------------------------*- C++ -*----------------------------------*\\ \\n')\n",
    "    bMD.write('| =========                 |                                                 | \\n')\n",
    "    bMD.write('| \\\\      /  F ield         | OpenFOAM: The Open Source CFD Toolbox           | \\n')\n",
    "    bMD.write('|  \\\\    /   O peration     | Version:  5                                     | \\n')\n",
    "    bMD.write('|   \\\\  /    A nd           | Web:      www.OpenFOAM.org                      | \\n')\n",
    "    bMD.write('|    \\\\/     M anipulation  |                                                 | \\n')\n",
    "    bMD.write('\\*---------------------------------------------------------------------------*/ \\n')\n",
    "    bMD.write('\\n')\n",
    "    bMD.write('FoamFile \\n')\n",
    "    bMD.write('{ \\n')\n",
    "    bMD.write('    version     2.0; \\n')\n",
    "    bMD.write('    format      ascii; \\n')\n",
    "    bMD.write('    class       dictionary; \\n')\n",
    "    bMD.write('    object      blockMeshDict;; \\n')\n",
    "    bMD.write('} \\n')\n",
    "    bMD.write('// * * * * * * * * * * * * * * * * * * * * * * * * * * * * * * * * * * * * * // \\n')\n",
    "    bMD.write('\\n')\n",
    "    bMD.write('convertToMeters 1; \\n')\n",
    "    bMD.write('\\n')"
   ]
  },
  {
   "cell_type": "markdown",
   "metadata": {},
   "source": [
    "# 2. Vertices"
   ]
  },
  {
   "cell_type": "code",
   "execution_count": 9,
   "metadata": {},
   "outputs": [],
   "source": [
    "maxX = 1\n",
    "minX = 0\n",
    "maxY = 0.01\n",
    "minY = -0.01\n",
    "maxZ = 0.01\n",
    "minZ = 0"
   ]
  },
  {
   "cell_type": "code",
   "execution_count": 10,
   "metadata": {},
   "outputs": [],
   "source": [
    "with open('./mesh/system/blockMeshDict', \"a\") as bMD:\n",
    "    bMD.write('vertices \\n')\n",
    "    bMD.write('( \\n')\n",
    "    bMD.write('    (%.2f %.2f %.2f) \\n' %(minX, minY, minZ))\n",
    "    bMD.write('    (%.2f %.2f %.2f) \\n' %(maxX, minY, minZ))\n",
    "    bMD.write('    (%.2f %.2f %.2f) \\n' %(maxX, maxY, minZ))\n",
    "    bMD.write('    (%.2f %.2f %.2f) \\n' %(minX, maxY, minZ))\n",
    "    bMD.write('    (%.2f %.2f %.2f) \\n' %(minX, minY, maxZ))\n",
    "    bMD.write('    (%.2f %.2f %.2f) \\n' %(maxX, minY, maxZ))\n",
    "    bMD.write('    (%.2f %.2f %.2f) \\n' %(maxX, maxY, maxZ))\n",
    "    bMD.write('    (%.2f %.2f %.2f) \\n' %(minX, maxY, maxZ))\n",
    "    bMD.write('); \\n')\n",
    "    bMD.write('\\n')"
   ]
  },
  {
   "cell_type": "markdown",
   "metadata": {},
   "source": [
    "# 3. Spline calculations"
   ]
  },
  {
   "cell_type": "code",
   "execution_count": 11,
   "metadata": {},
   "outputs": [],
   "source": [
    "noCells = 250\n",
    "\n",
    "perc = np.array([0.1, 0.2, 0.4, 0.3])\n",
    "cells = np.array([0.3, 0.15, 0.3, 0.25])\n",
    "exp = np.array([20, 1, 1, 0.6])\n",
    "\n",
    "xAxis = multi_grading(perc, cells, exp, noCells, maxX-minX)\n",
    "\n",
    "#grading_plot(xAxis)"
   ]
  },
  {
   "cell_type": "code",
   "execution_count": 12,
   "metadata": {},
   "outputs": [],
   "source": [
    "xu, xl, yu, yl = NACA4('2412')\n",
    "\n",
    "yuAxis, ylAxis = airfoilTrueX(xAxis, xu, yu, xl, yl)"
   ]
  },
  {
   "cell_type": "markdown",
   "metadata": {},
   "source": [
    "# 4. Blocks"
   ]
  },
  {
   "cell_type": "code",
   "execution_count": 13,
   "metadata": {},
   "outputs": [],
   "source": [
    "with open('./mesh/system/blockMeshDict', \"a\") as bMD:\n",
    "    bMD.write('blocks \\n')\n",
    "    bMD.write('( \\n')\n",
    "    bMD.write('    hex (0 1 2 3 4 5 6 7) (%i 10 1) simpleGrading \\n' %noCells)\n",
    "    bMD.write('    ( \\n') \n",
    "    bMD.write('     ( \\n') \n",
    "    for i in range(np.shape(perc)[0]):\n",
    "        bMD.write('     (%.3f %.3f %.3f) \\n' %(perc[i], cells[i], exp[i]))\n",
    "    bMD.write('     ) \\n') \n",
    "    bMD.write('    1 \\n')\n",
    "    bMD.write('    1 \\n')\n",
    "    bMD.write('    ) \\n')\n",
    "    bMD.write('); \\n')\n",
    "    bMD.write('\\n')"
   ]
  },
  {
   "cell_type": "markdown",
   "metadata": {},
   "source": [
    "# 5. Edges"
   ]
  },
  {
   "cell_type": "code",
   "execution_count": 14,
   "metadata": {},
   "outputs": [],
   "source": [
    "with open('./mesh/system/blockMeshDict', \"a\") as bMD:\n",
    "    bMD.write('edges \\n')\n",
    "    bMD.write('( \\n')\n",
    "    bMD.write('    spline 0 1 ( \\n')\n",
    "    for i in range(np.shape(xAxis)[0]):\n",
    "        bMD.write('        (%.8f %.8f %.8f) \\n' %(xAxis[i], ylAxis[i]+minY, minZ))\n",
    "    bMD.write('        ) \\n')\n",
    "    bMD.write('    polyLine 3 2 ( \\n')\n",
    "    for i in range(np.shape(xAxis)[0]):\n",
    "        bMD.write('        (%.8f %.8f %.8f) \\n' %(xAxis[i], yuAxis[i]+maxY, minZ))\n",
    "    bMD.write('        ) \\n')\n",
    "    bMD.write('    spline 4 5 ( \\n')\n",
    "    for i in range(np.shape(xAxis)[0]):\n",
    "        bMD.write('        (%.8f %.8f %.8f) \\n' %(xAxis[i], ylAxis[i]+minY, maxZ))\n",
    "    bMD.write('        ) \\n')\n",
    "    bMD.write('    polyLine 7 6 ( \\n')\n",
    "    for i in range(np.shape(xAxis)[0]):\n",
    "        bMD.write('        (%.8f %.8f %.8f) \\n' %(xAxis[i], yuAxis[i]+maxY, maxZ))\n",
    "    bMD.write('        ) \\n')\n",
    "    bMD.write('); \\n')\n",
    "    bMD.write('\\n')"
   ]
  },
  {
   "cell_type": "markdown",
   "metadata": {},
   "source": [
    "# 6. Boundary \n",
    "(left empty - just meshing purposes)"
   ]
  },
  {
   "cell_type": "code",
   "execution_count": 15,
   "metadata": {},
   "outputs": [],
   "source": [
    "with open('./mesh/system/blockMeshDict', \"a\") as bMD:\n",
    "    bMD.write('boundary \\n')\n",
    "    bMD.write('( \\n')\n",
    "    bMD.write(' \\n')\n",
    "    bMD.write('); \\n')"
   ]
  },
  {
   "cell_type": "markdown",
   "metadata": {},
   "source": [
    "# 7. blockMesh and visualization"
   ]
  },
  {
   "cell_type": "code",
   "execution_count": 16,
   "metadata": {},
   "outputs": [
    {
     "name": "stdout",
     "output_type": "stream",
     "text": [
      "/*---------------------------------------------------------------------------*\\\n",
      "| =========                 |                                                 |\n",
      "| \\\\      /  F ield         | OpenFOAM: The Open Source CFD Toolbox           |\n",
      "|  \\\\    /   O peration     | Version:  5.0                                   |\n",
      "|   \\\\  /    A nd           | Web:      www.OpenFOAM.org                      |\n",
      "|    \\\\/     M anipulation  |                                                 |\n",
      "\\*---------------------------------------------------------------------------*/\n",
      "Build  : 5.0-dbb428a3a855\n",
      "Exec   : blockMesh\n",
      "Date   : Jan 26 2018\n",
      "Time   : 10:22:21\n",
      "Host   : \"lenovoYoga\"\n",
      "PID    : 11517\n",
      "I/O    : uncollated\n",
      "Case   : /home/jlobatop/Documents/Thesis/senior-thesis/mesh-generation/mesh\n",
      "nProcs : 1\n",
      "sigFpe : Enabling floating point exception trapping (FOAM_SIGFPE).\n",
      "fileModificationChecking : Monitoring run-time modified files using timeStampMaster (fileModificationSkew 10)\n",
      "allowSystemOperations : Allowing user-supplied system call operations\n",
      "\n",
      "// * * * * * * * * * * * * * * * * * * * * * * * * * * * * * * * * * * * * * //\n",
      "Create time\n",
      "\n",
      "Deleting polyMesh directory\n",
      "    \"/home/jlobatop/Documents/Thesis/senior-thesis/mesh-generation/mesh/constant/polyMesh\"\n",
      "Creating block mesh from\n",
      "    \"/home/jlobatop/Documents/Thesis/senior-thesis/mesh-generation/mesh/system/blockMeshDict\"\n",
      "Creating block edges\n",
      "No non-planar block faces defined\n",
      "Creating topology blocks\n",
      "Creating topology patches\n",
      "\n",
      "Creating block mesh topology\n",
      "--> FOAM Warning : \n",
      "    From function Foam::polyMesh::polyMesh(const Foam::IOobject&, const Foam::Xfer<Foam::Field<Foam::Vector<double> > >&, const cellShapeList&, const faceListList&, const wordList&, const Foam::PtrList<Foam::dictionary>&, const Foam::word&, const Foam::word&, bool)\n",
      "    in file meshes/polyMesh/polyMeshFromShapeMesh.C at line 871\n",
      "    Found 6 undefined faces in mesh; adding to default patch.\n",
      "\n",
      "Check topology\n",
      "\n",
      "\tBasic statistics\n",
      "\t\tNumber of internal faces : 0\n",
      "\t\tNumber of boundary faces : 6\n",
      "\t\tNumber of defined boundary faces : 6\n",
      "\t\tNumber of undefined boundary faces : 0\n",
      "\tChecking patch -> block consistency\n",
      "\n",
      "Creating block offsets\n",
      "Creating merge list .\n",
      "\n",
      "Creating polyMesh from blockMesh\n",
      "Creating patches\n",
      "Creating cells\n",
      "Creating points with scale 1\n",
      "    Block 0 cell size :\n",
      "        i : 0.000140815 .. 0.00369664\n",
      "        j : 0.002 .. 0.002\n",
      "        k : 0.01 .. 0.01\n",
      "\n",
      "\n",
      "There are no merge patch pairs edges\n",
      "\n",
      "Writing polyMesh\n",
      "----------------\n",
      "Mesh Information\n",
      "----------------\n",
      "  boundingBox: (0 -0.0523737 0) (1 0.0891974 0.01)\n",
      "  nPoints: 5522\n",
      "  nCells: 2500\n",
      "  nFaces: 10260\n",
      "  nInternalFaces: 4740\n",
      "----------------\n",
      "Patches\n",
      "----------------\n",
      "  patch 0 (start: 4740 size: 5520) name: defaultFaces\n",
      "\n",
      "End\n",
      "\n",
      "Created temporary 'mesh.OpenFOAM'\n",
      "I/O    : uncollated\n",
      "Generic Warning: In /home/ubuntu/OpenFOAM/ThirdParty-dev/ParaView-5.4.0/VTK/Rendering/Volume/vtkVolumeTextureMapper3D.cxx, line 680\n",
      "vtkVolumeTextureMapper3D::vtkVolumeTextureMapper3D was deprecated for VTK 7.0 and will be removed in a future version.\n",
      "\n",
      "Generic Warning: In /home/ubuntu/OpenFOAM/ThirdParty-dev/ParaView-5.4.0/VTK/Rendering/VolumeOpenGL/vtkOpenGLVolumeTextureMapper3D.cxx, line 57\n",
      "vtkOpenGLVolumeTextureMapper3D::vtkOpenGLVolumeTextureMapper3D was deprecated for VTK 7.0 and will be removed in a future version.\n",
      "\n"
     ]
    }
   ],
   "source": [
    "%%bash\n",
    "cd mesh/\n",
    "blockMesh\n",
    "paraFoam"
   ]
  }
 ],
 "metadata": {
  "kernelspec": {
   "display_name": "Python 3",
   "language": "python",
   "name": "python3"
  },
  "language_info": {
   "codemirror_mode": {
    "name": "ipython",
    "version": 3
   },
   "file_extension": ".py",
   "mimetype": "text/x-python",
   "name": "python",
   "nbconvert_exporter": "python",
   "pygments_lexer": "ipython3",
   "version": "3.6.1"
  }
 },
 "nbformat": 4,
 "nbformat_minor": 2
}
