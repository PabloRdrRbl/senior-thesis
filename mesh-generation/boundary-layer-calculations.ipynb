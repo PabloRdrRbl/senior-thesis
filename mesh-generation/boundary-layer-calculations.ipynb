{
 "cells": [
  {
   "cell_type": "code",
   "execution_count": 2,
   "metadata": {},
   "outputs": [],
   "source": [
    "%matplotlib inline\n",
    "import numpy as np\n",
    "import matplotlib.pyplot as plt"
   ]
  },
  {
   "cell_type": "markdown",
   "metadata": {},
   "source": [
    "## $y⁺$ and first cell calculations"
   ]
  },
  {
   "cell_type": "markdown",
   "metadata": {},
   "source": [
    "(The different equations can be found at https://www.computationalfluiddynamics.com.au/tips-tricks-cfd-estimate-first-cell-height/)"
   ]
  },
  {
   "cell_type": "markdown",
   "metadata": {},
   "source": [
    "Given the Reynolds number:\n",
    "\n",
    "$$\n",
    "Re = \\frac{\\rho U L}{\\mu}\n",
    "$$\n",
    "\n",
    "and the definition of the $y^+$ value:\n",
    "\n",
    "$$\n",
    "y^+=\\frac{\\rho U_\\tau (\\Delta y_1)}{\\mu}\n",
    "$$\n",
    "\n",
    "Including the frictional velocity:\n",
    "\n",
    "$$\n",
    "U_\\tau = \\sqrt{\\frac{\\tau_w}{\\rho}}\n",
    "$$\n",
    "\n",
    "The wall shear stress is defined as:\n",
    "\n",
    "$$\n",
    "\\tau_w = \\frac{1}{2} C_f \\rho U^2\n",
    "$$\n",
    "\n",
    "where $C_f$ is defined for different types of flow:\n",
    "\n",
    "* Internal flows: $C_f = 0.079 Re^{-0.25}$\n",
    "* External flows: $C_f = 0.058 Re^{-0.2}$\n",
    "\n",
    "Adding up everything, the resulting equation for the first cell is:\n",
    "\n",
    "$$\n",
    "\\Delta y_1 = \\frac{y^+ \\mu}{\\rho \\sqrt{0.5 \\cdot C_f U^2}}\n",
    "$$"
   ]
  },
  {
   "cell_type": "code",
   "execution_count": null,
   "metadata": {},
   "outputs": [],
   "source": [
    "target_yplus = 10\n",
    "U = 10\n",
    "L = 1\n",
    "mu = 0.00001789\n",
    "rho = 1.2\n",
    "flow = 'e' # 'i'(nternal) or 'e'(xternal)"
   ]
  },
  {
   "cell_type": "code",
   "execution_count": null,
   "metadata": {},
   "outputs": [],
   "source": [
    "Re = (rho*U*L)/(mu)\n",
    "\n",
    "if flow == 'e':\n",
    "    cf = 0.058*Re**(-0.2)\n",
    "else:\n",
    "    cf = 0.079*Re**(-0.25)\n",
    "    \n",
    "dy1 = target_yplus*mu/(rho*np.sqrt(0.5*cf*U**2))"
   ]
  },
  {
   "cell_type": "markdown",
   "metadata": {},
   "source": [
    "## Classical expansion ratio calculator"
   ]
  },
  {
   "cell_type": "markdown",
   "metadata": {},
   "source": [
    "The expansion ratio is usually defined with a geometric series:\n",
    "$$\n",
    "y_1 = a y_0 \\ ... \\ y_i = a y_{i-1}\n",
    "$$\n",
    "\n",
    "If the expansion ratio ($\\varepsilon$) and the number of layers are known, the different points of the layers can be computed."
   ]
  },
  {
   "cell_type": "code",
   "execution_count": null,
   "metadata": {},
   "outputs": [],
   "source": [
    "expansionRatio = 1.321\n",
    "NoLayers = 15"
   ]
  },
  {
   "cell_type": "code",
   "execution_count": null,
   "metadata": {},
   "outputs": [],
   "source": [
    "layerSize = dy1*np.ones(NoLayers)\n",
    "\n",
    "for i in range (1, NoLayers):\n",
    "    layerSize[i] = layerSize[i-1]*expansionRatio\n",
    "\n",
    "yCoord = np.cumsum(layerSize)"
   ]
  },
  {
   "cell_type": "code",
   "execution_count": null,
   "metadata": {
    "scrolled": true
   },
   "outputs": [],
   "source": [
    "plt.plot([0,0],[0,yCoord[NoLayers-1]],c='k')\n",
    "plt.plot([0.1*yCoord[NoLayers-1],0.1*yCoord[NoLayers-1]],[0,yCoord[NoLayers-1]],c='k')\n",
    "plt.plot([0,0.1*yCoord[NoLayers-1]],[0,0],c='k')\n",
    "for i in range(NoLayers):\n",
    "    plt.plot([0,0.1*yCoord[NoLayers-1]],[yCoord[i],yCoord[i]],c='k')\n",
    "plt.xlim([-0.08*yCoord[NoLayers-1],0.18*yCoord[NoLayers-1]])\n",
    "plt.ylim([-0.2*yCoord[NoLayers-1],1.2*yCoord[NoLayers-1]])\n",
    "plt.axis('off')"
   ]
  },
  {
   "cell_type": "markdown",
   "metadata": {},
   "source": [
    "## blockMesh boundary layer calculator"
   ]
  },
  {
   "cell_type": "markdown",
   "metadata": {},
   "source": [
    "If the whole domain number of cells and the boundary layer divisions are known, the expansion ratio and percentage distribution can be computed. Using the equations from [airfoil-parametrization/NACA_4digit.ipynb](https://github.com/jlobatop/senior-thesis/blob/master/airfoil-parametrization/NACA_4digit.ipynb \"NACA 4 digit airfoil\"):\n",
    "\n",
    "$$\n",
    "\\varepsilon = a^{N-1}\n",
    "$$"
   ]
  },
  {
   "cell_type": "code",
   "execution_count": null,
   "metadata": {},
   "outputs": [],
   "source": [
    "length = 1\n",
    "totalCells = 30 #this should be bigger than BL cells\n",
    "grid_dir = 't' # 't' (towards the surface) or 'a' (away from the surface)"
   ]
  },
  {
   "cell_type": "code",
   "execution_count": null,
   "metadata": {},
   "outputs": [],
   "source": [
    "BL_length = yCoord[-1]\n",
    "bm_expRatio = expansionRatio**(NoLayers-1)"
   ]
  },
  {
   "cell_type": "code",
   "execution_count": null,
   "metadata": {},
   "outputs": [],
   "source": [
    "if grid_dir == 't':\n",
    "    perc = np.array([BL_length/length, 1-BL_length/length])\n",
    "    cells = np.array([NoLayers/totalCells, (totalCells-NoLayers)/totalCells])\n",
    "    exp = np.array([bm_expRatio, 1])\n",
    "else:\n",
    "    perc = np.array([1-BL_length/length, BL_length/length])\n",
    "    cells = np.array([(totalCells-NoLayers)/totalCells, NoLayers/totalCells])\n",
    "    exp = np.array([1, bm_expRatio])"
   ]
  },
  {
   "cell_type": "markdown",
   "metadata": {},
   "source": [
    "## Grid distribution comprobation"
   ]
  },
  {
   "cell_type": "code",
   "execution_count": null,
   "metadata": {},
   "outputs": [],
   "source": [
    "def simple_grading(N, expRatio, L):\n",
    "    delta = np.zeros(N) #size of each cell array\n",
    "    nodes = np.zeros(N+1) #position of the nodes\n",
    "\n",
    "    kVal = expRatio**((1)/(N-1)) \n",
    "    k = np.zeros(N) #increment of each cell\n",
    "\n",
    "    for i in range(N):\n",
    "        k[i] = kVal**(i) \n",
    "\n",
    "    deltaS = L/np.sum(k)  #first cell size \n",
    "\n",
    "    delta = deltaS*k #size of each cell\n",
    "    \n",
    "    for i in range(N):\n",
    "        nodes[i+1] = nodes[i] + delta[i]\n",
    "        \n",
    "#    return nodes, delta\n",
    "    return nodes"
   ]
  },
  {
   "cell_type": "code",
   "execution_count": null,
   "metadata": {},
   "outputs": [],
   "source": [
    "def grading_plot(x): #nodes should be imported\n",
    "\n",
    "    y = 0.5*np.ones(np.shape(x)[0])\n",
    "    \n",
    "    fig, ax = plt.subplots(figsize=(20, 1), dpi=100)\n",
    "        \n",
    "    ax.set_xlim(-x[1]*0.5,1.1*x[-1])\n",
    "    ax.set_ylim(0,1)\n",
    "    ax.axis('off')\n",
    "    ax.plot([x[0],x[-1]],[y[0],y[-1]],'k')\n",
    "    ax.scatter(x,y,c='k')"
   ]
  },
  {
   "cell_type": "code",
   "execution_count": null,
   "metadata": {},
   "outputs": [],
   "source": [
    "def multi_grading(perc, cells, eps, N, L): \n",
    "    \n",
    "    #some initial shape and value comprobations\n",
    "    if np.sum(perc) != 1:\n",
    "        print('Bad percentage array input')\n",
    "        return\n",
    "\n",
    "    if np.sum(cells) != 1:\n",
    "        print('Bad cell array input')\n",
    "        return\n",
    "    \n",
    "    if np.shape(perc)[0] != np.shape(cells)[0] or np.shape(perc)[0] != np.shape(eps)[0] or np.shape(cells)[0] != np.shape(eps)[0]:\n",
    "        print('Non equal vector definition')\n",
    "        return\n",
    "        \n",
    "    segmentN = (N*cells) #cells per segment\n",
    "    restCells = np.modf(segmentN)[0] #in case there are decimal values\n",
    "    segmentN = np.trunc(segmentN) #integer value of the cells\n",
    "\n",
    "    i = np.sum(restCells) #distributor of the 'decimal' parts of the cells\n",
    "    while i > 0:\n",
    "        segmentN[np.argmax(restCells)] = segmentN[np.argmax(restCells)] + int(i)\n",
    "        restCells[np.argmax(restCells)] = 0\n",
    "        i -= 1\n",
    "   \n",
    "    segmentL = (L*perc) #length per segment\n",
    "\n",
    "    nodes = np.zeros(N+1) #number of nodes\n",
    "        \n",
    "    for i in range(np.shape(perc)[0]):\n",
    "        nodesTemp = simple_grading(int(segmentN[i]), eps[i], segmentL[i])\n",
    "        for j in range(np.shape(nodesTemp)[0]):\n",
    "            if i == 0:\n",
    "                nodes[j] = nodesTemp[j]\n",
    "            else:\n",
    "                nodes[int(np.cumsum(segmentN)[i-1]) + j] = nodesTemp[j] + nodes[int(np.cumsum(segmentN)[i-1])]\n",
    "\n",
    "    return nodes"
   ]
  },
  {
   "cell_type": "code",
   "execution_count": null,
   "metadata": {},
   "outputs": [],
   "source": [
    "grading_plot(multi_grading(perc, cells, exp, 30, 1))"
   ]
  },
  {
   "cell_type": "markdown",
   "metadata": {},
   "source": [
    "## Complete function integration"
   ]
  },
  {
   "cell_type": "code",
   "execution_count": 1,
   "metadata": {},
   "outputs": [],
   "source": [
    "def BLcalculator(target_yplus, U, L, mu, rho, flow, expansionRatio, NoLayers, length, totalCells, grid_dir):\n",
    "    Re = (rho*U*L)/(mu)\n",
    "\n",
    "    if flow == 'e':\n",
    "        cf = 0.058*Re**(-0.2)\n",
    "    else:\n",
    "        cf = 0.079*Re**(-0.25)\n",
    "\n",
    "    dy1 = target_yplus*mu/(rho*np.sqrt(0.5*cf*U**2))\n",
    "    \n",
    "    layerSize = dy1*np.ones(NoLayers)\n",
    "\n",
    "    for i in range (1, NoLayers):\n",
    "        layerSize[i] = layerSize[i-1]*expansionRatio\n",
    "\n",
    "    yCoord = np.cumsum(layerSize)\n",
    "    \n",
    "    BL_length = yCoord[-1]\n",
    "    bm_expRatio = expansionRatio**(NoLayers-1)\n",
    "    \n",
    "    if grid_dir == 't':\n",
    "        perc = np.array([BL_length/length, 1-BL_length/length])\n",
    "        cells = np.array([NoLayers/totalCells, (totalCells-NoLayers)/totalCells])\n",
    "        exp = np.array([bm_expRatio, 1])\n",
    "    else:\n",
    "        perc = np.array([1-BL_length/length, BL_length/length])\n",
    "        cells = np.array([(totalCells-NoLayers)/totalCells, NoLayers/totalCells])\n",
    "        exp = np.array([1, bm_expRatio])\n",
    "    \n",
    "    return perc, cells, exp"
   ]
  }
 ],
 "metadata": {
  "kernelspec": {
   "display_name": "Python 3",
   "language": "python",
   "name": "python3"
  },
  "language_info": {
   "codemirror_mode": {
    "name": "ipython",
    "version": 3
   },
   "file_extension": ".py",
   "mimetype": "text/x-python",
   "name": "python",
   "nbconvert_exporter": "python",
   "pygments_lexer": "ipython3",
   "version": "3.6.1"
  }
 },
 "nbformat": 4,
 "nbformat_minor": 2
}
