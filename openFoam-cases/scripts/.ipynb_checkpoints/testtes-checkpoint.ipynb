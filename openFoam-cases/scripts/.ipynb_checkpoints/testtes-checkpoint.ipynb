{
 "cells": [
  {
   "cell_type": "code",
   "execution_count": 1,
   "metadata": {},
   "outputs": [],
   "source": [
    "from tqdm import tqdm\n",
    "import time\n",
    "import os\n",
    "import numpy as np\n"
   ]
  },
  {
   "cell_type": "code",
   "execution_count": 24,
   "metadata": {},
   "outputs": [],
   "source": [
    "i = 1\n",
    "j = 1\n",
    "analysisType = 'transisent'"
   ]
  },
  {
   "cell_type": "code",
   "execution_count": 26,
   "metadata": {},
   "outputs": [
    {
     "name": "stdout",
     "output_type": "stream",
     "text": [
      "\u001b[0;33mError in analysisType\u001b[0m\n"
     ]
    }
   ],
   "source": [
    "for cFolder in os.listdir('case'):\n",
    "    if analysisType == 'transient':\n",
    "        if str.isnumeric(cFolder):\n",
    "#             os.system(\"cp ./case/%i ./generation%i/ind%i/sim/%i\" %(int(cFolder),i,j,int(cFolder)))\n",
    "            print(\"cp ./case/%i ./generation%i/ind%i/sim/%i\" %(int(cFolder),i,j,int(cFolder)))\n",
    "    elif analysisType == 'steady':\n",
    "        if str.isnumeric(cFolder):\n",
    "            numFolder.append(int(cFolder))\n",
    "    else:\n",
    "#         print_tqdm('\\033[0;33mError in analysisType\\033[0m') \n",
    "        print('\\033[0;33mError in analysisType\\033[0m') \n",
    "        break\n",
    "\n",
    "if analysisType == 'steady':\n",
    "#     os.system(\"cp ./case/%i ./generation%i/ind%i/sim/%i\" %(min(numFolder),i,j,min(numFolder)))\n",
    "#     os.system(\"cp ./case/%i ./generation%i/ind%i/sim/%i\" %(max(numFolder),i,j,max(numFolder)))\n",
    "    print(\"cp ./case/%i ./generation%i/ind%i/sim/%i\" %(min(numFolder),i,j,min(numFolder)))    \n",
    "    print(\"cp ./case/%i ./generation%i/ind%i/sim/%i\" %(max(numFolder),i,j,max(numFolder)))    "
   ]
  }
 ],
 "metadata": {
  "kernelspec": {
   "display_name": "Python 3",
   "language": "python",
   "name": "python3"
  },
  "language_info": {
   "codemirror_mode": {
    "name": "ipython",
    "version": 3
   },
   "file_extension": ".py",
   "mimetype": "text/x-python",
   "name": "python",
   "nbconvert_exporter": "python",
   "pygments_lexer": "ipython3",
   "version": "3.6.1"
  }
 },
 "nbformat": 4,
 "nbformat_minor": 2
}
